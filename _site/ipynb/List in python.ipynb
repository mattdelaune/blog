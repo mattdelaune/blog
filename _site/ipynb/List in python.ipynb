{
 "cells": [
  {
   "cell_type": "markdown",
   "metadata": {},
   "source": [
    "So far, we have seen one sequence data type which is the string data type. Python has 6 additional built-in sequence data type. In this and the upcoming posts, we will discuss 3 of them which are the lists, tuple and range and see their functions."
   ]
  },
  {
   "cell_type": "markdown",
   "metadata": {},
   "source": [
    "let's see how we can use a built-in function to a sequence data type to actually make our code more readable."
   ]
  },
  {
   "cell_type": "markdown",
   "metadata": {},
   "source": [
    "we will use the example of the valid IP address checker from the previous post, this time instead of having a counter of the dot character we can actually use a built-in operator that does the same."
   ]
  },
  {
   "cell_type": "code",
   "execution_count": 1,
   "metadata": {},
   "outputs": [
    {
     "name": "stdout",
     "output_type": "stream",
     "text": [
      "Please enter an IP address: 127.0.0.1\n"
     ]
    }
   ],
   "source": [
    "ip_address = input(\"Please enter an IP address: \")"
   ]
  },
  {
   "cell_type": "code",
   "execution_count": 2,
   "metadata": {},
   "outputs": [
    {
     "name": "stdout",
     "output_type": "stream",
     "text": [
      "We have 3 dots in this ip address\n"
     ]
    }
   ],
   "source": [
    "dot_count = ip_address.count(\".\")\n",
    "print(\"We have {} dots in this ip address\".format(dot_count))"
   ]
  },
  {
   "cell_type": "markdown",
   "metadata": {},
   "source": [
    "Count function returns the number of dots found in the ip_address variable. This function has done all the work of traversing the string, count one by one all the dot characters found and stored the count in the dot_count variable. This is a concise and readable way to write code."
   ]
  },
  {
   "cell_type": "markdown",
   "metadata": {},
   "source": [
    "### List"
   ]
  },
  {
   "cell_type": "markdown",
   "metadata": {},
   "source": [
    "We have been introduced to list in the previous posts. Let's explain it in details, a list is a collection of objects like variables, functions and classes placed in a container. A list has a number of functions that act upon the elements of a list.\n",
    "\n",
    "Remember in Python everything you write is an object and think of a list as a container of any type of object. Since a list can contain a string which is by itself a sequence data type this means that a list can also contain other lists, in other words, we can have a container of containers."
   ]
  },
  {
   "cell_type": "markdown",
   "metadata": {},
   "source": [
    "let's illustrate this"
   ]
  },
  {
   "cell_type": "code",
   "execution_count": 3,
   "metadata": {},
   "outputs": [
    {
     "name": "stdout",
     "output_type": "stream",
     "text": [
      "Now we are in Karuzi\n",
      "Now we are in Rutana\n",
      "Now we are in Bururi\n",
      "Now we are in Makamba\n",
      "Now we are in Ruyigi\n"
     ]
    }
   ],
   "source": [
    "burundi_provinces = [\"Karuzi\",\"Rutana\",\"Bururi\",\"Makamba\",\"Ruyigi\"]\n",
    "for province in burundi_provinces:\n",
    "    print(\"Now we are in {}\".format(province))"
   ]
  },
  {
   "cell_type": "markdown",
   "metadata": {},
   "source": [
    "We have a sequence of provinces found in Burundi and are stored in a list. The for loop will traverse the list and print each element in the list one by one."
   ]
  },
  {
   "cell_type": "markdown",
   "metadata": {},
   "source": [
    "Now let's see when we have a list of lists"
   ]
  },
  {
   "cell_type": "code",
   "execution_count": 4,
   "metadata": {},
   "outputs": [],
   "source": [
    "world_countries = [[\"Angola\",\"DRC\",\"Burundi\",\"Rwanda\"],[\"Spain\",\"Italy\",\"France\",\"UK\"],[\"China\",\"India\",\"Korea\"]]"
   ]
  },
  {
   "cell_type": "markdown",
   "metadata": {},
   "source": [
    "We have a list that contains different countries around the world. These countries are grouped in another list depending on which continent they belong to"
   ]
  },
  {
   "cell_type": "code",
   "execution_count": 5,
   "metadata": {},
   "outputs": [
    {
     "name": "stdout",
     "output_type": "stream",
     "text": [
      "['Angola', 'DRC', 'Burundi', 'Rwanda']\n",
      "['Spain', 'Italy', 'France', 'UK']\n",
      "['China', 'India', 'Korea']\n"
     ]
    }
   ],
   "source": [
    "for continent in world_countries:\n",
    "    print(continent)"
   ]
  },
  {
   "cell_type": "markdown",
   "metadata": {},
   "source": [
    "looping through the list world_countries, all the lists found will be printed."
   ]
  },
  {
   "cell_type": "markdown",
   "metadata": {},
   "source": [
    "We can print the countries one by one using a nested for loop and separate the countries that belong to the same continent with space."
   ]
  },
  {
   "cell_type": "code",
   "execution_count": 6,
   "metadata": {},
   "outputs": [
    {
     "name": "stdout",
     "output_type": "stream",
     "text": [
      "Angola\n",
      "DRC\n",
      "Burundi\n",
      "Rwanda\n",
      "\n",
      "Spain\n",
      "Italy\n",
      "France\n",
      "UK\n",
      "\n",
      "China\n",
      "India\n",
      "Korea\n",
      "\n"
     ]
    }
   ],
   "source": [
    "for continent in world_countries:\n",
    "    for country in continent:\n",
    "        print(country)\n",
    "    print()"
   ]
  },
  {
   "cell_type": "markdown",
   "metadata": {},
   "source": [
    "we can concatenate two lists together using the addition operator."
   ]
  },
  {
   "cell_type": "code",
   "execution_count": 7,
   "metadata": {},
   "outputs": [],
   "source": [
    "even = [2,4,6,8]\n",
    "odd = [1,3,5,7]\n",
    "numbers = even + odd"
   ]
  },
  {
   "cell_type": "code",
   "execution_count": 8,
   "metadata": {},
   "outputs": [
    {
     "name": "stdout",
     "output_type": "stream",
     "text": [
      "[2, 4, 6, 8, 1, 3, 5, 7]\n"
     ]
    }
   ],
   "source": [
    "print(numbers)"
   ]
  },
  {
   "cell_type": "markdown",
   "metadata": {},
   "source": [
    "### List Functions"
   ]
  },
  {
   "cell_type": "markdown",
   "metadata": {},
   "source": [
    "The same way we have the format function for the string data type, we have different functions\n",
    "for the list data type as well."
   ]
  },
  {
   "cell_type": "markdown",
   "metadata": {},
   "source": [
    "#### Sort function"
   ]
  },
  {
   "cell_type": "markdown",
   "metadata": {},
   "source": [
    "The sort function will sort a list in numerical or alphabetical order. "
   ]
  },
  {
   "cell_type": "code",
   "execution_count": 9,
   "metadata": {},
   "outputs": [
    {
     "name": "stdout",
     "output_type": "stream",
     "text": [
      "[1, 2, 3, 4, 5, 6, 7, 8]\n"
     ]
    }
   ],
   "source": [
    "numbers.sort()\n",
    "print(numbers)"
   ]
  },
  {
   "cell_type": "code",
   "execution_count": 10,
   "metadata": {},
   "outputs": [
    {
     "name": "stdout",
     "output_type": "stream",
     "text": [
      "None\n"
     ]
    }
   ],
   "source": [
    "print(numbers.sort())"
   ]
  },
  {
   "cell_type": "markdown",
   "metadata": {},
   "source": [
    "sort( ) function does not create a new list it performs an action on the current list permanently, therefore, it will return None. These kinds of functions are called in-place functions."
   ]
  },
  {
   "cell_type": "markdown",
   "metadata": {},
   "source": [
    "There is another function that sorts a list but instead of returning None, it will create a new sorted list and keep the original list untouched."
   ]
  },
  {
   "cell_type": "code",
   "execution_count": 11,
   "metadata": {},
   "outputs": [],
   "source": [
    "numbers_2 = [99,22,1,3,77,3,5,23,51,35,133]\n",
    "ordered_list = sorted(numbers_2)"
   ]
  },
  {
   "cell_type": "code",
   "execution_count": 12,
   "metadata": {},
   "outputs": [
    {
     "name": "stdout",
     "output_type": "stream",
     "text": [
      "[1, 3, 3, 5, 22, 23, 35, 51, 77, 99, 133]\n",
      "[99, 22, 1, 3, 77, 3, 5, 23, 51, 35, 133]\n"
     ]
    }
   ],
   "source": [
    "print(ordered_list)\n",
    "print(numbers_2)"
   ]
  },
  {
   "cell_type": "markdown",
   "metadata": {},
   "source": [
    "sorted( ) function will sort the list but the difference between the sort and the sorted function is that sorted function will create a new list that can be stored in a variable or directly printed. The original list(numbers_2 in this example) will remain unchanged."
   ]
  },
  {
   "cell_type": "markdown",
   "metadata": {},
   "source": [
    "We can compare the two lists using the two type of sorting and verify if they are equal."
   ]
  },
  {
   "cell_type": "code",
   "execution_count": 13,
   "metadata": {},
   "outputs": [
    {
     "name": "stdout",
     "output_type": "stream",
     "text": [
      "They are equal\n"
     ]
    }
   ],
   "source": [
    "numbers_2.sort()\n",
    "if ordered_list == numbers_2:\n",
    "    print(\"They are equal\")\n",
    "else:\n",
    "    print(\"They are not equal\")"
   ]
  },
  {
   "cell_type": "markdown",
   "metadata": {},
   "source": [
    "#### Append function"
   ]
  },
  {
   "cell_type": "markdown",
   "metadata": {},
   "source": [
    "we add an element at the end of a list using the append function."
   ]
  },
  {
   "cell_type": "code",
   "execution_count": 14,
   "metadata": {},
   "outputs": [
    {
     "name": "stdout",
     "output_type": "stream",
     "text": [
      "Now we are in Karuzi\n",
      "Now we are in Rutana\n",
      "Now we are in Bururi\n",
      "Now we are in Makamba\n",
      "Now we are in Ruyigi\n",
      "Now we are in Cibitoke\n"
     ]
    }
   ],
   "source": [
    "burundi_provinces = [\"Karuzi\",\"Rutana\",\"Bururi\",\"Makamba\",\"Ruyigi\"]\n",
    "burundi_provinces.append(\"Cibitoke\")\n",
    "for province in burundi_provinces:\n",
    "    print(\"Now we are in {}\".format(province))"
   ]
  },
  {
   "cell_type": "markdown",
   "metadata": {},
   "source": [
    "\"Cibitoke\" was added at the end of the list, which means that when we loop through the list \"Cibitoke\" shall be printed at the end."
   ]
  },
  {
   "cell_type": "markdown",
   "metadata": {},
   "source": [
    "#### Insert function"
   ]
  },
  {
   "cell_type": "markdown",
   "metadata": {},
   "source": [
    "We have seen that the append function add an element at the end of a list, but what if we don't want the element to be added not at the end but instead somewhere else in the list. That is when the Insert function comes in handy. Insert is like the append function, but the only difference is that we can insert an element at a specific index of our choice in the list."
   ]
  },
  {
   "cell_type": "code",
   "execution_count": 15,
   "metadata": {},
   "outputs": [
    {
     "name": "stdout",
     "output_type": "stream",
     "text": [
      "Now we are in Makamba\n",
      "Now we are in Karuzi\n",
      "Now we are in Rutana\n",
      "Now we are in Bururi\n",
      "Now we are in Makamba\n",
      "Now we are in Ruyigi\n",
      "Now we are in Cibitoke\n"
     ]
    }
   ],
   "source": [
    "burundi_provinces.insert(0,\"Makamba\")\n",
    "for province in burundi_provinces:\n",
    "    print(\"Now we are in {}\".format(province))"
   ]
  },
  {
   "cell_type": "markdown",
   "metadata": {},
   "source": [
    "\"Makamba\" has been added to the list at the beginning of the list because of the first parameter (input in function) in the insert function was 0, which corresponds to the first index in a list."
   ]
  },
  {
   "cell_type": "markdown",
   "metadata": {},
   "source": [
    "Now let's say we want to add a new element to the list, this time the element will be placed between \"Rutana\" which is at index 2 and \"Bururi\" which is at index 3."
   ]
  },
  {
   "cell_type": "code",
   "execution_count": 16,
   "metadata": {},
   "outputs": [
    {
     "name": "stdout",
     "output_type": "stream",
     "text": [
      "Now we are in Makamba\n",
      "Now we are in Karuzi\n",
      "Now we are in Rutana\n",
      "Now we are in Cankuzo\n",
      "Now we are in Bururi\n",
      "Now we are in Makamba\n",
      "Now we are in Ruyigi\n",
      "Now we are in Cibitoke\n"
     ]
    }
   ],
   "source": [
    "burundi_provinces.insert(3,\"Cankuzo\")\n",
    "for province in burundi_provinces:\n",
    "    print(\"Now we are in {}\".format(province))"
   ]
  },
  {
   "cell_type": "markdown",
   "metadata": {},
   "source": [
    "\"Cankuzo\" has taken the place of \"Bururi\" and \"Bururi\" has been shifted to index 4."
   ]
  },
  {
   "cell_type": "markdown",
   "metadata": {},
   "source": [
    "#### extend function"
   ]
  },
  {
   "cell_type": "markdown",
   "metadata": {},
   "source": [
    "As we have already seen, append and insert add a new element to the list. But we can also add a list to a list and have a container of containers."
   ]
  },
  {
   "cell_type": "code",
   "execution_count": 17,
   "metadata": {},
   "outputs": [
    {
     "name": "stdout",
     "output_type": "stream",
     "text": [
      "Now we are in Makamba\n",
      "Now we are in Karuzi\n",
      "Now we are in Rutana\n",
      "Now we are in ['Kirundo', 'Ngozi', 'Kayanza']\n",
      "Now we are in Cankuzo\n",
      "Now we are in Bururi\n",
      "Now we are in Makamba\n",
      "Now we are in Ruyigi\n",
      "Now we are in Cibitoke\n"
     ]
    }
   ],
   "source": [
    "northern_provinces = [\"Kirundo\",\"Ngozi\",\"Kayanza\"]\n",
    "burundi_provinces.insert(3,northern_provinces)\n",
    "for province in burundi_provinces:\n",
    "    print(\"Now we are in {}\".format(province))"
   ]
  },
  {
   "cell_type": "code",
   "execution_count": 18,
   "metadata": {},
   "outputs": [
    {
     "name": "stdout",
     "output_type": "stream",
     "text": [
      "['Makamba', 'Karuzi', 'Rutana', ['Kirundo', 'Ngozi', 'Kayanza'], 'Cankuzo', 'Bururi', 'Makamba', 'Ruyigi', 'Cibitoke']\n"
     ]
    }
   ],
   "source": [
    "print(burundi_provinces)"
   ]
  },
  {
   "cell_type": "markdown",
   "metadata": {},
   "source": [
    "We can see that the list of the northern provinces has been added to burundi_provinces. But now what if instead for adding the list, there was a merge between the two lists into one."
   ]
  },
  {
   "cell_type": "code",
   "execution_count": 21,
   "metadata": {},
   "outputs": [
    {
     "name": "stdout",
     "output_type": "stream",
     "text": [
      "Now we are in Makamba\n",
      "Now we are in Karuzi\n",
      "Now we are in Rutana\n",
      "Now we are in Cankuzo\n",
      "Now we are in Bururi\n",
      "Now we are in Makamba\n",
      "Now we are in Ruyigi\n",
      "Now we are in Cibitoke\n",
      "Now we are in Kirundo\n",
      "Now we are in Ngozi\n",
      "Now we are in Kayanza\n"
     ]
    }
   ],
   "source": [
    "northern_provinces = [\"Kirundo\",\"Ngozi\",\"Kayanza\"]\n",
    "burundi_provinces.extend(northern_provinces)\n",
    "for province in burundi_provinces:\n",
    "    print(\"Now we are in {}\".format(province))"
   ]
  },
  {
   "cell_type": "code",
   "execution_count": 22,
   "metadata": {},
   "outputs": [
    {
     "name": "stdout",
     "output_type": "stream",
     "text": [
      "['Makamba', 'Karuzi', 'Rutana', 'Cankuzo', 'Bururi', 'Makamba', 'Ruyigi', 'Cibitoke', 'Kirundo', 'Ngozi', 'Kayanza']\n"
     ]
    }
   ],
   "source": [
    "print(burundi_provinces)"
   ]
  },
  {
   "cell_type": "markdown",
   "metadata": {},
   "source": [
    "For this round, we have merged the elements from northern_provinces into burundi_provinces using the extend function."
   ]
  },
  {
   "cell_type": "markdown",
   "metadata": {},
   "source": [
    "#### delete keyword"
   ]
  },
  {
   "cell_type": "markdown",
   "metadata": {},
   "source": [
    "Now that we have seen how to add an element to a list, let's how we can delete it from a list."
   ]
  },
  {
   "cell_type": "markdown",
   "metadata": {},
   "source": [
    "let's say we want to remove \"Rutana\" from the list which is at index 2"
   ]
  },
  {
   "cell_type": "code",
   "execution_count": 24,
   "metadata": {},
   "outputs": [],
   "source": [
    "del burundi_provinces[2]"
   ]
  },
  {
   "cell_type": "code",
   "execution_count": 25,
   "metadata": {},
   "outputs": [
    {
     "name": "stdout",
     "output_type": "stream",
     "text": [
      "['Makamba', 'Karuzi', 'Cankuzo', 'Bururi', 'Makamba', 'Ruyigi', 'Cibitoke', 'Kirundo', 'Ngozi', 'Kayanza']\n"
     ]
    }
   ],
   "source": [
    "print(burundi_provinces)"
   ]
  },
  {
   "cell_type": "markdown",
   "metadata": {},
   "source": [
    "\"Rutana\" has been removed from the list using the del keyword which stands for delete followed by burundi_province[2] which will return \"Rutana\" since it is the element at that specific index and delete it."
   ]
  },
  {
   "cell_type": "markdown",
   "metadata": {},
   "source": [
    "#### remove function"
   ]
  },
  {
   "cell_type": "markdown",
   "metadata": {},
   "source": [
    "Sometimes we might have an occurrence of element multiple times in a list. In order to delete the first occurrence of that element, we use the remove function."
   ]
  },
  {
   "cell_type": "markdown",
   "metadata": {},
   "source": [
    "let's append \"Karuzi\" again in the list."
   ]
  },
  {
   "cell_type": "code",
   "execution_count": 26,
   "metadata": {},
   "outputs": [],
   "source": [
    "burundi_provinces.append(\"Karuzi\")"
   ]
  },
  {
   "cell_type": "code",
   "execution_count": 27,
   "metadata": {},
   "outputs": [
    {
     "name": "stdout",
     "output_type": "stream",
     "text": [
      "['Makamba', 'Karuzi', 'Cankuzo', 'Bururi', 'Makamba', 'Ruyigi', 'Cibitoke', 'Kirundo', 'Ngozi', 'Kayanza', 'Karuzi']\n"
     ]
    }
   ],
   "source": [
    "print(burundi_provinces)"
   ]
  },
  {
   "cell_type": "markdown",
   "metadata": {},
   "source": [
    "\"Karuzi\" is at index 1 and at index 10, the remove function will delete the first occurrence of \"Karuzi\" in the list."
   ]
  },
  {
   "cell_type": "code",
   "execution_count": 28,
   "metadata": {},
   "outputs": [],
   "source": [
    "burundi_provinces.remove(\"Karuzi\")"
   ]
  },
  {
   "cell_type": "code",
   "execution_count": 29,
   "metadata": {},
   "outputs": [
    {
     "name": "stdout",
     "output_type": "stream",
     "text": [
      "['Makamba', 'Cankuzo', 'Bururi', 'Makamba', 'Ruyigi', 'Cibitoke', 'Kirundo', 'Ngozi', 'Kayanza', 'Karuzi']\n"
     ]
    }
   ],
   "source": [
    "print(burundi_provinces)"
   ]
  },
  {
   "cell_type": "markdown",
   "metadata": {},
   "source": [
    "Now we can see that Karuzi at index 1 has been removed, and if we execute again the remove function with \"Karuzi\" as the parameter, it will search in the list from left to the right and delete any occurrence of the element in the list."
   ]
  },
  {
   "cell_type": "markdown",
   "metadata": {},
   "source": [
    "#### pop function"
   ]
  },
  {
   "cell_type": "markdown",
   "metadata": {},
   "source": [
    "the pop function takes as a parameter the index of the element to delete and return the deleted element."
   ]
  },
  {
   "cell_type": "code",
   "execution_count": 30,
   "metadata": {},
   "outputs": [],
   "source": [
    "province_deleted = burundi_provinces.pop(4)"
   ]
  },
  {
   "cell_type": "code",
   "execution_count": 31,
   "metadata": {},
   "outputs": [
    {
     "name": "stdout",
     "output_type": "stream",
     "text": [
      "Ruyigi\n"
     ]
    }
   ],
   "source": [
    "print(province_deleted)"
   ]
  },
  {
   "cell_type": "code",
   "execution_count": 32,
   "metadata": {},
   "outputs": [
    {
     "name": "stdout",
     "output_type": "stream",
     "text": [
      "['Makamba', 'Cankuzo', 'Bururi', 'Makamba', 'Cibitoke', 'Kirundo', 'Ngozi', 'Kayanza', 'Karuzi']\n"
     ]
    }
   ],
   "source": [
    "print(burundi_provinces)"
   ]
  },
  {
   "cell_type": "markdown",
   "metadata": {},
   "source": [
    "The element at index 4 which \"Ruyigi\" have been deleted from the list and was returned and stored in the province_deleted variable that we can print."
   ]
  },
  {
   "cell_type": "markdown",
   "metadata": {},
   "source": [
    "We could also print it straight away after deleting and returning the element."
   ]
  },
  {
   "cell_type": "code",
   "execution_count": 33,
   "metadata": {},
   "outputs": [
    {
     "name": "stdout",
     "output_type": "stream",
     "text": [
      "Kirundo\n"
     ]
    }
   ],
   "source": [
    "print(burundi_provinces.pop(5))"
   ]
  },
  {
   "cell_type": "markdown",
   "metadata": {},
   "source": [
    "\"Kirundo\" was deleted from the list and printed."
   ]
  },
  {
   "cell_type": "markdown",
   "metadata": {},
   "source": [
    "### List features"
   ]
  },
  {
   "cell_type": "markdown",
   "metadata": {},
   "source": [
    "We can initialize an empty in two different ways. The purpose of initializing an empty list is to contain elements that we don't know initially."
   ]
  },
  {
   "cell_type": "code",
   "execution_count": 36,
   "metadata": {},
   "outputs": [],
   "source": [
    "list_1 = []\n",
    "list_2 = list()"
   ]
  },
  {
   "cell_type": "code",
   "execution_count": 37,
   "metadata": {},
   "outputs": [
    {
     "name": "stdout",
     "output_type": "stream",
     "text": [
      "list 1 []\n",
      "list 2 []\n"
     ]
    }
   ],
   "source": [
    "print(\"list 1 {}\".format(list_1))\n",
    "print(\"list 2 {}\".format(list_2))"
   ]
  },
  {
   "cell_type": "markdown",
   "metadata": {},
   "source": [
    "let's compare them and see if they are equal."
   ]
  },
  {
   "cell_type": "code",
   "execution_count": 39,
   "metadata": {},
   "outputs": [
    {
     "name": "stdout",
     "output_type": "stream",
     "text": [
      "They are equal\n"
     ]
    }
   ],
   "source": [
    "if list_1 == list_2:\n",
    "    print(\"They are equal\")\n",
    "else:\n",
    "    print(\"They are not equal\")"
   ]
  },
  {
   "cell_type": "markdown",
   "metadata": {},
   "source": [
    "Yep! they are equal"
   ]
  },
  {
   "cell_type": "markdown",
   "metadata": {},
   "source": [
    "We can either declare a list using [ ] or using list( ) which is called a constructor. A constructor basically means that we are initializing a list object in memory. We will go in details about constructor when we will learn about classes."
   ]
  },
  {
   "cell_type": "markdown",
   "metadata": {},
   "source": [
    "Now let's check if the lists occupy the same spot in memory."
   ]
  },
  {
   "cell_type": "code",
   "execution_count": 42,
   "metadata": {},
   "outputs": [
    {
     "name": "stdout",
     "output_type": "stream",
     "text": [
      "They are not located at the same place in memory\n"
     ]
    }
   ],
   "source": [
    "if list_1 is list_2:\n",
    "    print(\"They are located at the same place in memory\")\n",
    "else:\n",
    "    print(\"They are not located at the same place in memory\")"
   ]
  },
  {
   "cell_type": "markdown",
   "metadata": {},
   "source": [
    "Well using the \"is\" keyword, we can see that the two lists are stored into two different places in the computer memory."
   ]
  },
  {
   "cell_type": "markdown",
   "metadata": {},
   "source": [
    "So now the question is when to use the constructor form or the bracket form. Well, choose any form you feel comfortable with since both forms do exactly the same thing."
   ]
  },
  {
   "cell_type": "markdown",
   "metadata": {},
   "source": [
    "But there is one advantage of using the constructor form. This form helps us to traverse and print any sequential data type (also called iterable) without using a loop statement like this"
   ]
  },
  {
   "cell_type": "code",
   "execution_count": 44,
   "metadata": {},
   "outputs": [
    {
     "name": "stdout",
     "output_type": "stream",
     "text": [
      "['T', 'h', 'i', 's', ' ', 'w', 'i', 'l', 'l', ' ', 'p', 'r', 'i', 'n', 't', ' ', 'a', 'l', 'l', ' ', 't', 'h', 'e', ' ', 'c', 'h', 'a', 'r', 'a', 'c', 't', 'e', 'r', 's', ' ', 'o', 'n', 'e', ' ', 'b', 'y', ' ', 'o', 'n', 'e']\n"
     ]
    }
   ],
   "source": [
    "print(list(\"This will print all the characters one by one\"))"
   ]
  },
  {
   "cell_type": "markdown",
   "metadata": {},
   "source": [
    "Think of this notation as casting a string data type into a list data type."
   ]
  },
  {
   "cell_type": "markdown",
   "metadata": {},
   "source": [
    "Let's see another example"
   ]
  },
  {
   "cell_type": "code",
   "execution_count": 8,
   "metadata": {},
   "outputs": [],
   "source": [
    "random_num = [33,17,44,6,244,60,55,23,44,13,22,66]\n",
    "random_num_2= random_num\n",
    "random_num_2.sort(reverse=True)"
   ]
  },
  {
   "cell_type": "code",
   "execution_count": 9,
   "metadata": {},
   "outputs": [
    {
     "name": "stdout",
     "output_type": "stream",
     "text": [
      "[244, 66, 60, 55, 44, 44, 33, 23, 22, 17, 13, 6]\n",
      "[244, 66, 60, 55, 44, 44, 33, 23, 22, 17, 13, 6]\n"
     ]
    }
   ],
   "source": [
    "print(random_num_2)\n",
    "print(random_num)"
   ]
  },
  {
   "cell_type": "markdown",
   "metadata": {},
   "source": [
    "Surprised? huh? let me explain what is happening here, we have assigned random_num to random_num_2 and then we have sorted random_num_2 in a reversed order by using reverse=True as a parameter in the sort function. Now comes the confusing part, when we print we print the random_num_2 we can see that the list is now reversed as expected, but when we print random_num we also found out that it is also reversed? but why?\n",
    "\n",
    "well, the answer is that random_num and random_num_2 are pointing to the same list in a computer memory, so any function that is applied to the list affects random_num and random_num_2 since they basically refer to the same object. "
   ]
  },
  {
   "cell_type": "markdown",
   "metadata": {},
   "source": [
    "Let's test again using the \"is\" keyword to see they refer to the same list in memory."
   ]
  },
  {
   "cell_type": "code",
   "execution_count": 4,
   "metadata": {},
   "outputs": [
    {
     "name": "stdout",
     "output_type": "stream",
     "text": [
      "The two variables refer to the same objects in memory\n"
     ]
    }
   ],
   "source": [
    "if random_num is random_num_2:\n",
    "    print(\"The two variables refer to the same objects in memory\")\n",
    "else:\n",
    "    print(\"The two variables do not refer to the same objects in memory\")"
   ]
  },
  {
   "cell_type": "markdown",
   "metadata": {},
   "source": [
    "Now lets test again the two lists but this time we will assign random_num_2 using a constructor."
   ]
  },
  {
   "cell_type": "code",
   "execution_count": 10,
   "metadata": {},
   "outputs": [
    {
     "name": "stdout",
     "output_type": "stream",
     "text": [
      "[244, 66, 60, 55, 44, 44, 33, 23, 22, 17, 13, 6]\n"
     ]
    }
   ],
   "source": [
    "random_num_2 = list(random_num)\n",
    "print(random_num_2)"
   ]
  },
  {
   "cell_type": "code",
   "execution_count": 6,
   "metadata": {},
   "outputs": [
    {
     "name": "stdout",
     "output_type": "stream",
     "text": [
      "The two variables do not refer to the same objects in memory\n"
     ]
    }
   ],
   "source": [
    "if random_num is random_num_2:\n",
    "    print(\"The two variables refer to the same objects in memory\")\n",
    "else:\n",
    "    print(\"The two variables do not refer to the same objects in memory\")"
   ]
  },
  {
   "cell_type": "markdown",
   "metadata": {},
   "source": [
    "Even though the two lists have the same elements arranged in the same reversed order, the two lists don't refer to the same list in memory. random_num_2 points to its own list and random_num points to another one."
   ]
  },
  {
   "cell_type": "code",
   "execution_count": 7,
   "metadata": {},
   "outputs": [
    {
     "name": "stdout",
     "output_type": "stream",
     "text": [
      "The two variables have the same elemets and arranged in the same order\n"
     ]
    }
   ],
   "source": [
    "if random_num == random_num_2:\n",
    "    print(\"The two variables have the same elemets and arranged in the same order\")\n",
    "else:\n",
    "    print(\"The two variables don't have the same elemets and are not arranged in the same order\")"
   ]
  },
  {
   "cell_type": "markdown",
   "metadata": {},
   "source": [
    "The same thing will happen when using the sorted function."
   ]
  },
  {
   "cell_type": "code",
   "execution_count": 11,
   "metadata": {},
   "outputs": [],
   "source": [
    "random_num_2 = sorted(random_num,reverse=True)"
   ]
  },
  {
   "cell_type": "code",
   "execution_count": 12,
   "metadata": {},
   "outputs": [
    {
     "name": "stdout",
     "output_type": "stream",
     "text": [
      "The two variables do not refer to the same objects in memory\n"
     ]
    }
   ],
   "source": [
    "if random_num is random_num_2:\n",
    "    print(\"The two variables refer to the same objects in memory\")\n",
    "else:\n",
    "    print(\"The two variables do not refer to the same objects in memory\")"
   ]
  },
  {
   "cell_type": "code",
   "execution_count": 13,
   "metadata": {},
   "outputs": [
    {
     "name": "stdout",
     "output_type": "stream",
     "text": [
      "The two variables have the same elemets and arranged in the same order\n"
     ]
    }
   ],
   "source": [
    "if random_num == random_num_2:\n",
    "    print(\"The two variables have the same elemets and arranged in the same order\")\n",
    "else:\n",
    "    print(\"The two variables don't have the same elemets and are not arranged in the same order\")"
   ]
  },
  {
   "cell_type": "markdown",
   "metadata": {},
   "source": [
    "No surprise here since the two lists have the same elements arranged in the same manner."
   ]
  },
  {
   "cell_type": "markdown",
   "metadata": {},
   "source": [
    "### Challenge"
   ]
  },
  {
   "cell_type": "markdown",
   "metadata": {},
   "source": [
    "For this challenge, we will have a list that contains lists of ingredients. These lists of ingredients will be added to the list then print all the ingredients that doesn't contain a specific unwanted ingredient. for eg, let's say that we don't want \"nuts\" as ingredient, the program shall print all the list elements that does not have \"nuts\" in it. While printing, we shall have a count of each element."
   ]
  },
  {
   "cell_type": "markdown",
   "metadata": {},
   "source": [
    "### Challenge solution"
   ]
  },
  {
   "cell_type": "code",
   "execution_count": null,
   "metadata": {},
   "outputs": [
    {
     "name": "stdout",
     "output_type": "stream",
     "text": [
      "element 1 is cabbage\n",
      "element 2 is bread\n",
      "element 3 is banana\n",
      "element 4 is carots\n",
      "\n",
      "element 1 is meat\n",
      "element 2 is sukuma\n",
      "element 3 is ugali\n",
      "\n"
     ]
    }
   ],
   "source": [
    "meals = []\n",
    "meals.append([\"beans\",\"egg\",\"nuts\",\"rice\"])\n",
    "meals.append([\"cabbage\",\"bread\",\"banana\",\"carots\"])\n",
    "meals.append([\"bacon\",\"beaf\",\"steak\",\"nuts\"])\n",
    "meals.append([\"tomatos\",\"burger\",\"mustard\",\"nuts\"])\n",
    "meals.append([\"fries\",\"chicken\",\"nuts\",\"avocado\"])\n",
    "meals.append([\"meat\",\"sukuma\",\"ugali\"])\n",
    "for meal in meals:\n",
    "    if \"nuts\" not in meal:\n",
    "        for index,element in enumerate(meal,1):\n",
    "            print(\"element {} is {}\".format(index,element))\n",
    "        print()"
   ]
  },
  {
   "cell_type": "markdown",
   "metadata": {},
   "source": [
    "We first append to the list all the ingredients and loop through the elements of each list and check if any the element is \"nuts\" if there is this list will be ignored until we get a list that does not contain \"nuts\". \n",
    "\n",
    "After this finding,  we will loop through the list and enumerate all the elements using the enumerate function. There the second parameter in the enumerate function, this parameter corresponds to the starting count. By default, this parameter is not written and is set to 0, we can overwrite this by placing any number which will be the starting point of the count. There is be an empty space after all the elements in the list are done printing."
   ]
  },
  {
   "cell_type": "markdown",
   "metadata": {},
   "source": [
    "### Conclusion"
   ]
  },
  {
   "cell_type": "markdown",
   "metadata": {},
   "source": [
    "A list is a clean way of storing data in a container that allow us to iterate over on its elements and perform useful operation on it like adding and removing new elements. We will be using lists a lot. In the upcoming post, we will discuss tuples ranges.\n",
    "\n",
    "Thank you for reading this tutorial. Hope you have learned one or two things. If you like this post, please subscribe to stay updated with new posts and if you have a thought or a question, I would love to hear it by commenting below.\n"
   ]
  }
 ],
 "metadata": {
  "kernelspec": {
   "display_name": "Python 3",
   "language": "python",
   "name": "python3"
  },
  "language_info": {
   "codemirror_mode": {
    "name": "ipython",
    "version": 3
   },
   "file_extension": ".py",
   "mimetype": "text/x-python",
   "name": "python",
   "nbconvert_exporter": "python",
   "pygments_lexer": "ipython3",
   "version": "3.7.1"
  }
 },
 "nbformat": 4,
 "nbformat_minor": 2
}
