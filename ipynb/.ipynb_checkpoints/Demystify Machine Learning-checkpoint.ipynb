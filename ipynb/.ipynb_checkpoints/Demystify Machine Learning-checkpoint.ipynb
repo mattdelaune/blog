{
 "cells": [
  {
   "cell_type": "markdown",
   "metadata": {},
   "source": [
    "Welcome back! I am very excited about this post as we are introducing machine learning and its commonly used jargon. You will have a broad overview of machine learning, how it works, and even write our first machine learning code at the end of the post. To understand advanced machine learning, we first need to have a good grasp of the fundamentals. That is why I think this is the most important post on this blog so far.\n",
    "\n",
    "With no further due, let's get started."
   ]
  },
  {
   "cell_type": "markdown",
   "metadata": {},
   "source": [
    "### 1. What is machine learning, and how can a machine learn?"
   ]
  },
  {
   "cell_type": "markdown",
   "metadata": {},
   "source": [
    "#### 1.1 What is machine learning"
   ]
  },
  {
   "cell_type": "markdown",
   "metadata": {},
   "source": [
    "***Machine learning*** is a subfield of computer science that studies the ability of a computer to learn and exhibit cognitive abilities without being explicitly programmed."
   ]
  },
  {
   "cell_type": "markdown",
   "metadata": {},
   "source": [
    "#### 1.2 How do computers learn?"
   ]
  },
  {
   "cell_type": "markdown",
   "metadata": {},
   "source": [
    "As we have previously said, computers learn through data. The more the data, the better. Computers are very good at discovering not immediately apparent patterns within a large dataset (tabular or non-tabular) than humans. It is called ***data mining***. Data mining is a whole separate computer science field on its own. \n",
    "\n",
    "Going back to our question, how can machines learn? one way is by breaking the dataset into two datasets. A ***training dataset*** and a ***testing dataset***. As a good rule of thumb, the training dataset should account for 80% of the dataset, and the test dataset should be 20% (more on this later in the post). Each unit of information in the dataset is a ***datapoint*** represented as the entire row in a tabular dataset."
   ]
  },
  {
   "cell_type": "markdown",
   "metadata": {},
   "source": [
    "![dataset_split]((/blog/assets/post_cont_image/dml_dataset_split.jpg)"
   ]
  },
  {
   "cell_type": "markdown",
   "metadata": {},
   "source": [
    "A training dataset is a dataset used to train(teach) ***the model*** (also called ***estimators*** in Scikit-learn library, and I'll be using those two words interchangeably). We use the testing dataset to evaluate the model and see how well it has learned (also called measuring its ***accuracy***).\n",
    "\n",
    "Note: we should never train a model on the testing dataset, or else it defeats the whole purpose of evaluating the model.\n",
    "\n",
    "Let me explain this statement further. Let's say you are a student enrolled in a math course. To pass the exam, you have to practice by doing many exercises to become good at it. If the lecture decides to give you the exam paper for practice,  probably during the exam time, you will score close to 100%. But does that mean that you have mastered the course? Of course not! You have just memorized the whole exam without really understanding anything. The same happens to a machine learning model trained and tested on a testing dataset. It is called ***overfitting*** (more on this later in the post). That is why we need to hide the model from the testing dataset and only train on the training dataset."
   ]
  },
  {
   "cell_type": "markdown",
   "metadata": {},
   "source": [
    "### 2. Use of machine learning VS traditional programming? "
   ]
  },
  {
   "cell_type": "markdown",
   "metadata": {},
   "source": [
    "To understand when shall we use machine learning, we need first to understand how machine learning and traditional programming work under the hood."
   ]
  },
  {
   "cell_type": "markdown",
   "metadata": {},
   "source": [
    "#### 2.1 How machine learning works VS traditional programming?\n",
    "#### 2.1.1 Traditional programming"
   ]
  },
  {
   "cell_type": "markdown",
   "metadata": {},
   "source": [
    "Let's start with traditional programming. It includes all the backends development, front-end development, mobile development, dev-ops, systems architecture, etc. All these computer science subfields share the same fundamentals of using a set of instructions called ***Algorithms*** written by a programmer that takes an input and produces an output. Think of it as a more complex \"if and else statement\" for example, if a user presses this button, then change the webpage to this new page."
   ]
  },
  {
   "cell_type": "markdown",
   "metadata": {},
   "source": [
    "![traditional_programming_process]((/blog/assets/post_cont_image/trad_programming.jpg)"
   ]
  },
  {
   "cell_type": "markdown",
   "metadata": {},
   "source": [
    "If an unexpected event occurs (not coded), the algorithm will not execute, and the software/app will crash. Now you know what is happening when you see a blue screen in Windows or your mobile app has unexpectedly stopped working. The algorithm can't troubleshoot itself without the intervention of the programmer. That is why you always have to upgrade your software or app to fix the \"bugs\"."
   ]
  },
  {
   "cell_type": "markdown",
   "metadata": {},
   "source": [
    "![unexpected_input]((/blog/assets/post_cont_image/unexpected_input.jpg)"
   ]
  },
  {
   "cell_type": "markdown",
   "metadata": {},
   "source": [
    "#### 2.1.1 Machine learning"
   ]
  },
  {
   "cell_type": "markdown",
   "metadata": {},
   "source": [
    "On the other hand, machine learning works differently than traditional programming. We feed (train) the machine learning model datasets as input and let the model predict the best output. We, the programmers, don't explicitly write those instructions. We help the model fine-tune its parameters (more on this later) to find the best predictions. Consequently, the more the data we feed to the model, the better the predictions become overtime."
   ]
  },
  {
   "cell_type": "markdown",
   "metadata": {},
   "source": [
    "We evaluate the model and see if it has learned well. If the result is satisfying, then we lunch the model into production. If not, we then analyze the model, fine-tune its parameter, and retraining the model is required."
   ]
  },
  {
   "cell_type": "markdown",
   "metadata": {},
   "source": [
    "![ML-process](/blog/assets/post_cont_image/ML_process.jpg)"
   ]
  },
  {
   "cell_type": "markdown",
   "metadata": {},
   "source": [
    "Note: it is crucial to feed the model accurate and clean data (without outliers or missing data) because if you don't, then the predictions will be off, and its accuracy won't be reliable. That is why modeling (the process of training the model) is the least consuming task in an end-to-end machine learning project compare to data cleaning. I wrote in [this post](https://semasuka.github.io/blog/2019/03/26/introduction-to-eda.html) that data scientists spend 60% of their time cleaning the training data and only 4% modeling and training the model.  "
   ]
  },
  {
   "cell_type": "markdown",
   "metadata": {},
   "source": [
    "#### 2.2 When shall we use machine learning or traditional programming? "
   ]
  },
  {
   "cell_type": "markdown",
   "metadata": {},
   "source": [
    "Here are some questions to ask yourself when deciding to use whether machine learning or traditional programming for a project:\n",
    "\n",
    "* Does this project try to solve a problem that requires a lot of fine-tuning and rules? If you answered yes, then use machine learning.\n",
    "\t\n",
    "     To clarify the point above, let's say that you work at a bank as a fraud expert analyst, and your boss tells you that there has been a sharp increase in credit card frauds this month. As a fraud expert with programming skills, you need to find a solution to this as soon as possible. You first analyze the transactions reported as fraudulent. You notice interesting similarities among 80% of them:  \n",
    "      1. those transactions are orchestrated from overseas.\n",
    "      2. they are below $1000.\n",
    "      3. the account holders are mostly seniors (65 years old and above).\n",
    "\n",
    "   After gathering these pieces of information, you decided to create a script to detect and block automatically similar transactions that will occur in the future. The code is not perfect, as there are false positives, but after deploying the script for a week, there is a drop in the number of fraudulent transactions reported. Yes! We did.\n",
    "\n",
    "     After two months, your boss comes back to you and tells you that the number of fraud has gone up again. It seems like the scammers now use a VPN as the transactions appear to be from within the country. Secondly, in the new fraudulent transactions, the amount transacted is not below $1000 all the time. The scammers have found a way to bypass the script that you have put in place.\n",
    "\n",
    "   Now, you are thinking about two options:\n",
    "    - Option 1, rewrite a new script taking into consideration the new rules.\n",
    "    - Option 2, come up with a script that can adapt to new rules without being explicitly coded.\n",
    "\n",
    "  The first option is tedious, and it is a matter of time until the scammers find another way of going around it. So the best option would be option 2, to let the script adapt and block the fraudulent transactions with minimal intervention.  \n",
    "\n",
    "\n",
    "* Does this project try to solve a complex problem where using traditional programming has failed? Then use machine learning. Example: Detection of a cancer cell in an image.\n",
    "\n",
    "\n",
    "* Does this project try to solve a complex problem in a constantly changing environment? Then use machine learning as it can adapt to a constantly changing environment as it receives more and more data. Example: Robots that sort trash on a recycling line depending on the type of materials using computer vision.\n",
    "\n",
    "\n",
    "* Does this project try to solve a complex problem with a large amount of data? Then use machine learning. Example: Self-driving cars in a busy street."
   ]
  },
  {
   "cell_type": "markdown",
   "metadata": {},
   "source": [
    "I firmly believe that machine learning and traditional programming will continue to co-exist as they solve problems differently. Therefore one can't replace the other."
   ]
  },
  {
   "cell_type": "markdown",
   "metadata": {},
   "source": [
    "### 3. Types of machine learning"
   ]
  },
  {
   "cell_type": "markdown",
   "metadata": {},
   "source": [
    "There are different types of machine learning systems depending on how we train them, how they learn, and how they generalize. "
   ]
  },
  {
   "cell_type": "markdown",
   "metadata": {},
   "source": [
    "### 3.1 Types of machine learning system classified on how we train them"
   ]
  },
  {
   "cell_type": "markdown",
   "metadata": {},
   "source": [
    "#### 3.1.1 Supervised learning"
   ]
  },
  {
   "cell_type": "markdown",
   "metadata": {},
   "source": [
    "We train these types of machine learning using ***labels***. It means that in the training dataset, we have the desired outputs. We use different datapoints attributes called ***features*** or ***predictor*** to train the model and predict the labels. "
   ]
  },
  {
   "cell_type": "markdown",
   "metadata": {},
   "source": [
    "For example, given a dataset with features like age, gender, weight, height, family history and blood pressure, we are trying to predict if someone has diabetes or not. The last column in the training dataset is the label. This type of training is called ***classification model*** because we are classifying the data points into two groups (has diabetes or does not have diabetes)."
   ]
  },
  {
   "cell_type": "markdown",
   "metadata": {},
   "source": [
    "![supervised_train](/blog/assets/post_cont_image/datasplit_sup.jpg)"
   ]
  },
  {
   "cell_type": "markdown",
   "metadata": {},
   "source": [
    "The labels can also be numerical. In this case, we are dealing with a ***regression model***. An example of this would be predicting the houses price depending on different features like the size, the location, the mortgage interest rate, etc."
   ]
  },
  {
   "cell_type": "markdown",
   "metadata": {},
   "source": [
    "#### 3.1.2 Unsupervised learning"
   ]
  },
  {
   "cell_type": "markdown",
   "metadata": {},
   "source": [
    "For this type of machine learning, we train the model without labels. With your help, the model will try to figure out the correlations within the datasets. Listed below are the unsupervised tasks we could perform:  \n",
    "\n",
    "1. ***clustering*** to discover similar data points within the dataset and ***hierarchical clustering*** to group similar data points into smaller groups. Each group is called ***cluster***\n",
    "\n",
    "![hierarchical_clustering](/blog/assets/post_cont_image/clustering.jpg)\n",
    "*Credit: [Kdnuggets](https://www.kdnuggets.com/2019/09/hierarchical-clustering.html)*\n",
    "\n",
    "2. ***dimensionality reduction*** to merge similar features into one feature. For example, we could combine the smartphone's age with its battery health as those two are strongly correlated. We call it ***feature extraction***\n",
    "\n",
    "\n",
    "3. ***anomaly detection*** by detecting automatically and removing *outliers* (a data point that differs significantly from the rest of data points) and ***novelty detection*** by detecting but not flagging as outliers incoming data point that looks different from the rest of data points in the dataset.\n",
    "\n",
    "![anomaly](/blog/assets/post_cont_image/anomaly.jpg)\n",
    "\n",
    "4. ***association rule learning*** to discover underlying relations between data points in a large dataset. For example, through data, we have found out that clients in the supermarket who bought chicken will most likely buy the barbeque sauce. It makes sense to give a bundle pricing discount or place those two products close together on the shelves to incentivize the purchase."
   ]
  },
  {
   "cell_type": "markdown",
   "metadata": {},
   "source": [
    "#### 3.1.3 Semisupervised learning"
   ]
  },
  {
   "cell_type": "markdown",
   "metadata": {},
   "source": [
    "We can combine a small labelled dataset and an unlabeled dataset to get a semi labelled dataset. Now you might ask why can we just label the whole dataset? well because labelling a dataset is time-consuming and very expensive as it does require a skilled person. \n",
    "\n",
    "Semisupervised learning is a great alternative from supervised learning because some machine learning models are able to train using a partially labelled dataset."
   ]
  },
  {
   "cell_type": "markdown",
   "metadata": {},
   "source": [
    "#### 3.1.4 Reinforcement learning"
   ]
  },
  {
   "cell_type": "markdown",
   "metadata": {},
   "source": [
    "Reinforcement learning works differently than the previous types. It involves an \"agent\" taking action to perform tasks using a strategy called \"policy\". We want him to do one specific task and avoid the others. Each time the agent accomplishes the desired task, he gets rewarded. If not, he gets penalized. \n",
    "\n",
    "The more the rewards, the more the agents understand that it needs to perform the desired task (just like the Pavlov's dogs conditioning). Through trials and errors with the feedback (in terms of rewards and penalties), the agent learns and becomes good at the task we require him to perform. \n",
    "\n",
    "Of course, this is a simple explanation of reinforcement learning as it is a bit more complex, but you have at least a basic understanding. Deepmind's AlphaGo used reinforcement learning to beat the professional Go player Lee Sedol in 2016. \n",
    "\n",
    "Jabril has a video where he did a great job at explaining reinforcement learning in details. By the way, I highly advise watching his entire AI crash course series."
   ]
  },
  {
   "cell_type": "markdown",
   "metadata": {},
   "source": [
    "[![Jabril_reinforcement_learning](/blog/assets/post_cont_image/clustering.jpg)](https://www.youtube.com/watch?v=nIgIv4IfJ6s)"
   ]
  },
  {
   "cell_type": "markdown",
   "metadata": {},
   "source": [
    "### 3.2 Types of machine learning system classified on how they learn"
   ]
  },
  {
   "cell_type": "markdown",
   "metadata": {},
   "source": [
    "#### 3.2.1 Batch learning"
   ]
  },
  {
   "cell_type": "markdown",
   "metadata": {},
   "source": [
    "For this type of learning, the model has to be trained one step at a time. It means that the model can't learn continuously on the fly. It needs first to train with all the available data before the initial deployment into production. Once into production, it will only predict using the training dataset we had previously used.\n",
    "\n",
    "To retrain the model on new data, we need to take down the model, train a new version of the model with the full dataset (old and new) offline, then replace the old model and deploy the new version. That is why it is called ***offline learning***. The con of this method is that it is time and resource consuming."
   ]
  },
  {
   "cell_type": "markdown",
   "metadata": {},
   "source": [
    "#### 3.2.2 Online learning"
   ]
  },
  {
   "cell_type": "markdown",
   "metadata": {},
   "source": [
    "Here, the model is train gradually, meaning that we can feed the model new data in small groups (called ***mini-batches***) on the fly while the model is in production. This method is way cheaper than batch learning. The disadvantage is when the new data quality deteriorates, it also affects the model's performance. Thus, constant monitoring of the quality of new data is required."
   ]
  },
  {
   "cell_type": "markdown",
   "metadata": {},
   "source": [
    "### 3.3 Types of machine learning system classified on how they generalize (making a prediction on new data)"
   ]
  },
  {
   "cell_type": "markdown",
   "metadata": {},
   "source": [
    "#### 3.3.3 Instance-based learning"
   ]
  },
  {
   "cell_type": "markdown",
   "metadata": {},
   "source": [
    "This type of learning is comparable to the script used for spotting the fraudulent transactions seen above. That script looked at the similarities (overseas transactions below $1000 and senior account holder) among the reported fraudulent transactions and new transactions, then flagged the very similar ones. \n",
    "\n",
    "This script learnt by examples, by memorizing the similarities and made predictions on new data it has never seen before.   "
   ]
  },
  {
   "cell_type": "markdown",
   "metadata": {},
   "source": [
    "#### 3.3.4 Model-based learning"
   ]
  },
  {
   "cell_type": "markdown",
   "metadata": {},
   "source": [
    "As the name implies, model-based learning means that we build and use a model to make predictions. Let's illustrate this with a concrete example."
   ]
  },
  {
   "cell_type": "markdown",
   "metadata": {},
   "source": [
    "We all have heard the expression: \"Money does not buy happiness\". As an avid researcher, you want to prove that with numbers, and as we know: \"Numbers don't lie\". Right?\n",
    "\n",
    "So you decide to survey your friends, family members and internet users, asking them their incomes and then rank their happiness in life on a scale of 1 to 10.\n",
    "\n",
    "You got a total of 498 responses, which is not a large dataset, but for this experiment, it is a good population sample. Download the dataset [here](https://cdn.scribbr.com/wp-content/uploads//2020/02/income.data_.zip)."
   ]
  },
  {
   "cell_type": "markdown",
   "metadata": {},
   "source": [
    "Let's first start by importing Numpy, Pandas, Matplotlib and the CSV file. "
   ]
  },
  {
   "cell_type": "code",
   "execution_count": 31,
   "metadata": {},
   "outputs": [],
   "source": [
    "import numpy as np\n",
    "import pandas as pd\n",
    "import matplotlib.pyplot as plt\n",
    "%matplotlib inline"
   ]
  },
  {
   "cell_type": "code",
   "execution_count": 32,
   "metadata": {},
   "outputs": [
    {
     "data": {
      "text/html": [
       "<div>\n",
       "<style scoped>\n",
       "    .dataframe tbody tr th:only-of-type {\n",
       "        vertical-align: middle;\n",
       "    }\n",
       "\n",
       "    .dataframe tbody tr th {\n",
       "        vertical-align: top;\n",
       "    }\n",
       "\n",
       "    .dataframe thead th {\n",
       "        text-align: right;\n",
       "    }\n",
       "</style>\n",
       "<table border=\"1\" class=\"dataframe\">\n",
       "  <thead>\n",
       "    <tr style=\"text-align: right;\">\n",
       "      <th></th>\n",
       "      <th>Unnamed: 0</th>\n",
       "      <th>income</th>\n",
       "      <th>happiness</th>\n",
       "    </tr>\n",
       "  </thead>\n",
       "  <tbody>\n",
       "    <tr>\n",
       "      <th>0</th>\n",
       "      <td>1</td>\n",
       "      <td>3.862647</td>\n",
       "      <td>2.314489</td>\n",
       "    </tr>\n",
       "    <tr>\n",
       "      <th>1</th>\n",
       "      <td>2</td>\n",
       "      <td>4.979381</td>\n",
       "      <td>3.433490</td>\n",
       "    </tr>\n",
       "    <tr>\n",
       "      <th>2</th>\n",
       "      <td>3</td>\n",
       "      <td>4.923957</td>\n",
       "      <td>4.599373</td>\n",
       "    </tr>\n",
       "    <tr>\n",
       "      <th>3</th>\n",
       "      <td>4</td>\n",
       "      <td>3.214372</td>\n",
       "      <td>2.791114</td>\n",
       "    </tr>\n",
       "    <tr>\n",
       "      <th>4</th>\n",
       "      <td>5</td>\n",
       "      <td>7.196409</td>\n",
       "      <td>5.596398</td>\n",
       "    </tr>\n",
       "    <tr>\n",
       "      <th>...</th>\n",
       "      <td>...</td>\n",
       "      <td>...</td>\n",
       "      <td>...</td>\n",
       "    </tr>\n",
       "    <tr>\n",
       "      <th>493</th>\n",
       "      <td>494</td>\n",
       "      <td>5.249209</td>\n",
       "      <td>4.568705</td>\n",
       "    </tr>\n",
       "    <tr>\n",
       "      <th>494</th>\n",
       "      <td>495</td>\n",
       "      <td>3.471799</td>\n",
       "      <td>2.535002</td>\n",
       "    </tr>\n",
       "    <tr>\n",
       "      <th>495</th>\n",
       "      <td>496</td>\n",
       "      <td>6.087610</td>\n",
       "      <td>4.397451</td>\n",
       "    </tr>\n",
       "    <tr>\n",
       "      <th>496</th>\n",
       "      <td>497</td>\n",
       "      <td>3.440847</td>\n",
       "      <td>2.070664</td>\n",
       "    </tr>\n",
       "    <tr>\n",
       "      <th>497</th>\n",
       "      <td>498</td>\n",
       "      <td>4.530545</td>\n",
       "      <td>3.710193</td>\n",
       "    </tr>\n",
       "  </tbody>\n",
       "</table>\n",
       "<p>498 rows × 3 columns</p>\n",
       "</div>"
      ],
      "text/plain": [
       "     Unnamed: 0    income  happiness\n",
       "0             1  3.862647   2.314489\n",
       "1             2  4.979381   3.433490\n",
       "2             3  4.923957   4.599373\n",
       "3             4  3.214372   2.791114\n",
       "4             5  7.196409   5.596398\n",
       "..          ...       ...        ...\n",
       "493         494  5.249209   4.568705\n",
       "494         495  3.471799   2.535002\n",
       "495         496  6.087610   4.397451\n",
       "496         497  3.440847   2.070664\n",
       "497         498  4.530545   3.710193\n",
       "\n",
       "[498 rows x 3 columns]"
      ]
     },
     "execution_count": 32,
     "metadata": {},
     "output_type": "execute_result"
    }
   ],
   "source": [
    "income_data = pd.read_csv(\"income_data.csv\")\n",
    "income_data"
   ]
  },
  {
   "cell_type": "markdown",
   "metadata": {},
   "source": [
    "Now, let's drop the ```Unnamed: 0``` column because it is a duplicate column since we already have the index column automatically added by pandas. Let's also scale up the income column to 10000 to make it more realistic and round the numbers in the dataset by two decimal places."
   ]
  },
  {
   "cell_type": "code",
   "execution_count": 33,
   "metadata": {},
   "outputs": [],
   "source": [
    "income_data = income_data.drop(columns=[\"Unnamed: 0\"])"
   ]
  },
  {
   "cell_type": "code",
   "execution_count": 34,
   "metadata": {},
   "outputs": [],
   "source": [
    "income_data[\"income\"] = income_data[\"income\"] * 10000"
   ]
  },
  {
   "cell_type": "code",
   "execution_count": 35,
   "metadata": {},
   "outputs": [],
   "source": [
    "income_data = income_data.round(2)"
   ]
  },
  {
   "cell_type": "code",
   "execution_count": 36,
   "metadata": {},
   "outputs": [
    {
     "data": {
      "text/html": [
       "<div>\n",
       "<style scoped>\n",
       "    .dataframe tbody tr th:only-of-type {\n",
       "        vertical-align: middle;\n",
       "    }\n",
       "\n",
       "    .dataframe tbody tr th {\n",
       "        vertical-align: top;\n",
       "    }\n",
       "\n",
       "    .dataframe thead th {\n",
       "        text-align: right;\n",
       "    }\n",
       "</style>\n",
       "<table border=\"1\" class=\"dataframe\">\n",
       "  <thead>\n",
       "    <tr style=\"text-align: right;\">\n",
       "      <th></th>\n",
       "      <th>income</th>\n",
       "      <th>happiness</th>\n",
       "    </tr>\n",
       "  </thead>\n",
       "  <tbody>\n",
       "    <tr>\n",
       "      <th>0</th>\n",
       "      <td>38626.47</td>\n",
       "      <td>2.31</td>\n",
       "    </tr>\n",
       "    <tr>\n",
       "      <th>1</th>\n",
       "      <td>49793.81</td>\n",
       "      <td>3.43</td>\n",
       "    </tr>\n",
       "    <tr>\n",
       "      <th>2</th>\n",
       "      <td>49239.57</td>\n",
       "      <td>4.60</td>\n",
       "    </tr>\n",
       "    <tr>\n",
       "      <th>3</th>\n",
       "      <td>32143.72</td>\n",
       "      <td>2.79</td>\n",
       "    </tr>\n",
       "    <tr>\n",
       "      <th>4</th>\n",
       "      <td>71964.09</td>\n",
       "      <td>5.60</td>\n",
       "    </tr>\n",
       "    <tr>\n",
       "      <th>...</th>\n",
       "      <td>...</td>\n",
       "      <td>...</td>\n",
       "    </tr>\n",
       "    <tr>\n",
       "      <th>493</th>\n",
       "      <td>52492.09</td>\n",
       "      <td>4.57</td>\n",
       "    </tr>\n",
       "    <tr>\n",
       "      <th>494</th>\n",
       "      <td>34717.99</td>\n",
       "      <td>2.54</td>\n",
       "    </tr>\n",
       "    <tr>\n",
       "      <th>495</th>\n",
       "      <td>60876.10</td>\n",
       "      <td>4.40</td>\n",
       "    </tr>\n",
       "    <tr>\n",
       "      <th>496</th>\n",
       "      <td>34408.47</td>\n",
       "      <td>2.07</td>\n",
       "    </tr>\n",
       "    <tr>\n",
       "      <th>497</th>\n",
       "      <td>45305.45</td>\n",
       "      <td>3.71</td>\n",
       "    </tr>\n",
       "  </tbody>\n",
       "</table>\n",
       "<p>498 rows × 2 columns</p>\n",
       "</div>"
      ],
      "text/plain": [
       "       income  happiness\n",
       "0    38626.47       2.31\n",
       "1    49793.81       3.43\n",
       "2    49239.57       4.60\n",
       "3    32143.72       2.79\n",
       "4    71964.09       5.60\n",
       "..        ...        ...\n",
       "493  52492.09       4.57\n",
       "494  34717.99       2.54\n",
       "495  60876.10       4.40\n",
       "496  34408.47       2.07\n",
       "497  45305.45       3.71\n",
       "\n",
       "[498 rows x 2 columns]"
      ]
     },
     "execution_count": 36,
     "metadata": {},
     "output_type": "execute_result"
    }
   ],
   "source": [
    "income_data"
   ]
  },
  {
   "cell_type": "markdown",
   "metadata": {},
   "source": [
    "Then, let's plot the dataset on a scatterplot. "
   ]
  },
  {
   "cell_type": "code",
   "execution_count": 72,
   "metadata": {},
   "outputs": [
    {
     "data": {
      "image/png": "[encoded data removed]",
      "text/plain": [
       "<Figure size 432x288 with 1 Axes>"
      ]
     },
     "metadata": {
      "needs_background": "light"
     },
     "output_type": "display_data"
    }
   ],
   "source": [
    "plt.scatter(income_data[\"income\"],income_data[\"happiness\"], alpha=0.5,edgecolors=\"black\")\n",
    "plt.xlabel(\"Income\")\n",
    "plt.ylabel(\"Hapiness scale\")\n",
    "plt.show()"
   ]
  },
  {
   "cell_type": "markdown",
   "metadata": {},
   "source": [
    "Yeah seems like the more money we make, the happier we become! On average, someone making over \\$70000 is likely to be happier than someone making \\\\$20000. Shocking right?  \n",
    "\n",
    "We can see that the data points follow an upward direction. Now let's try to create a ***model*** that follows best those data points. This step is called a ***model selection***, and in this example, it will be a ***linear model*** also called ***linear regression*** since there are no curves in the upward direction."
   ]
  },
  {
   "cell_type": "markdown",
   "metadata": {},
   "source": [
    "The formula is as follow: "
   ]
  },
  {
   "cell_type": "markdown",
   "metadata": {},
   "source": [
    "where\n",
    "\n",
    "$\\alpha$ is the predicted value. In this case, the happiness scale.\n",
    "\n",
    "$\\theta_{0}$ is the first **parameter** called **intercept** of the predicted values $\\alpha$ (happiness scale).\n",
    "\n",
    "$\\theta_{1}$ is the second **parameter** called **regression coefficient**.\n",
    "\n",
    "$\\lambda$ is the independent variable. In this case, it is the income.\n",
    "\n",
    "$\\epsilon$ is the **error**, also called margin error in our prediction of the regression coefficient. In our case, we assume that there is no error implying that $\\epsilon$ = 0"
   ]
  },
  {
   "cell_type": "markdown",
   "metadata": {},
   "source": [
    "To keep it simple, we will rewrite the equation as follow:"
   ]
  },
  {
   "cell_type": "markdown",
   "metadata": {},
   "source": [
    "*happiness scale* = $\\theta_{0}$ + $\\theta_{1}$ $\\times$ income"
   ]
  },
  {
   "cell_type": "markdown",
   "metadata": {},
   "source": [
    "Note: if you have taken a high school algebra course, you might have recognized this formula as the [equation of a straight line](https://en.wikipedia.org/wiki/Linear_equation) ```y = mx + b```  where ```x``` and ```y``` are the x and y axis coordinates, ```m``` is the slope of the line and ```b``` is the y intercept. "
   ]
  },
  {
   "cell_type": "markdown",
   "metadata": {},
   "source": [
    "This model has two **parameters** $\\theta_{0}$ and $\\theta_{1}$. We need to find those two parameters value to define a line that follows the best data points. How do we find that? We have the choice between two functions. The ***utility function***(also called ***fitness function***) and the ***cost function***. So what is the difference and which one should we use? The short answer is it depends."
   ]
  },
  {
   "cell_type": "markdown",
   "metadata": {},
   "source": [
    "The utility function measures how good the model is, and the cost function calculates how bad the model is. Since we are dealing with linear regression, it is best to use the cost function to compare the distance between the predicted data point coordinate and the linear regression line. We need to reduce that distance as much as possible. The shorter that distance, the more ***accurate*** is our model."
   ]
  },
  {
   "cell_type": "markdown",
   "metadata": {},
   "source": [
    "So how do we get that linear regression line to best align with the data points? We use the [scikit-learn](https://scikit-learn.org/) functions to find the two parameters $\\theta_{0}$ and $\\theta_{1}$. This is what's called ***training*** the model."
   ]
  },
  {
   "cell_type": "markdown",
   "metadata": {},
   "source": [
    "We import directly the function from the scikit-learn library. "
   ]
  },
  {
   "cell_type": "code",
   "execution_count": 38,
   "metadata": {},
   "outputs": [],
   "source": [
    "from sklearn import linear_model"
   ]
  },
  {
   "cell_type": "markdown",
   "metadata": {},
   "source": [
    "Then, we store the estimator (this is how we call a model in the scikit-learn library) in the ```est``` variable."
   ]
  },
  {
   "cell_type": "code",
   "execution_count": 39,
   "metadata": {},
   "outputs": [],
   "source": [
    "est = linear_model.LinearRegression()"
   ]
  },
  {
   "cell_type": "markdown",
   "metadata": {},
   "source": [
    "Now we store the features as a one-dimensional array in ```Xsample_inc``` and ```Ysample_hap``` using the ```c_``` Numpy function."
   ]
  },
  {
   "cell_type": "code",
   "execution_count": 40,
   "metadata": {},
   "outputs": [],
   "source": [
    "Xsample_inc = np.c_[income_data[\"income\"]]\n",
    "Ysample_hap = np.c_[income_data[\"happiness\"]]"
   ]
  },
  {
   "cell_type": "markdown",
   "metadata": {},
   "source": [
    "the linear model estimator learn from those data points using the ```fit``` function"
   ]
  },
  {
   "cell_type": "code",
   "execution_count": 41,
   "metadata": {},
   "outputs": [
    {
     "data": {
      "text/plain": [
       "LinearRegression()"
      ]
     },
     "execution_count": 41,
     "metadata": {},
     "output_type": "execute_result"
    }
   ],
   "source": [
    "est.fit(Xsample_inc,Ysample_hap)"
   ]
  },
  {
   "cell_type": "markdown",
   "metadata": {},
   "source": [
    "Finally, we access the values of $\\theta_{0}$ (the intercept) and $\\theta_{1}$ (regression coefficient) by calling the ```intercept_``` and ```coef_``` functions on the estimator. "
   ]
  },
  {
   "cell_type": "code",
   "execution_count": 42,
   "metadata": {},
   "outputs": [
    {
     "data": {
      "text/plain": [
       "7.137623851143422e-05"
      ]
     },
     "execution_count": 42,
     "metadata": {},
     "output_type": "execute_result"
    }
   ],
   "source": [
    "est.coef_[0][0]"
   ]
  },
  {
   "cell_type": "code",
   "execution_count": 43,
   "metadata": {},
   "outputs": [],
   "source": [
    "o0,o1 = est.intercept_[0], est.coef_[0][0]"
   ]
  },
  {
   "cell_type": "code",
   "execution_count": 44,
   "metadata": {},
   "outputs": [
    {
     "name": "stdout",
     "output_type": "stream",
     "text": [
      "the intercept 𝜃0 is 0.20472523776933782 and the regression coefficient 𝜃1 is 7.137623851143422e-05\n"
     ]
    }
   ],
   "source": [
    "print(\"the intercept 𝜃0 is {} and the regression coefficient 𝜃1 is {}\".format(o0,o1))"
   ]
  },
  {
   "cell_type": "markdown",
   "metadata": {},
   "source": [
    "With these two values, we can plot the linear regression line. "
   ]
  },
  {
   "cell_type": "code",
   "execution_count": 73,
   "metadata": {},
   "outputs": [
    {
     "data": {
      "image/png": "[encoded data removed]",
      "text/plain": [
       "<Figure size 432x288 with 1 Axes>"
      ]
     },
     "metadata": {
      "needs_background": "light"
     },
     "output_type": "display_data"
    }
   ],
   "source": [
    "plt.scatter(income_data[\"income\"],income_data[\"happiness\"], alpha=0.5,edgecolors=\"black\")\n",
    "plt.axis([15000,75000,0,7.2])\n",
    "X_coordinate = np.linspace(15000,75000)\n",
    "plt.plot(X_coordinate, o0 + o1*X_coordinate, color=\"r\",linewidth=3)\n",
    "plt.text(18000,6.5, r\"$\\theta_{0} = 0.20$\",fontsize=14,color=\"r\")\n",
    "plt.text(18000,5.5, r\"$\\theta_{1} = 7.13 \\times 10^{-5}$\",fontsize=14,color=\"r\")\n",
    "plt.xlabel(\"Income\")\n",
    "plt.ylabel(\"Hapiness scale\")\n",
    "plt.title(\"Linear regression of Hapiness VS income\")\n",
    "plt.show()"
   ]
  },
  {
   "cell_type": "markdown",
   "metadata": {},
   "source": [
    "We plot the dataset's features using a scatter plot and set the plot axis limits. We then create an interval ```X``` that represents the axis limit of the linear regression line and set it to range from 15000 to 75000 (we don't need the steps because drawing a line requires only two coordinate in a 2D dimension). \n",
    "\n",
    "We then plot ```X_coordinate``` on the X and Y axis using the [linear equation](https://en.wikipedia.org/wiki/Linear_equation) and change the color of the line to red using the character ```\"r\"```.\n",
    "\n",
    "Finally, we place the text of $\\theta_{0}$ and $\\theta_{1}$ in the plot with the axis labels and title.\n",
    "\n",
    "If we don't need the values of $\\theta_{0}$ and $\\theta_{1}$ and only want to plot the linear regression line [seaborn](https://seaborn.pydata.org/) has a function for that."
   ]
  },
  {
   "cell_type": "code",
   "execution_count": 46,
   "metadata": {},
   "outputs": [],
   "source": [
    "import seaborn as sns"
   ]
  },
  {
   "cell_type": "code",
   "execution_count": 75,
   "metadata": {},
   "outputs": [
    {
     "data": {
      "image/png": "[encoded data removed]",
      "text/plain": [
       "<Figure size 432x288 with 1 Axes>"
      ]
     },
     "metadata": {
      "needs_background": "light"
     },
     "output_type": "display_data"
    }
   ],
   "source": [
    "sns.regplot(x=income_data[\"income\"],y=income_data[\"happiness\"],line_kws={\"color\":\"red\",\"linewidth\":3},scatter_kws={\"alpha\":0.5,\"edgecolor\":\"black\"})\n",
    "plt.text(18000,6.5, r\"$\\theta_{0} = 0.20$\",fontsize=14,color=\"r\")\n",
    "plt.text(18000,5.5, r\"$\\theta_{1} = 7.13 \\times 10^{-5}$\",fontsize=14,color=\"r\")\n",
    "plt.title(\"Linear regression of Hapiness VS income\")\n",
    "plt.xlabel(\"Income\")\n",
    "plt.ylabel(\"Hapiness scale\")\n",
    "plt.show()"
   ]
  },
  {
   "cell_type": "markdown",
   "metadata": {},
   "source": [
    "Now comes the fun part, prediction time! Let's predict the happiness scale of a new person (not from our survey) given his income.  Let's say person A makes per year \\$61200."
   ]
  },
  {
   "cell_type": "markdown",
   "metadata": {},
   "source": [
    "We have 2 ways of predicting the happiness scale:\n",
    "\n",
    "   1. Using the formula *happiness scale* = $\\theta_{0}$ + $\\theta_{1}$ $\\times$ income.\n",
    "   2. Using the model's ```predict``` function (most recommended)."
   ]
  },
  {
   "cell_type": "markdown",
   "metadata": {},
   "source": [
    "#### 1. Using the formula"
   ]
  },
  {
   "cell_type": "markdown",
   "metadata": {},
   "source": [
    "Using the equation that we previously saw:"
   ]
  },
  {
   "cell_type": "markdown",
   "metadata": {},
   "source": [
    "*happiness scale* = $\\theta_{0}$ + $\\theta_{1}$ $\\times$ income"
   ]
  },
  {
   "cell_type": "markdown",
   "metadata": {},
   "source": [
    "After replacement with the numerical values, we get:"
   ]
  },
  {
   "cell_type": "markdown",
   "metadata": {},
   "source": [
    "*happiness scale* = 0.2047 + 7.13 $\\times$ $10^{-5}$ $\\times$ 61200"
   ]
  },
  {
   "cell_type": "markdown",
   "metadata": {},
   "source": [
    "happiness scale ~ 4.56"
   ]
  },
  {
   "cell_type": "markdown",
   "metadata": {},
   "source": [
    "#### 2. Using the model's function"
   ]
  },
  {
   "cell_type": "markdown",
   "metadata": {},
   "source": [
    "Now let's calculate this in codes, shall we?"
   ]
  },
  {
   "cell_type": "code",
   "execution_count": 62,
   "metadata": {},
   "outputs": [
    {
     "name": "stdout",
     "output_type": "stream",
     "text": [
      "The estimated happiness scale of person A with an income of $61200 is 4.57 using linear regression\n"
     ]
    }
   ],
   "source": [
    "personA_inc = 61200\n",
    "\n",
    "personA_hap = est.predict([[personA_inc]])[0][0]\n",
    "print(\"The estimated happiness scale of person A with an income of ${} is {:.2f} using linear regression.\".format(personA_inc,personA_hap))"
   ]
  },
  {
   "cell_type": "markdown",
   "metadata": {},
   "source": [
    "We call the ```predict``` function on the estimator then pass as an argument the person A's income. Note that we add the indexes selection ```[0][0]``` because the ```predict``` function accepts only an array-like or matrix as an argument. "
   ]
  },
  {
   "cell_type": "markdown",
   "metadata": {},
   "source": [
    "Now, let's plot this."
   ]
  },
  {
   "cell_type": "code",
   "execution_count": 51,
   "metadata": {},
   "outputs": [
    {
     "data": {
      "image/png": "[encoded data removed]",
      "text/plain": [
       "<Figure size 432x288 with 1 Axes>"
      ]
     },
     "metadata": {
      "needs_background": "light"
     },
     "output_type": "display_data"
    }
   ],
   "source": [
    "plt.scatter(income_data[\"income\"],income_data[\"happiness\"], alpha=0.5,edgecolors=\"black\",zorder=1)\n",
    "plt.axis([15000,75000,0,7.2])\n",
    "X_coordinate = np.linspace(15000,75000)\n",
    "plt.plot(X_coordinate, o0 + o1*X_coordinate, color=\"r\",linewidth=3)\n",
    "plt.text(18000,6.5, r\"$\\theta_{0} = 0.20$\",fontsize=14,color=\"r\")\n",
    "plt.text(18000,6.0, r\"$\\theta_{1} = 7.13 \\times 10^{-5}$\",fontsize=14,color=\"r\")\n",
    "plt.xlabel(\"Income\")\n",
    "plt.ylabel(\"Hapiness scale\")\n",
    "plt.title(\"Linear regression of Happiness VS income\")\n",
    "\n",
    "# Prediction data point\n",
    "plt.vlines(personA_inc, 0, personA_hap,linestyles=\"dashed\",linewidth=3,colors=\"k\")\n",
    "plt.hlines(personA_hap, 0, personA_inc,linestyles=\"dashed\",linewidth=3,colors=\"k\")\n",
    "plt.scatter(personA_inc, personA_hap,c=\"k\",marker=\"o\",s=100,zorder=5)\n",
    "plt.text(15500,4.7, \"prediction = 4.57\",fontsize=12,color=\"k\")\n",
    "plt.text(62000,0.2, \"$61200\",fontsize=12,color=\"k\")\n",
    "\n",
    "plt.show()"
   ]
  },
  {
   "cell_type": "markdown",
   "metadata": {},
   "source": [
    "We can predict the happiness scale using the plot by drawing a perpendicular line (also called the projection of a point to a line) from the X-axis coordinate (61200) to a point belonging to the linear regression line. From that point, we draw another parallel to the X-axis projected to the Y-axis. That point on the Y-axis is our prediction."
   ]
  },
  {
   "cell_type": "markdown",
   "metadata": {},
   "source": [
    "Sweet! Now that we understand how we drew the dashed lines, let's go back to the codes.  "
   ]
  },
  {
   "cell_type": "markdown",
   "metadata": {},
   "source": [
    "We have already seen the first nine lines of codes, and we will focus on the following lines of code. We use the Matplotlib's ```vline``` function to project ```personA_inc``` value to the linear regression line passing as argument the ```personA_inc``` value as X, ```0``` and ```personA_hap``` to draw a line parallel to the Y-axis starting from the value of ```personA_hap``` on the X-axis. We set the ```linestyles``` to ```dashed``` to draw a dashed line, increase its width by three and finally change the color to black using ```k```. Vice versa for the ```hline```."
   ]
  },
  {
   "cell_type": "markdown",
   "metadata": {},
   "source": [
    "To emphasize the projected point where the income and the happiness scale meet on the linear regression line, we increase its size, setting the color to black and ```zorder``` to 5 (because we want that point to be on the top of the linear regression line)."
   ]
  },
  {
   "cell_type": "markdown",
   "metadata": {},
   "source": [
    "How about we use instance-based learning instead of model-based learning? For this, we could use a simple model called ***K-nearest neighbors***. We will look at this estimator in the upcoming post but for now, what you need to know is that it uses the features of the nearest data points(the neighboring points)to make predictions, thus the name. "
   ]
  },
  {
   "cell_type": "markdown",
   "metadata": {},
   "source": [
    "The code is almost the same as model-based learning. The difference is that we are using a different estimator. Instead of using ```linear_model``` we use```KNeighborsRegressor```. \n",
    "\n",
    "Note: we are importing a regressor model and not a classifier because we are predicting a number."
   ]
  },
  {
   "cell_type": "code",
   "execution_count": 52,
   "metadata": {},
   "outputs": [],
   "source": [
    "from sklearn.neighbors import KNeighborsRegressor"
   ]
  },
  {
   "cell_type": "code",
   "execution_count": 53,
   "metadata": {},
   "outputs": [],
   "source": [
    "est_reg = KNeighborsRegressor(n_neighbors=3)"
   ]
  },
  {
   "cell_type": "markdown",
   "metadata": {},
   "source": [
    "```n_neighbors``` is set to three because we want to predict the scale using the three nearest data points."
   ]
  },
  {
   "cell_type": "code",
   "execution_count": 54,
   "metadata": {},
   "outputs": [
    {
     "data": {
      "text/plain": [
       "KNeighborsRegressor(n_neighbors=3)"
      ]
     },
     "execution_count": 54,
     "metadata": {},
     "output_type": "execute_result"
    }
   ],
   "source": [
    "est_reg.fit(X=Xsample_inc, y=Ysample_hap)"
   ]
  },
  {
   "cell_type": "markdown",
   "metadata": {},
   "source": [
    "Now let's predict and see what we get."
   ]
  },
  {
   "cell_type": "code",
   "execution_count": 61,
   "metadata": {},
   "outputs": [
    {
     "name": "stdout",
     "output_type": "stream",
     "text": [
      "The estimated happiness scale of person A with an income of $61200 is 4.53 using KNN\n"
     ]
    }
   ],
   "source": [
    "personA_hap = est_reg.predict([[personA_inc]])[0][0]\n",
    "print(\"The estimated happiness scale of person A with an income of ${} is {:.2f} using KNN\".format(personA_inc,personA_hap))"
   ]
  },
  {
   "cell_type": "markdown",
   "metadata": {},
   "source": [
    "We got a result very close to what we got while using model-based learning. Hopefully, you were able to get predictions closed to these results."
   ]
  },
  {
   "cell_type": "markdown",
   "metadata": {},
   "source": [
    "If these models are deployed into production and don't perform well, we can do the following:\n",
    " - add more features like heath status, community vitality, city of residence, life purpose.\n",
    " - get better quality training data.\n",
    " - select more advanced and powerful models."
   ]
  },
  {
   "cell_type": "markdown",
   "metadata": {},
   "source": [
    "The examples above are basic machine learning projects, but it gives us a climbs into the steps taken for every machine learning projects: \n",
    "\n",
    "   1. We import and clean the data.\n",
    "   2. We select the appropriate model (estimator).\n",
    "   3. We train the model on the training dataset.\n",
    "   4. Finally, use the newly trained model to make predictions on data it has never seen before."
   ]
  },
  {
   "cell_type": "markdown",
   "metadata": {},
   "source": [
    "Since there are so many models, how do we choose the right one for our project? Well, the amazing team from the Scikit-learn organization came up with this chart below.  "
   ]
  },
  {
   "cell_type": "markdown",
   "metadata": {},
   "source": [
    "![ML-map](/blog/assets/post_cont_image/ml_map.jpg)"
   ]
  },
  {
   "cell_type": "markdown",
   "metadata": {},
   "source": [
    "We will be working with some of these models in the upcoming posts, and we will be referring to this diagram frequently."
   ]
  },
  {
   "cell_type": "markdown",
   "metadata": {},
   "source": [
    "### 4. Main challenges of machine learning and how to overcome them"
   ]
  },
  {
   "cell_type": "markdown",
   "metadata": {},
   "source": [
    "Since we don't live in a perfect world, machine learning has its own set of challenges caused by the data and the model."
   ]
  },
  {
   "cell_type": "markdown",
   "metadata": {},
   "source": [
    "#### 4.1 Challenges related to data"
   ]
  },
  {
   "cell_type": "markdown",
   "metadata": {},
   "source": [
    "#### 4.1.1 Not enough data"
   ]
  },
  {
   "cell_type": "markdown",
   "metadata": {},
   "source": [
    "Machine learning requires a lot of data to generalize well on unseen data. Typical machine learning projects require thousands of data points, but more complex projects like self-driving cars will require millions or even billions of data points. \n",
    "\n",
    "That is why it is challenging and expensive for startups to compete with unicorns like Google, Amazon or Telsa, as those companies already have petabytes of data."
   ]
  },
  {
   "cell_type": "markdown",
   "metadata": {},
   "source": [
    "Solution: To get more data"
   ]
  },
  {
   "cell_type": "markdown",
   "metadata": {},
   "source": [
    "#### 4.1.2 Train on nonrepresentative data"
   ]
  },
  {
   "cell_type": "markdown",
   "metadata": {},
   "source": [
    "If a model is training on nonrepresentative data, it will come up with biased predictions. Think of this as training on a sample of similar data points, which don't reflect the whole population. We are training on a small dataset not inclusive of all the possible data points in the population. We call this ***sampling noise***. \n",
    "\n",
    "The opposite can also true when we have a large dataset, but the sampling methodology used is flawed and inclusive of all the possible data points. We call it ***sampling bias***. It applies to both instance-based and model-based learning. "
   ]
  },
  {
   "cell_type": "markdown",
   "metadata": {},
   "source": [
    "Solution: Gather more representative data"
   ]
  },
  {
   "cell_type": "markdown",
   "metadata": {},
   "source": [
    "#### 4.1.3 Train on inaccurate data"
   ]
  },
  {
   "cell_type": "markdown",
   "metadata": {},
   "source": [
    "It makes sense that a model fed with a dataset full of errors and outliers will not find patterns and generalize on new data. That is why it is always wise to do an [exploratory data analysis](https://semasuka.github.io/blog/2019/03/26/introduction-to-eda.html) and data preparation before training the model. "
   ]
  },
  {
   "cell_type": "markdown",
   "metadata": {},
   "source": [
    "Solution: \n",
    "    \n",
    " 1. Identify and remove outliers from the dataset\n",
    " 2. For missing data, we can remove the feature, the data points, replace the missing data with the median or train one model with the feature and one model without it."
   ]
  },
  {
   "cell_type": "markdown",
   "metadata": {},
   "source": [
    "#### 4.1.4 Irrelevant features"
   ]
  },
  {
   "cell_type": "markdown",
   "metadata": {},
   "source": [
    "Not all the features in a dataset are useful for generalization. For example, predicting if someone has diabetes with features like age, gender, daily calory intake, height, weight and if the patient has a smartphone or not. Most probably, the last feature is irrelevant to this prediction, and we should drop it. We call this process ***feature selection***.\n",
    "\n",
    "Solution: Discard irrelevant feature."
   ]
  },
  {
   "cell_type": "markdown",
   "metadata": {},
   "source": [
    "Training a model requires a lot of computing power. For that reason, it is best to combine similar features (for example, the smartphone age and its battery health) into one useful feature (smartphone condition). We call this process ***feature extraction***."
   ]
  },
  {
   "cell_type": "markdown",
   "metadata": {},
   "source": [
    "#### 4.2 Challenges related to the model"
   ]
  },
  {
   "cell_type": "markdown",
   "metadata": {},
   "source": [
    "#### 4.2.1 Overfitting "
   ]
  },
  {
   "cell_type": "markdown",
   "metadata": {},
   "source": [
    "Overfitting means that the model has learned so well on the training dataset but failed to generalize on a new dataset. It does happen when we train a complex model (like a deep neural network) on a small dataset. It can also happen when we train a model on the dataset then test on that same dataset (That is why it is always crucial to hide the testing dataset by splitting the dataset into a training and testing dataset). "
   ]
  },
  {
   "cell_type": "markdown",
   "metadata": {},
   "source": [
    "Solution:\n",
    "    \n",
    "   1. Use a simplified model by selecting fewer parameters or constraining the model ( also called ***regularization***). \n",
    "   2. Gather more training data.\n",
    "   3. Discard outliers and fix missing data."
   ]
  },
  {
   "cell_type": "markdown",
   "metadata": {},
   "source": [
    "The amount of constrain or regularization applied to a model is called ***hyperparameters***. Think of hyperparameters as a model's settings set before training to help generalize well. We discuss further ***hyperparameters*** when we will be doing an end-to-end project in the next post."
   ]
  },
  {
   "cell_type": "markdown",
   "metadata": {},
   "source": [
    "#### 4.2.2 Underfitting"
   ]
  },
  {
   "cell_type": "markdown",
   "metadata": {},
   "source": [
    "Underfitting is the opposite of overfitting which means that the model is too simple and can't discover the patterns within the data."
   ]
  },
  {
   "cell_type": "markdown",
   "metadata": {},
   "source": [
    "Solution:\n",
    "    \n",
    " 1. Use a powerful model.\n",
    " 2. Use better features for training.\n",
    " 3. Reduce the value of the hyperparameter."
   ]
  },
  {
   "cell_type": "markdown",
   "metadata": {},
   "source": [
    "### 5. Testing and validating the model"
   ]
  },
  {
   "cell_type": "markdown",
   "metadata": {},
   "source": [
    "#### 5.1 Testing"
   ]
  },
  {
   "cell_type": "markdown",
   "metadata": {},
   "source": [
    "Now that we have trained our model, how do we know that the model is ready to generalize new data? There must be a sort of metrics used to measure how well it has generalized, right? "
   ]
  },
  {
   "cell_type": "markdown",
   "metadata": {},
   "source": [
    "We perform a test in the dataset by splitting the dataset into 80% training data and 20% testing data and then calculate the ***generalization error***. The generalization error is the measurement of error the model makes when tested on data it has never seen before. A low training error with a high generalization error implies that the model is overfitting."
   ]
  },
  {
   "cell_type": "markdown",
   "metadata": {},
   "source": [
    "#### 5.2 Model selection and hyperparameter tuning"
   ]
  },
  {
   "cell_type": "markdown",
   "metadata": {},
   "source": [
    "Choosing which model to use is quite simple. We train different algorithms and compare their generalization error and pick the one with the lowest generalization error, but how do we choose its hyperparameter values to avoid overfitting?"
   ]
  },
  {
   "cell_type": "markdown",
   "metadata": {},
   "source": [
    "One solution would be to train using different hyperparameter values and select the value that produces the lowest generalization error on the test dataset. Let's say that the generalization error is 6% on the training dataset, but when we lunch it into production, we have a generalization error is 14%. Now you are wondering what is going on?"
   ]
  },
  {
   "cell_type": "markdown",
   "metadata": {},
   "source": [
    "What just happened is that we have found the best hyperparameters for the test dataset, but those hyperparameters don't perform well on new data."
   ]
  },
  {
   "cell_type": "markdown",
   "metadata": {},
   "source": [
    "To solve this issue, we extract a part of the training dataset to find the best model and parameters. This extracted training dataset is called ***validation set***( also called ***development set*** or ***dev set***). After finding the best model and parameters values, we use them for training the full training dataset (including the validation set) to get our final model. Then we will use this final model to come up with a generalization error on the testing dataset."
   ]
  },
  {
   "cell_type": "markdown",
   "metadata": {},
   "source": [
    "![Validation-set](/blog/assets/post_cont_image/val_set.jpg)"
   ]
  },
  {
   "cell_type": "markdown",
   "metadata": {},
   "source": [
    "However, the main challenge here will be to know how big (or small) is the validation set compare to the training set. Why would this be a challenge, may you ask? \n",
    "\n",
    "Because we will train the final model on the whole training dataset, so we must avoid as much as possible selecting a model that is not representative of the entire training set. So how can we overcome this?\n",
    "\n",
    "We can use ***cross-validation*** to divide the training set into small validation sets called ***k-fold blocks*** where ***k*** represents the number of small validation sets. For example, if we divide the training set into ten smaller validation sets, we will have ten-fold cross-validation. Each model is tested on one small validation set after being trained on the other sets (for the previously mentioned ten-fold cross-validation, the model will be tested on one set and trained on the remaining nine sets). The only disadvantage of using cross-validation is that it requires a lot of computing power because the training time is multiply by the number of validation sets ***k***."
   ]
  },
  {
   "cell_type": "markdown",
   "metadata": {},
   "source": [
    "### 6. Conclusion"
   ]
  },
  {
   "cell_type": "markdown",
   "metadata": {},
   "source": [
    "Wow! You have to have made it until the end! Congratulation! You have learned a lot about machine learning in this post. It is okay to go through this post twice or thrice to grasp everything. But don't worry! You will strengthen your understanding more when we start doing end-to-end machine learning projects. We will practice most of the theoretical concepts that we have discussed in this post in future posts. \n",
    "\n",
    "\n",
    "Finally, here is a recap of the main points we have discovered in this post: \n",
    "\n",
    " 1. Machine learning is the computer's ability to learn through data and make predictions on new data without being explicitly hardcoded.\n",
    " \n",
    " 2. If the problem you are trying to solve requires a lot of fine-tuning, or is complex, or requires a large amount of data, only then use machine learning\n",
    " \n",
    " Note: Try to first use traditional programming before using machine learning (or deep learning).  Don't be like this guy below :) \n",
    " \n",
    " ![cutting-sword](/blog/assets/post_cont_image/cut_dl.jpg)\n",
    " \n",
    " \n",
    "Image credit: [cutting-sword-credit](https://www.google.com/url?sa=i&url=https%3A%2F%2Fknowyourmeme.com%2Fmemes%2Fcutting-food-with-a-sword&psig=AOvVaw2CMnmX3rcg63eawO9zq6bl&ust=1617641348297000&source=images&cd=vfe&ved=0CAIQjRxqFwoTCJCa_ueF5e8CFQAAAAAdAAAAABAD)\n",
    "\n",
    " 3. There are different types of machine learning systems grouped as:\n",
    " \n",
    "   * Supervised, unsupervised, semisupervised or reinforcement learning.\n",
    "   \n",
    "   * Batch or online learning.\n",
    "   \n",
    "   * Instance-based or model-based learning.\n",
    "   \n",
    "        Most machine learning projects follow this blueprint:\n",
    "> Gather data -> clean data -> Split the dataset into training and testing data -> feed the training dataset -> test using the testing dataset -> find the generalization error of the model -> improve the generalization error\n",
    "     \n",
    " \n",
    "4. Machine learning faces some challenges caused by:\n",
    " \n",
    "  * Not having enough data\n",
    "  * Train on nonrepresentative data\n",
    "  * Train on inaccurate data\n",
    "  * Irrelevant features\n",
    "  * Overfitting the training set\n",
    "  * Underfitting the training set\n",
    "   \n",
    " \n",
    "  5. To know the accuracy of a machine learning model, we have to test it to find the generalization error. If satisfied with it, we select the best model and its hyperparameters using the validation set and the cross-validation. "
   ]
  },
  {
   "cell_type": "markdown",
   "metadata": {},
   "source": [
    "In the next post, we will work on an end-to-end machine learning project. I hope you enjoyed this post as much as I did. Find the jupyter notebook version of this post on my GitHub profile [here](https://github.com/semasuka/blog/blob/gh-pages/ipynb/Pandas%20Exercise%20Part%203.ipynb).\n",
    "\n",
    "Thank you again for going through this tutorial with me. I hope you have learned one or two things. If you like this post, please subscribe to stay updated with new posts, and if you have a thought or a question, I would love to hear it by commenting below. Remember, practice makes perfect! Keep on learning!"
   ]
  }
 ],
 "metadata": {
  "kernelspec": {
   "display_name": "Python 3",
   "language": "python",
   "name": "python3"
  },
  "language_info": {
   "codemirror_mode": {
    "name": "ipython",
    "version": 3
   },
   "file_extension": ".py",
   "mimetype": "text/x-python",
   "name": "python",
   "nbconvert_exporter": "python",
   "pygments_lexer": "ipython3",
   "version": "3.7.10"
  }
 },
 "nbformat": 4,
 "nbformat_minor": 4
}
