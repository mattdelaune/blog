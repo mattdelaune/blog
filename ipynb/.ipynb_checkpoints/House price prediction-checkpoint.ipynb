{
 "cells": [
  {
   "cell_type": "markdown",
   "id": "spiritual-flash",
   "metadata": {},
   "source": [
    "# 0. Machine Learning project checklist"
   ]
  },
  {
   "cell_type": "markdown",
   "id": "toxic-particle",
   "metadata": {},
   "source": [
    "1. Frame the problem and look at the big picture\n",
    "2. Get the data\n",
    "3. Explore the data to gain insights\n",
    "4. Prepare the data to better expose the underlying data patterns to Machine Learning algorithm\n",
    "5. Explore many different models and shorlist the best ones\n",
    "6. Fine-tune your models and combine them into a great solution\n",
    "7. Present your solution\n",
    "8. Launch, monitor and maintain your system"
   ]
  },
  {
   "cell_type": "raw",
   "id": "loving-astrology",
   "metadata": {},
   "source": [
    "# Frame the Problem and Look at the Big Picture\n",
    "1. Define the objective in business terms.\n",
    "\n",
    "2. How will your solution be used?\n",
    "\n",
    "3. What are the current solutions/workarounds (if any)?\n",
    "\n",
    "4. How should you frame this problem (supervised/unsupervised, online/offline, etc.)?\n",
    "\n",
    "5. How should performance be measured?\n",
    "\n",
    "6. Is the performance measure aligned with the business objective?\n",
    "\n",
    "7. What would be the minimum performance needed to reach the business objective?\n",
    "\n",
    "8. What are comparable problems? Can you reuse experience or tools?\n",
    "\n",
    "9. Is human expertise available?\n",
    "\n",
    "10. How would you solve the problem manually?\n",
    "\n",
    "11. List the assumptions you (or others) have made so far.\n",
    "\n",
    "12. Verify assumptions if possible.\n",
    "\n",
    "# Get the Data\n",
    "\n",
    "Note: automate as much as possible so you can easily get fresh data.\n",
    "\n",
    "1. List the data you need and how much you need.\n",
    "\n",
    "2. Find and document where you can get that data.\n",
    "\n",
    "3. Check how much space it will take.\n",
    "\n",
    "4. Check legal obligations, and get authorization if necessary.\n",
    "\n",
    "5. Get access authorizations.\n",
    "\n",
    "6. Create a workspace (with enough storage space).\n",
    "\n",
    "7. Get the data.\n",
    "\n",
    "8. Convert the data to a format you can easily manipulate (without changing the data itself).\n",
    "\n",
    "9. Ensure sensitive information is deleted or protected (e.g., anonymized).\n",
    "\n",
    "10. Check the size and type of data (time series, sample, geographical, etc.).\n",
    "\n",
    "11. Sample a test set, put it aside, and never look at it (no data snooping!).\n",
    "\n",
    "# Explore the Data to gain insights\n",
    "Note: try to get insights from a field expert for these steps.\n",
    "\n",
    "1. Create a copy of the data for exploration (sampling it down to a manageable size if necessary).\n",
    "\n",
    "2. Create a Jupyter notebook to keep a record of your data exploration.”\n",
    "\n",
    "3. Study each attribute and its characteristics:\n",
    "\n",
    "* Name\n",
    "* Type (categorical, int/float, bounded/unbounded, text, structured, etc.)\n",
    "* % of missing values\n",
    "* Noisiness and type of noise (stochastic, outliers, rounding errors, etc.)\n",
    "* Usefulness for the task”\n",
    "* Type of distribution (Gaussian, uniform, logarithmic, etc.)\n",
    "4. For supervised learning tasks, identify the target attribute(s).\n",
    "\n",
    "5. Visualize the data.\n",
    "\n",
    "6. Study the correlations between attributes.\n",
    "\n",
    "7. Study how you would solve the problem manually.\n",
    "\n",
    "8. Identify the promising transformations you may want to apply.\n",
    "\n",
    "9. Identify extra data that would be useful (go back to “Get the Data”).\n",
    "\n",
    "10. Document what you have learned.\n",
    "\n",
    "# Prepare the data to better expose the underlying data patterns to Machine Learning algorithm\n",
    "\n",
    "“Notes:\n",
    "- Work on copies of the data (keep the original dataset intact).\n",
    "- Write functions for all data transformations you apply, for five reasons:\n",
    " * So you can easily prepare the data the next time you get a fresh dataset\n",
    " * So you can apply these transformations in future projects\n",
    " * To clean and prepare the test set\n",
    " * To clean and prepare new data instances once your solution is live\n",
    " * To make it easy to treat your preparation choices as hyperparameters\n",
    "1. Data cleaning:\n",
    "- Fix or remove outliers (optional).\n",
    "- Fill in missing values (e.g., with zero, mean, median…) or drop their ”\n",
    "\n",
    "Excerpt From: Aurélien Géron. “Hands-On Machine Learning with Scikit-Learn, Keras, and TensorFlow.” Apple Books. "
   ]
  },
  {
   "cell_type": "markdown",
   "id": "acoustic-martin",
   "metadata": {},
   "source": [
    "# 1. Looking at the big picture"
   ]
  },
  {
   "cell_type": "code",
   "execution_count": null,
   "id": "applicable-interstate",
   "metadata": {},
   "outputs": [],
   "source": [
    "Using 79 explanatory variables, we are trying to predict the price of a house using a Machine Learning model"
   ]
  },
  {
   "cell_type": "code",
   "execution_count": 1,
   "id": "experienced-excerpt",
   "metadata": {},
   "outputs": [],
   "source": [
    "## 1.1 Frame the problem"
   ]
  },
  {
   "cell_type": "code",
   "execution_count": null,
   "id": "structural-fitness",
   "metadata": {},
   "outputs": [],
   "source": []
  }
 ],
 "metadata": {
  "kernelspec": {
   "display_name": "Python 3",
   "language": "python",
   "name": "python3"
  },
  "language_info": {
   "codemirror_mode": {
    "name": "ipython",
    "version": 3
   },
   "file_extension": ".py",
   "mimetype": "text/x-python",
   "name": "python",
   "nbconvert_exporter": "python",
   "pygments_lexer": "ipython3",
   "version": "3.7.10"
  }
 },
 "nbformat": 4,
 "nbformat_minor": 5
}
