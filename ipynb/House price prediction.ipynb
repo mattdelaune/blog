{
 "cells": [
  {
   "cell_type": "markdown",
   "id": "shared-blood",
   "metadata": {},
   "source": [
    "# 1. Looking at the big picture"
   ]
  },
  {
   "cell_type": "code",
   "execution_count": null,
   "id": "sophisticated-suspension",
   "metadata": {},
   "outputs": [],
   "source": [
    "Using 79 explanatory variables, we are trying to predict the price of a house using a Machine Learning model"
   ]
  },
  {
   "cell_type": "code",
   "execution_count": 1,
   "id": "convenient-holder",
   "metadata": {},
   "outputs": [],
   "source": [
    "## 1.1 Frame the problem"
   ]
  },
  {
   "cell_type": "code",
   "execution_count": null,
   "id": "excessive-wilderness",
   "metadata": {},
   "outputs": [],
   "source": []
  }
 ],
 "metadata": {
  "kernelspec": {
   "display_name": "Python 3",
   "language": "python",
   "name": "python3"
  },
  "language_info": {
   "codemirror_mode": {
    "name": "ipython",
    "version": 3
   },
   "file_extension": ".py",
   "mimetype": "text/x-python",
   "name": "python",
   "nbconvert_exporter": "python",
   "pygments_lexer": "ipython3",
   "version": "3.7.10"
  }
 },
 "nbformat": 4,
 "nbformat_minor": 5
}
