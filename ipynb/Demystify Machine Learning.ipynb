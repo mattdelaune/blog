{
 "cells": [
  {
   "cell_type": "markdown",
   "metadata": {},
   "source": [
    "Welcome back! I am very excited about this post as we are introducing Machine Learning and its commonly used jargon. We will have a broad overview of Machine Learning, how it works and its main concepts before diving deep into end-to-end Machine Learning projects in the upcoming posts.\n",
    "\n",
    "With no further due, let's get started."
   ]
  },
  {
   "cell_type": "markdown",
   "metadata": {},
   "source": [
    "### 1. What is Machine Learning and how can a machine learn?"
   ]
  },
  {
   "cell_type": "markdown",
   "metadata": {},
   "source": [
    "#### 1.1 What is Machine Learning"
   ]
  },
  {
   "cell_type": "markdown",
   "metadata": {},
   "source": [
    "***Machine Learning*** is a branch of computer science that gives the ability to the computer to learn from data and exhibit cognitive abilities without being explicitly programmed."
   ]
  },
  {
   "cell_type": "markdown",
   "metadata": {},
   "source": [
    "#### 1.2 How do computers learn?"
   ]
  },
  {
   "cell_type": "markdown",
   "metadata": {},
   "source": [
    "As we have previously said, computers learn through data. The more the data, the better. Computers are very good at discovering not immediately apparent patterns within a large dataset (tabular or non-tabular) than most humans. It is called ***data mining***. Data mining is a whole separate computer science discipline on its own. But going back to our question, how do they learn? They learn by breaking the dataset into two datasets. A ***training dataset*** (usually 80% of the dataset) and a ***testing dataset*** (the remaining 20% of the dataset)."
   ]
  },
  {
   "cell_type": "markdown",
   "metadata": {},
   "source": [
    "![dataset_split]((/blog/assets/post_cont_image/dml_dataset_split.jpg)"
   ]
  },
  {
   "cell_type": "markdown",
   "metadata": {},
   "source": [
    "A training dataset is a dataset used to train ***the model*** (also called estimators in Scikit-learn library) while the testing dataset is a dataset used to evaluate the model and see how well it as learned (also called measuring its ***accuracy***).\n",
    "\n",
    "Note: the model should never be trained on the testing dataset, otherwise it defeats the whole purpose of evaluating the model.\n",
    "\n",
    "Let me use an example to explain this further, consider that you are a student in a math course. To pass the exam, you have practice and do so many math exercises to become good. Now imagine for a second, that the lecture decides to give you the exam paper to practice. Probably during the exam time, you will score close to 100% but does that mean that you have learned anything? most definitely you have just crammed the whole exam without really understanding anything. The same does happen to a machine learning model when trained on the testing dataset. It is called ***overfitting*** (We will see more on this later). That is the reason why we need to hide the model from the testing dataset and only train on the training dataset."
   ]
  },
  {
   "cell_type": "markdown",
   "metadata": {},
   "source": [
    "### 2. Use of Machine Learning and traditional programming? "
   ]
  },
  {
   "cell_type": "markdown",
   "metadata": {},
   "source": [
    "To understand when shall we use Machine Learning, we need first to understand how Machine Learning and traditional programming work under the hood."
   ]
  },
  {
   "cell_type": "markdown",
   "metadata": {},
   "source": [
    "#### 2.1 How Machine Learning works vs traditional programming?\n",
    "#### 2.1.1 Traditional programming\n",
    "\n",
    "Let's start with traditional programming. It includes all the backends development, front-end development, mobile development, dev-ops, systems architecture and design, etc. All these computer science fields share the same fundamentals of using a set of instructions called ***Algorithms*** written by the programmer that take an input and produce an output. Think of as a more complex \"if and else statement\", for example, if a user press this button then change the webpage to this new page."
   ]
  },
  {
   "cell_type": "markdown",
   "metadata": {},
   "source": [
    "![traditional_programming_process]((/blog/assets/post_cont_image/trad_programming.jpg)"
   ]
  },
  {
   "cell_type": "markdown",
   "metadata": {},
   "source": [
    "If an unexpected event occurs and is not coded by the programmer, the algorithm will not execute and the software will crash. Now you know what is happening when you see a blue screen in Windows or your mobile app has stopped working. The algorithm can't troubleshoot itself without the intervention of the programmer. That is why you always have to upgrade your software or app to fix the \"bugs\"."
   ]
  },
  {
   "cell_type": "markdown",
   "metadata": {},
   "source": [
    "![unexpected_input]((/blog/assets/post_cont_image/unexpected_input.jpg)"
   ]
  },
  {
   "cell_type": "markdown",
   "metadata": {},
   "source": [
    "#### 2.1.1 Machine Learning"
   ]
  },
  {
   "cell_type": "markdown",
   "metadata": {},
   "source": [
    "On the other hand, Machine learning works a bit different than traditional programming. We feed a machine learning model datasets as input and let the model figure its best ***parameters*** (more on this later) to make accurate predictions as output. We the programmer don't explicitly write those instructions. We help the model to fine-tune the values of its parameters. Consequently, the more the data we feed to the model, the better it becomes overtime."
   ]
  },
  {
   "cell_type": "markdown",
   "metadata": {},
   "source": [
    "We evaluate the model and see if it has learned well. If the result is satisfying, then we lunch the model into production if we are not satisfied, we then analyse the model, fine-tune its parameter and retraining the model."
   ]
  },
  {
   "cell_type": "markdown",
   "metadata": {},
   "source": [
    "![ML-process](/blog/assets/post_cont_image/ML_process.jpg)"
   ]
  },
  {
   "cell_type": "markdown",
   "metadata": {},
   "source": [
    "Note: it is crucial to feed the model, accurate and clean(without outlier) data because if you don't, then the predictions will be off and its accuracy won't be reliable. That is the reason why modelling (fine-tuning a model to make predictions) is just a small part of an end-to-end machine learning project as opposed to data cleaning. I said in [this post](https://semasuka.github.io/blog/2019/03/26/introduction-to-eda.html), data scientists spend 60% of their time cleaning the data and only 4% modelling. "
   ]
  },
  {
   "cell_type": "markdown",
   "metadata": {},
   "source": [
    "#### 2.2 When shall we use machine learning or traditional programming? "
   ]
  },
  {
   "cell_type": "markdown",
   "metadata": {},
   "source": [
    "Here are some questions to ask yourself when choosing to use Machine Learning or traditional programming for a project:\n",
    "\n",
    "* Does this project try to solve a problem that requires a lot of fine-tuning and rules? if you answered yes, then use Machine Learning.\n",
    "\t\n",
    "    To clarify the point above, let's say that you work at bank A as a fraud expert analyst and your boss tells you that there has been a sharp increase in credit card frauds this month. As a fraud expert with programming skills, you need to solve this as soon as possible. You first analyse the transactions reported as fraud. You notice interesting similarities amount 80% them: \n",
    "    1. those transactions are from overseas, yet the account holder claims that they had not.\n",
    "    2. they are below $1000.\n",
    "    3. the account holders are elders (65 years old and above).\n",
    "\n",
    "    After gathering these pieces of information, you decided to create a script to detect and block similar transactions that will occur in the future. After deploying the script for a week, there is a drop in the number of fraudulent transactions reported. Yes! we did. \n",
    "\n",
    "    After two months your bass comes back to you and tells you that the number of fraud has gone up again. It seems like the scammers now use a VPN, the transactions appear to be from within the country. Secondly, in the new fraudulent transactions, the amount transacted is not always below $1000. The scammers have found a way to bypass the script that you have written.\n",
    "\n",
    "You are thinking about two options to solve this issue:\n",
    "   Option 1, rewrite a new script taking into consideration the new rules.\n",
    "   Option 2, come up with a script that can adapt to new rules without being explicitly coded by you.\n",
    "\n",
    "The first option is tedious, and it is a matter of time until the scammers find a way of going around it. So the best option would be option 2, let the script adapt using the new transaction data and let the script block the fraudulent transaction with minimal intervention. Comes in Machine Learning! \n",
    "\n"
   ]
  },
  {
   "cell_type": "code",
   "execution_count": null,
   "metadata": {},
   "outputs": [],
   "source": [
    "I strong believe that machine learning and traditional programming will co-estist in the future as they do solve problems differentely therefore one can't replace the other."
   ]
  }
 ],
 "metadata": {
  "kernelspec": {
   "display_name": "Python 3",
   "language": "python",
   "name": "python3"
  },
  "language_info": {
   "codemirror_mode": {
    "name": "ipython",
    "version": 3
   },
   "file_extension": ".py",
   "mimetype": "text/x-python",
   "name": "python",
   "nbconvert_exporter": "python",
   "pygments_lexer": "ipython3",
   "version": "3.7.9"
  }
 },
 "nbformat": 4,
 "nbformat_minor": 4
}
