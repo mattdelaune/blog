{
 "cells": [
  {
   "cell_type": "markdown",
   "metadata": {},
   "source": [
    "In this post, we are going to discover all you need to know about data types, operators and variables in python. I'll be using jupyter\n",
    "notebook, feel free to use any text editor of your choice but I do highly recommend to use jupyter especially if you are interested in data science. I also suggest to type the codes and run it on your system and see your results. This blog is entirely written in Jupyter and exported as a markdown file."
   ]
  },
  {
   "cell_type": "markdown",
   "metadata": {},
   "source": [
    "### print function"
   ]
  },
  {
   "cell_type": "markdown",
   "metadata": {},
   "source": [
    "We'll start this tutorial by printing the traditional \"hello world\" example using the print pre-written function. A function is a group of code that performs a specific task. In this case, the function displays anything written between its parenthesis."
   ]
  },
  {
   "cell_type": "code",
   "execution_count": 63,
   "metadata": {},
   "outputs": [
    {
     "name": "stdout",
     "output_type": "stream",
     "text": [
      "34\n"
     ]
    }
   ],
   "source": [
    "print(34)"
   ]
  },
  {
   "cell_type": "markdown",
   "metadata": {},
   "source": [
    "To print text, we have to add double or single quotes"
   ]
  },
  {
   "cell_type": "code",
   "execution_count": 2,
   "metadata": {},
   "outputs": [
    {
     "name": "stdout",
     "output_type": "stream",
     "text": [
      "Hello world\n"
     ]
    }
   ],
   "source": [
    "print(\"Hello world\")"
   ]
  },
  {
   "cell_type": "code",
   "execution_count": 3,
   "metadata": {},
   "outputs": [
    {
     "name": "stdout",
     "output_type": "stream",
     "text": [
      "Hello world\n"
     ]
    }
   ],
   "source": [
    "print('Hello world')"
   ]
  },
  {
   "cell_type": "markdown",
   "metadata": {},
   "source": [
    "We can also print special character"
   ]
  },
  {
   "cell_type": "code",
   "execution_count": 4,
   "metadata": {},
   "outputs": [
    {
     "name": "stdout",
     "output_type": "stream",
     "text": [
      "$%#@\n"
     ]
    }
   ],
   "source": [
    "print(\"$%#@\")"
   ]
  },
  {
   "cell_type": "markdown",
   "metadata": {},
   "source": [
    "The print function can be empty, in this instance nothing will be displayed"
   ]
  },
  {
   "cell_type": "code",
   "execution_count": 5,
   "metadata": {},
   "outputs": [
    {
     "name": "stdout",
     "output_type": "stream",
     "text": [
      "\n"
     ]
    }
   ],
   "source": [
    "print(\"\")"
   ]
  },
  {
   "cell_type": "markdown",
   "metadata": {},
   "source": [
    "### Data type"
   ]
  },
  {
   "cell_type": "markdown",
   "metadata": {},
   "source": [
    "data type simply means the type of information stored in computer memory. In python, we have several data types, but for this introductory post, we are going to talk about 3 of them: numerical, string and boolean data type."
   ]
  },
  {
   "cell_type": "markdown",
   "metadata": {},
   "source": [
    "#### Numerical data type"
   ]
  },
  {
   "cell_type": "markdown",
   "metadata": {},
   "source": [
    "##### integers"
   ]
  },
  {
   "cell_type": "markdown",
   "metadata": {},
   "source": [
    "Integers are numbers with no decimal part in it. In Python 3, there is no limit on how long an integer can be it's only constrained by how memory your system has."
   ]
  },
  {
   "cell_type": "code",
   "execution_count": 6,
   "metadata": {},
   "outputs": [
    {
     "name": "stdout",
     "output_type": "stream",
     "text": [
      "1234222\n"
     ]
    }
   ],
   "source": [
    "print(1234222)"
   ]
  },
  {
   "cell_type": "code",
   "execution_count": 7,
   "metadata": {},
   "outputs": [
    {
     "name": "stdout",
     "output_type": "stream",
     "text": [
      "4\n"
     ]
    }
   ],
   "source": [
    "print(4)"
   ]
  },
  {
   "cell_type": "markdown",
   "metadata": {},
   "source": [
    "integers can be written in binary, octal, and hexadecimal form."
   ]
  },
  {
   "cell_type": "markdown",
   "metadata": {},
   "source": [
    "octal"
   ]
  },
  {
   "cell_type": "code",
   "execution_count": 10,
   "metadata": {},
   "outputs": [
    {
     "name": "stdout",
     "output_type": "stream",
     "text": [
      "8\n",
      "19\n"
     ]
    }
   ],
   "source": [
    "print(0o10)\n",
    "print(0o23)"
   ]
  },
  {
   "cell_type": "markdown",
   "metadata": {},
   "source": [
    "binary"
   ]
  },
  {
   "cell_type": "code",
   "execution_count": 16,
   "metadata": {},
   "outputs": [
    {
     "name": "stdout",
     "output_type": "stream",
     "text": [
      "2\n",
      "30\n"
     ]
    }
   ],
   "source": [
    "print(0b10)\n",
    "print(0b011110)"
   ]
  },
  {
   "cell_type": "markdown",
   "metadata": {},
   "source": [
    "Hexadecimal"
   ]
  },
  {
   "cell_type": "code",
   "execution_count": 17,
   "metadata": {},
   "outputs": [
    {
     "name": "stdout",
     "output_type": "stream",
     "text": [
      "73\n",
      "16\n"
     ]
    }
   ],
   "source": [
    "print(0x49)\n",
    "print(0x10)"
   ]
  },
  {
   "cell_type": "markdown",
   "metadata": {},
   "source": [
    "you can learn more about binary [here](https://en.wikipedia.org/wiki/Binary_number), octal [here](https://en.wikipedia.org/wiki/Octal) and hexadecimal [here](https://en.wikipedia.org/wiki/Hexadecimal)"
   ]
  },
  {
   "cell_type": "markdown",
   "metadata": {},
   "source": [
    "##### float"
   ]
  },
  {
   "cell_type": "markdown",
   "metadata": {},
   "source": [
    "floats are numbers with a decimal part. Optionally, the character e or E followed by a positive or negative integer can be appended to it to represent mathematical notation."
   ]
  },
  {
   "cell_type": "code",
   "execution_count": 19,
   "metadata": {},
   "outputs": [
    {
     "name": "stdout",
     "output_type": "stream",
     "text": [
      "0.4\n"
     ]
    }
   ],
   "source": [
    "print(0.4)"
   ]
  },
  {
   "cell_type": "code",
   "execution_count": 28,
   "metadata": {},
   "outputs": [
    {
     "name": "stdout",
     "output_type": "stream",
     "text": [
      "51000.0\n"
     ]
    }
   ],
   "source": [
    "print(5.1e4)"
   ]
  },
  {
   "cell_type": "code",
   "execution_count": 21,
   "metadata": {},
   "outputs": [
    {
     "name": "stdout",
     "output_type": "stream",
     "text": [
      "0.00042\n"
     ]
    }
   ],
   "source": [
    "print(4.2e-4)"
   ]
  },
  {
   "cell_type": "markdown",
   "metadata": {},
   "source": [
    "##### complex"
   ]
  },
  {
   "cell_type": "markdown",
   "metadata": {},
   "source": [
    "Complex numbers are written as \"real part\"+\"imaginary part\".j"
   ]
  },
  {
   "cell_type": "code",
   "execution_count": 27,
   "metadata": {},
   "outputs": [
    {
     "name": "stdout",
     "output_type": "stream",
     "text": [
      "(3+2j)\n"
     ]
    }
   ],
   "source": [
    "print(3+2j)"
   ]
  },
  {
   "cell_type": "markdown",
   "metadata": {},
   "source": [
    "#### string data type"
   ]
  },
  {
   "cell_type": "markdown",
   "metadata": {},
   "source": [
    "As we have seen at the beginning, a string is a sequence of characters. it is part of the sequence data type and is used to represent a single, special character or a sequence of characters which form text. String literals are delimited using either single, double or triple quotes."
   ]
  },
  {
   "cell_type": "code",
   "execution_count": 64,
   "metadata": {},
   "outputs": [
    {
     "name": "stdout",
     "output_type": "stream",
     "text": [
      "a\n",
      "This a sequence of characters\n",
      "I am a delimited by single quotes\n",
      "I am a delimited by double quotes\n",
      "I am a delimited by single quotes\n"
     ]
    }
   ],
   "source": [
    "print(\"a\")\n",
    "print(\"This a sequence of characters\")\n",
    "print('I am a delimited by single quotes')\n",
    "print(\"I am a delimited by double quotes\")\n",
    "print(\"\"\"I am a delimited by single quotes\"\"\")"
   ]
  },
  {
   "cell_type": "markdown",
   "metadata": {},
   "source": [
    "But we should not use single quote and double quotes delimiter at the same time this will result in an error."
   ]
  },
  {
   "cell_type": "code",
   "execution_count": 31,
   "metadata": {},
   "outputs": [
    {
     "ename": "SyntaxError",
     "evalue": "EOL while scanning string literal (<ipython-input-31-327641873bad>, line 1)",
     "output_type": "error",
     "traceback": [
      "\u001b[0;36m  File \u001b[0;32m\"<ipython-input-31-327641873bad>\"\u001b[0;36m, line \u001b[0;32m1\u001b[0m\n\u001b[0;31m    print('This is wrong\")\u001b[0m\n\u001b[0m                          ^\u001b[0m\n\u001b[0;31mSyntaxError\u001b[0m\u001b[0;31m:\u001b[0m EOL while scanning string literal\n"
     ]
    }
   ],
   "source": [
    "print('This is wrong\")"
   ]
  },
  {
   "cell_type": "markdown",
   "metadata": {},
   "source": [
    "N.B: Errors are your best friend, it is a way python is just telling you that it does not understand what you have written. It also gives useful information on where you have gone wrong by using an arrow point at where you've made a mistake and also tells you what type of error it is. In the case above, It is saying that we have made a SyntaxError. There are many more types of errors in Python and we are going to discuss how to handle them gracefully in the upcoming posts using exception handling. "
   ]
  },
  {
   "cell_type": "markdown",
   "metadata": {},
   "source": [
    "if we want to use simple and double quotes at the same time, we have these options:\n",
    "1. to use a backslash key also called the escape sequence"
   ]
  },
  {
   "cell_type": "code",
   "execution_count": 2,
   "metadata": {},
   "outputs": [
    {
     "name": "stdout",
     "output_type": "stream",
     "text": [
      "this is kevin's house\n"
     ]
    }
   ],
   "source": [
    "print(\"this is kevin\\'s house\")"
   ]
  },
  {
   "cell_type": "markdown",
   "metadata": {},
   "source": [
    "I explain in detail about the escape sequences in python toward the end of the blog"
   ]
  },
  {
   "cell_type": "markdown",
   "metadata": {},
   "source": [
    "2. Delimit the string by using double or single quote"
   ]
  },
  {
   "cell_type": "code",
   "execution_count": 3,
   "metadata": {},
   "outputs": [
    {
     "name": "stdout",
     "output_type": "stream",
     "text": [
      "This is kevin's house\n",
      "Marcus said:\"freedom to the people\"\n"
     ]
    }
   ],
   "source": [
    "print(\"This is kevin's house\")\n",
    "print('Marcus said:\"freedom to the people\"')"
   ]
  },
  {
   "cell_type": "markdown",
   "metadata": {},
   "source": [
    "3. We can also delimit the string with triple quotes this allows to use double and single quote in the same string."
   ]
  },
  {
   "cell_type": "code",
   "execution_count": 6,
   "metadata": {},
   "outputs": [
    {
     "name": "stdout",
     "output_type": "stream",
     "text": [
      "The chief said:\"No, this is Bob's house\" \n",
      "The chief said:\"No, this is Bob's house\" \n"
     ]
    }
   ],
   "source": [
    "print(\"\"\" The chief said:\"No, this is Bob's house\" \"\"\")\n",
    "print(''' The chief said:\"No, this is Bob's house\" ''')"
   ]
  },
  {
   "cell_type": "markdown",
   "metadata": {},
   "source": [
    "#### boolean data type"
   ]
  },
  {
   "cell_type": "markdown",
   "metadata": {},
   "source": [
    "Boolean data type, named after the mathematician George Boole, is a type of information that can be expressed as True or False only.\n",
    "\n",
    "As you will see in upcoming tutorials, expressions in Python \n",
    "are often evaluated in Boolean context, meaning they are \n",
    "interpreted to represent truth or falsehood.\n",
    "A value that is true in Boolean context is sometimes said \n",
    "to be “truthy,” and one that is false in Boolean context \n",
    "is said to be “falsy.” (You may also see “falsy” spelt “falsey.”)\n",
    "\n",
    "The “truthiness” of an object of the Boolean type is self-evident: Boolean objects that are equal to True are truthy (true), and those equal to False are falsy (false). But non-Boolean objects can be evaluated in a Boolean context as well and determined to be true or false."
   ]
  },
  {
   "cell_type": "code",
   "execution_count": null,
   "metadata": {
    "scrolled": true
   },
   "outputs": [],
   "source": [
    "print(True)\n",
    "print(False)"
   ]
  },
  {
   "cell_type": "markdown",
   "metadata": {},
   "source": [
    "You will learn more about the evaluation of objects using Booleans when you encounter logical operators and conditional statements in the upcoming tutorial."
   ]
  },
  {
   "cell_type": "markdown",
   "metadata": {},
   "source": [
    "To conclude on this topic, these are 3 basic data types they are many more and we will discuss them as we move to the more advanced topics in python"
   ]
  },
  {
   "cell_type": "markdown",
   "metadata": {},
   "source": [
    "### Type function"
   ]
  },
  {
   "cell_type": "markdown",
   "metadata": {},
   "source": [
    "The type function in python returns the data type of a given value is. This function is very useful when we don't know or when we are in doubt of the data type of a given value. we are using the print( ) function to display the data type which was returned by the type( ) function."
   ]
  },
  {
   "cell_type": "code",
   "execution_count": 15,
   "metadata": {},
   "outputs": [
    {
     "name": "stdout",
     "output_type": "stream",
     "text": [
      "<class 'int'>\n",
      "<class 'int'>\n",
      "<class 'int'>\n",
      "<class 'int'>\n"
     ]
    }
   ],
   "source": [
    "print(type(44))\n",
    "print(type(0o10))\n",
    "print(type(0b10))\n",
    "print(type(0x10))"
   ]
  },
  {
   "cell_type": "code",
   "execution_count": 18,
   "metadata": {},
   "outputs": [
    {
     "name": "stdout",
     "output_type": "stream",
     "text": [
      "<class 'float'>\n",
      "<class 'float'>\n"
     ]
    }
   ],
   "source": [
    "print(type(5.1e4))\n",
    "print(type(8.9e-4))"
   ]
  },
  {
   "cell_type": "code",
   "execution_count": 19,
   "metadata": {},
   "outputs": [
    {
     "name": "stdout",
     "output_type": "stream",
     "text": [
      "<class 'complex'>\n"
     ]
    }
   ],
   "source": [
    "print(type(3+2j))"
   ]
  },
  {
   "cell_type": "code",
   "execution_count": 16,
   "metadata": {},
   "outputs": [
    {
     "name": "stdout",
     "output_type": "stream",
     "text": [
      "<class 'bool'>\n",
      "<class 'bool'>\n"
     ]
    }
   ],
   "source": [
    "print(type(True))\n",
    "print(type(False))"
   ]
  },
  {
   "cell_type": "code",
   "execution_count": 22,
   "metadata": {},
   "outputs": [
    {
     "name": "stdout",
     "output_type": "stream",
     "text": [
      "<class 'str'>\n",
      "<class 'str'>\n"
     ]
    }
   ],
   "source": [
    "print(type(\"\"\" The chief said:\"No, this is Bob's house\" \"\"\"))\n",
    "print(type(\"I am delimited by double quotes\"))"
   ]
  },
  {
   "cell_type": "markdown",
   "metadata": {},
   "source": [
    "### comments"
   ]
  },
  {
   "cell_type": "markdown",
   "metadata": {},
   "source": [
    "Comments in Python are part of the code that will be ignored while running(executing) the code. The comments can be useful when giving some explanation to code or when we want to ignore codes without deleting them."
   ]
  },
  {
   "cell_type": "code",
   "execution_count": 27,
   "metadata": {},
   "outputs": [
    {
     "name": "stdout",
     "output_type": "stream",
     "text": [
      "This will print\n",
      "This will also print\n"
     ]
    }
   ],
   "source": [
    "print(\"This will print\")\n",
    "#comment start with # character. all the text after # will be ignored\n",
    "#this will be not print\n",
    "#print(\"hello word\")\n",
    "print(\"This will also print\")"
   ]
  },
  {
   "cell_type": "markdown",
   "metadata": {},
   "source": [
    "### Variables in python"
   ]
  },
  {
   "cell_type": "markdown",
   "metadata": {},
   "source": [
    "To easily find and recall codes stored in computer memory, we use variables. think of variables as boxes that contain the values and those boxes have labels on them to easily differentiate them. the labels correspond to the names given to the variables. The values(right of the = sign) are stored into variables(left of the = sign). The act of giving a value to a variable using the = sign is called declaring a variable"
   ]
  },
  {
   "cell_type": "code",
   "execution_count": 28,
   "metadata": {},
   "outputs": [
    {
     "name": "stdout",
     "output_type": "stream",
     "text": [
      "semasuka\n"
     ]
    }
   ],
   "source": [
    "name = \"semasuka\"\n",
    "print(name)"
   ]
  },
  {
   "cell_type": "markdown",
   "metadata": {},
   "source": [
    "Here \"name\" is the variable name, the value is \"semasuka\", we can print the value stored in the variable by calling\n",
    "the name in this case and the value of the name will be printed."
   ]
  },
  {
   "cell_type": "markdown",
   "metadata": {},
   "source": [
    "In python, there are conventions to keep in mind while naming a variable:\n",
    "1. Don't use names that are too long\n",
    "2. The name should explicitly define the value, for example, avoid calling your variable naive names like x or a, you should be specific as possible\n",
    "3. The variable name can't start with a number or contain any special character($%&...) except underscore ( _ ) otherwise, this will result in a syntax error\n",
    "4. Since space is a special character, the pythonic way to represent a space in a variable name is by using the _\n",
    "5. Python is case-sensitive, for example naming a variable greeting and another one named Greeting, these variables will be considered as two be different variable"
   ]
  },
  {
   "cell_type": "code",
   "execution_count": null,
   "metadata": {},
   "outputs": [],
   "source": [
    "#The following code will not run, you should avoid declare variable like this\n",
    "number% = 8\n",
    "1_number = 8\n",
    "this_name_is_too_long_to_be_used = \"Not to be used\"\n",
    "x = 34\n",
    "weshouldputspacebetween = \"Not to be used\""
   ]
  },
  {
   "cell_type": "code",
   "execution_count": 45,
   "metadata": {},
   "outputs": [],
   "source": [
    "#the pythonic way to name a variable\n",
    "number_8 = 8\n",
    "my_name = \"semasuka\"\n",
    "the_total = 34\n",
    "first_second_name = \"Semasuka Stern\"\n",
    "_second_name = \"semasuka\"\n",
    "chanelle_no_5 = \"urus\"\n",
    "greeting = \"Hello\"\n",
    "Greeting = \"hi!\""
   ]
  },
  {
   "cell_type": "code",
   "execution_count": 46,
   "metadata": {},
   "outputs": [
    {
     "name": "stdout",
     "output_type": "stream",
     "text": [
      "8\n",
      "semasuka\n",
      "34\n",
      "Semasuka Stern\n",
      "Hello\n",
      "hi!\n"
     ]
    }
   ],
   "source": [
    "#now we can print the varibles\n",
    "print(number_8)\n",
    "print(my_name)\n",
    "print(the_total)\n",
    "print(first_second_name)\n",
    "print(greeting)\n",
    "print(Greeting)"
   ]
  },
  {
   "cell_type": "code",
   "execution_count": 88,
   "metadata": {},
   "outputs": [
    {
     "name": "stdout",
     "output_type": "stream",
     "text": [
      "Porsche\n"
     ]
    }
   ],
   "source": [
    "car = \"Porsche\"\n",
    "print(car)"
   ]
  },
  {
   "cell_type": "code",
   "execution_count": 78,
   "metadata": {},
   "outputs": [
    {
     "name": "stdout",
     "output_type": "stream",
     "text": [
      "Benz\n"
     ]
    }
   ],
   "source": [
    "car = \"Benz\"\n",
    "print(car)"
   ]
  },
  {
   "cell_type": "markdown",
   "metadata": {},
   "source": [
    "Also, another thing to mention is the fact that car has been assigned to a new value (Benz), so the old value (Porsche) will no longer be considered."
   ]
  },
  {
   "cell_type": "markdown",
   "metadata": {},
   "source": [
    "#### concatenation"
   ]
  },
  {
   "cell_type": "markdown",
   "metadata": {},
   "source": [
    "We can add together two variables using the + symbol this process is called concatenation."
   ]
  },
  {
   "cell_type": "code",
   "execution_count": 87,
   "metadata": {},
   "outputs": [
    {
     "name": "stdout",
     "output_type": "stream",
     "text": [
      "helloworld\n"
     ]
    }
   ],
   "source": [
    "print(\"hello\"+\"world\")"
   ]
  },
  {
   "cell_type": "markdown",
   "metadata": {},
   "source": [
    "we can add spacing for a better readability"
   ]
  },
  {
   "cell_type": "code",
   "execution_count": 68,
   "metadata": {},
   "outputs": [
    {
     "name": "stdout",
     "output_type": "stream",
     "text": [
      "hello world\n"
     ]
    }
   ],
   "source": [
    "print(\"hello\"+\" \"+\"world\")"
   ]
  },
  {
   "cell_type": "code",
   "execution_count": 69,
   "metadata": {},
   "outputs": [],
   "source": [
    "greetings = \"hello\"\n",
    "name = \"stern\""
   ]
  },
  {
   "cell_type": "code",
   "execution_count": 70,
   "metadata": {},
   "outputs": [
    {
     "name": "stdout",
     "output_type": "stream",
     "text": [
      "hello stern\n"
     ]
    }
   ],
   "source": [
    "print(greetings+\" \"+name)"
   ]
  },
  {
   "cell_type": "code",
   "execution_count": 71,
   "metadata": {},
   "outputs": [
    {
     "name": "stdout",
     "output_type": "stream",
     "text": [
      "The capital city of Burundi is Bujumbura\n",
      "country + city: Burundi Bujumbura\n"
     ]
    }
   ],
   "source": [
    "city = \"Bujumbura\"\n",
    "country = \"Burundi\"\n",
    "country_city = country + \" \" + city\n",
    "print(\"The capital city of \"+country+\" is \"+city)\n",
    "print(\"country + city: \"+country_city)"
   ]
  },
  {
   "cell_type": "markdown",
   "metadata": {},
   "source": [
    "We can not concatenate two variable with different data types"
   ]
  },
  {
   "cell_type": "code",
   "execution_count": 73,
   "metadata": {},
   "outputs": [
    {
     "name": "stdout",
     "output_type": "stream",
     "text": [
      "<class 'int'>\n",
      "<class 'str'>\n"
     ]
    }
   ],
   "source": [
    "age = 55\n",
    "my_name = \"semasuka\"\n",
    "print(type(age))\n",
    "print(type(my_name))"
   ]
  },
  {
   "cell_type": "code",
   "execution_count": 74,
   "metadata": {},
   "outputs": [
    {
     "ename": "TypeError",
     "evalue": "can only concatenate str (not \"int\") to str",
     "output_type": "error",
     "traceback": [
      "\u001b[0;31m---------------------------------------------------------------------------\u001b[0m",
      "\u001b[0;31mTypeError\u001b[0m                                 Traceback (most recent call last)",
      "\u001b[0;32m<ipython-input-74-217a319b30e3>\u001b[0m in \u001b[0;36m<module>\u001b[0;34m\u001b[0m\n\u001b[0;32m----> 1\u001b[0;31m \u001b[0mprint\u001b[0m\u001b[0;34m(\u001b[0m\u001b[0;34m\"My name is \"\u001b[0m\u001b[0;34m+\u001b[0m\u001b[0mmy_name\u001b[0m\u001b[0;34m+\u001b[0m\u001b[0;34m\" and I am \"\u001b[0m\u001b[0;34m+\u001b[0m\u001b[0mage\u001b[0m\u001b[0;34m+\u001b[0m\u001b[0;34m\" years old\"\u001b[0m\u001b[0;34m)\u001b[0m\u001b[0;34m\u001b[0m\u001b[0m\n\u001b[0m",
      "\u001b[0;31mTypeError\u001b[0m: can only concatenate str (not \"int\") to str"
     ]
    }
   ],
   "source": [
    "print(\"My name is \"+my_name+\" and I am \"+age+\" years old\")"
   ]
  },
  {
   "cell_type": "markdown",
   "metadata": {},
   "source": [
    "We are encountering a TypeError, this is due to the fact we want to add together an integer data type to a string data type. To solve this problem, we have to change the integer data type into a string data type, this process is called casting. "
   ]
  },
  {
   "cell_type": "markdown",
   "metadata": {},
   "source": [
    "#### casting"
   ]
  },
  {
   "cell_type": "markdown",
   "metadata": {},
   "source": [
    "casting is transforming one variable data type into another compatible data type."
   ]
  },
  {
   "cell_type": "code",
   "execution_count": 51,
   "metadata": {},
   "outputs": [
    {
     "name": "stdout",
     "output_type": "stream",
     "text": [
      "My name is semasuka and I am 55 years old\n"
     ]
    }
   ],
   "source": [
    "print(\"My name is \"+my_name+\" and I am \"+str(age)+\" years old\")"
   ]
  },
  {
   "cell_type": "markdown",
   "metadata": {},
   "source": [
    "So what I did there was to change(cast) the age data type from integer to a string data type using str( ) function."
   ]
  },
  {
   "cell_type": "code",
   "execution_count": 76,
   "metadata": {},
   "outputs": [
    {
     "name": "stdout",
     "output_type": "stream",
     "text": [
      "<class 'int'>\n",
      "<class 'str'>\n"
     ]
    }
   ],
   "source": [
    "some_age = 45\n",
    "print(type(some_age))\n",
    "some_age = str(some_age)\n",
    "print(type(some_age))"
   ]
  },
  {
   "cell_type": "markdown",
   "metadata": {},
   "source": [
    "We can clearly see that some_age has changed from int(integer) data type to str(string). "
   ]
  },
  {
   "cell_type": "markdown",
   "metadata": {},
   "source": [
    "### input variable"
   ]
  },
  {
   "cell_type": "markdown",
   "metadata": {},
   "source": [
    "We can input value from the user using the input( ) function and store it in a variable"
   ]
  },
  {
   "cell_type": "markdown",
   "metadata": {},
   "source": [
    "When we run it, as small box appear that's where we will input the value "
   ]
  },
  {
   "cell_type": "code",
   "execution_count": 58,
   "metadata": {},
   "outputs": [
    {
     "name": "stdout",
     "output_type": "stream",
     "text": [
      "Please enter your nameyve\n"
     ]
    }
   ],
   "source": [
    "name = input(\"Please enter your name\")\n",
    "greetings = \"hello\""
   ]
  },
  {
   "cell_type": "code",
   "execution_count": 59,
   "metadata": {},
   "outputs": [
    {
     "name": "stdout",
     "output_type": "stream",
     "text": [
      "hello yve\n"
     ]
    }
   ],
   "source": [
    "print(greetings+\" \"+name)"
   ]
  },
  {
   "cell_type": "code",
   "execution_count": 44,
   "metadata": {},
   "outputs": [
    {
     "name": "stdout",
     "output_type": "stream",
     "text": [
      "Please enter you your weight in kilogram 74\n"
     ]
    }
   ],
   "source": [
    "weight = input(\"Please enter you your weight in kilogram \")"
   ]
  },
  {
   "cell_type": "code",
   "execution_count": 61,
   "metadata": {},
   "outputs": [
    {
     "name": "stdout",
     "output_type": "stream",
     "text": [
      "Your weight is 74\n"
     ]
    }
   ],
   "source": [
    "print(\"Your weight is \"+weight)"
   ]
  },
  {
   "cell_type": "markdown",
   "metadata": {},
   "source": [
    "N.B: Remember all the input are stored as string even though they are numberical input"
   ]
  },
  {
   "cell_type": "code",
   "execution_count": 45,
   "metadata": {},
   "outputs": [
    {
     "name": "stdout",
     "output_type": "stream",
     "text": [
      "<class 'str'>\n"
     ]
    }
   ],
   "source": [
    "print(type(weight))"
   ]
  },
  {
   "cell_type": "markdown",
   "metadata": {},
   "source": [
    "### operator"
   ]
  },
  {
   "cell_type": "markdown",
   "metadata": {},
   "source": [
    "#### arithmetic operators"
   ]
  },
  {
   "cell_type": "markdown",
   "metadata": {},
   "source": [
    "To perform basic arithmetic operations on variables in python, we use the following"
   ]
  },
  {
   "cell_type": "code",
   "execution_count": 79,
   "metadata": {},
   "outputs": [
    {
     "name": "stdout",
     "output_type": "stream",
     "text": [
      "Addition of 12 and 3 is 15\n",
      "Substraction of 12 and 3 is 9\n",
      "Multiplication of 12 and 3 is 36\n",
      "division of 12 and 3 is 4.0\n",
      "Truncation Division (also known as floordivision or floor division) of 12 and 3 is 4\n",
      "12 exponential 3 is 1728\n",
      "modulus of 12 and 3 is 0\n"
     ]
    }
   ],
   "source": [
    "first_num = 12\n",
    "sec_num = 3\n",
    "print(\"Addition of 12 and 3 is \"+str(first_num+sec_num))\n",
    "print(\"Substraction of 12 and 3 is \"+str(first_num-sec_num))\n",
    "print(\"Multiplication of 12 and 3 is \"+str(first_num*sec_num))\n",
    "print(\"division of 12 and 3 is \"+str(first_num/sec_num))\n",
    "print(\"Truncation Division (also known as floordivision or floor division) of 12 and 3 is \"+str(first_num//sec_num))\n",
    "print(\"12 exponential 3 is \"+str(first_num**sec_num))\n",
    "print(\"modulus of 12 and 3 is \"+str(12%3))"
   ]
  },
  {
   "cell_type": "markdown",
   "metadata": {},
   "source": [
    "To perform addition we use +, subtraction we use -, multiplication we use *, the division we use /, truncation division we use //. Truncation division returns the result as an integer and ignores the decimal part on the result, exponential we use ** and lastly modulus we use %. Modulus returns the remainder of the division."
   ]
  },
  {
   "cell_type": "markdown",
   "metadata": {},
   "source": [
    "#### operator precedence"
   ]
  },
  {
   "cell_type": "markdown",
   "metadata": {},
   "source": [
    "As it is in math, when different operators are found in the same expression, the operator with the highest precedence will be executed first. this is due to the operator precedence. In Python, it is the same."
   ]
  },
  {
   "cell_type": "code",
   "execution_count": 1,
   "metadata": {},
   "outputs": [
    {
     "name": "stdout",
     "output_type": "stream",
     "text": [
      "-37.0\n"
     ]
    }
   ],
   "source": [
    "print(6 + 15/3 - 4*12)"
   ]
  },
  {
   "cell_type": "markdown",
   "metadata": {},
   "source": [
    "here we might think that the answer would 6 plus 15 which is 21 then divide it by 3 then minus 4 and multiply by 12 to give a result of 36 but the answer is -37. why? well in Python the operators with the highest precedence will be calculated first (in this case division and multiplication will be evaluated first) and then the operators with the lowest precedence. So 15 divided by 3 will be executed first at the same time as 4 times 12, the result from 15 divided by 3 will be then added to 6 which is 11 then substracte 48(4 times 12) to give the final result of -37."
   ]
  },
  {
   "cell_type": "markdown",
   "metadata": {},
   "source": [
    "To remove ambiguity caused by operator precedence, we can use parathesis to group together expressions to be executed first."
   ]
  },
  {
   "cell_type": "code",
   "execution_count": 80,
   "metadata": {},
   "outputs": [
    {
     "name": "stdout",
     "output_type": "stream",
     "text": [
      "36.0\n"
     ]
    }
   ],
   "source": [
    "print((((6+15)/3)-4)*12)"
   ]
  },
  {
   "cell_type": "markdown",
   "metadata": {},
   "source": [
    "To learn more about operator precedence in Python, visit [this](https://www.tutorialspoint.com/python/operators_precedence_example.htm) link."
   ]
  },
  {
   "cell_type": "markdown",
   "metadata": {},
   "source": [
    "#### assignment operator"
   ]
  },
  {
   "cell_type": "markdown",
   "metadata": {},
   "source": [
    "As we have already seen, to declare a variable in python we use the = sign, this is called assignment of variables"
   ]
  },
  {
   "cell_type": "code",
   "execution_count": 83,
   "metadata": {},
   "outputs": [],
   "source": [
    "price = 39.99"
   ]
  },
  {
   "cell_type": "markdown",
   "metadata": {},
   "source": [
    "What if there is an increase in price of 10, we can either declare a new price value and assign it to the variable"
   ]
  },
  {
   "cell_type": "code",
   "execution_count": null,
   "metadata": {},
   "outputs": [],
   "source": [
    "price = 49.99"
   ]
  },
  {
   "cell_type": "markdown",
   "metadata": {},
   "source": [
    "But this is not convenient"
   ]
  },
  {
   "cell_type": "markdown",
   "metadata": {},
   "source": [
    "A better solution is to add 10 to the existing price, then assign it to itself"
   ]
  },
  {
   "cell_type": "code",
   "execution_count": 84,
   "metadata": {},
   "outputs": [
    {
     "name": "stdout",
     "output_type": "stream",
     "text": [
      "49.99\n"
     ]
    }
   ],
   "source": [
    "price = price + 10\n",
    "print(price)"
   ]
  },
  {
   "cell_type": "markdown",
   "metadata": {},
   "source": [
    "There is a short hand form of writing this, which is much more prefered"
   ]
  },
  {
   "cell_type": "code",
   "execution_count": 6,
   "metadata": {},
   "outputs": [
    {
     "name": "stdout",
     "output_type": "stream",
     "text": [
      "49.99\n"
     ]
    }
   ],
   "source": [
    "price = 39.99\n",
    "price += 10\n",
    "print(price)"
   ]
  },
  {
   "cell_type": "markdown",
   "metadata": {},
   "source": [
    "we can do substraction"
   ]
  },
  {
   "cell_type": "code",
   "execution_count": 8,
   "metadata": {},
   "outputs": [
    {
     "name": "stdout",
     "output_type": "stream",
     "text": [
      "29.990000000000002\n"
     ]
    }
   ],
   "source": [
    "price = 39.99\n",
    "price -= 10\n",
    "print(price)"
   ]
  },
  {
   "cell_type": "markdown",
   "metadata": {},
   "source": [
    "division"
   ]
  },
  {
   "cell_type": "code",
   "execution_count": 9,
   "metadata": {},
   "outputs": [
    {
     "name": "stdout",
     "output_type": "stream",
     "text": [
      "3.999\n"
     ]
    }
   ],
   "source": [
    "price = 39.99\n",
    "price /= 10\n",
    "print(price)"
   ]
  },
  {
   "cell_type": "markdown",
   "metadata": {},
   "source": [
    "truncation division"
   ]
  },
  {
   "cell_type": "code",
   "execution_count": 10,
   "metadata": {},
   "outputs": [
    {
     "name": "stdout",
     "output_type": "stream",
     "text": [
      "3.0\n"
     ]
    }
   ],
   "source": [
    "price = 39.99\n",
    "price //= 10\n",
    "print(price)"
   ]
  },
  {
   "cell_type": "markdown",
   "metadata": {},
   "source": [
    "multiplication"
   ]
  },
  {
   "cell_type": "code",
   "execution_count": 12,
   "metadata": {},
   "outputs": [
    {
     "name": "stdout",
     "output_type": "stream",
     "text": [
      "79.98\n"
     ]
    }
   ],
   "source": [
    "price = 39.99\n",
    "price *= 2\n",
    "print(price)"
   ]
  },
  {
   "cell_type": "markdown",
   "metadata": {},
   "source": [
    "exponential"
   ]
  },
  {
   "cell_type": "code",
   "execution_count": 13,
   "metadata": {},
   "outputs": [
    {
     "name": "stdout",
     "output_type": "stream",
     "text": [
      "1599.2001000000002\n"
     ]
    }
   ],
   "source": [
    "price = 39.99\n",
    "price **= 2\n",
    "print(price)"
   ]
  },
  {
   "cell_type": "markdown",
   "metadata": {},
   "source": [
    "modulus"
   ]
  },
  {
   "cell_type": "code",
   "execution_count": 14,
   "metadata": {},
   "outputs": [
    {
     "name": "stdout",
     "output_type": "stream",
     "text": [
      "9.990000000000002\n"
     ]
    }
   ],
   "source": [
    "price = 39.99\n",
    "price %= 10\n",
    "print(price)"
   ]
  },
  {
   "cell_type": "markdown",
   "metadata": {},
   "source": [
    "#### comparison operator"
   ]
  },
  {
   "cell_type": "markdown",
   "metadata": {},
   "source": [
    "Comparison operators are used for comparing values, It either returns True or False according to the condition. An operand is a name given to  each value that is being compared"
   ]
  },
  {
   "cell_type": "markdown",
   "metadata": {},
   "source": [
    "* \">\"    Greater that - True if the left operand is greater than the right\n",
    "* \"<\"    Less that - True if the left operand is less than the right\n",
    "* \"==\"    Equal to - True if both operands are equal\n",
    "* \"!=\"    Not equal to - True if operands are not equal\n",
    "* \">=\"    Greater than or equal to - True if the left operand is greater than or equal to the right\n",
    "* \"<=\"    Less than or equal to - True if the left operand is less than or equal to the right"
   ]
  },
  {
   "cell_type": "code",
   "execution_count": 85,
   "metadata": {},
   "outputs": [
    {
     "name": "stdout",
     "output_type": "stream",
     "text": [
      "False\n",
      "True\n",
      "False\n",
      "True\n"
     ]
    }
   ],
   "source": [
    "num_1 = 45\n",
    "num_2 = 99\n",
    "print(num_1 > num_2)\n",
    "print(num_1 < num_2)\n",
    "print(num_1 >= num_2)\n",
    "print(num_2 <= num_2)"
   ]
  },
  {
   "cell_type": "code",
   "execution_count": 19,
   "metadata": {},
   "outputs": [
    {
     "name": "stdout",
     "output_type": "stream",
     "text": [
      "True\n",
      "False\n"
     ]
    }
   ],
   "source": [
    "num_3 = 32\n",
    "num_4 = 32\n",
    "print(num_3 == num_4)\n",
    "print(num_3 != num_4)"
   ]
  },
  {
   "cell_type": "markdown",
   "metadata": {},
   "source": [
    "#### logical operator"
   ]
  },
  {
   "cell_type": "markdown",
   "metadata": {},
   "source": [
    "Logical operators are \"and\", \"or\", \"not\" operators. These operators evaluate the operands (the values that are being compared) and return True or False.\n",
    "\n",
    "* \"and\" return True if both the operands are true\n",
    "* \"or\" return True if either of the operands is true\n",
    "* \"not\" return True if the operand is False (complements the operand)"
   ]
  },
  {
   "cell_type": "code",
   "execution_count": 23,
   "metadata": {},
   "outputs": [
    {
     "name": "stdout",
     "output_type": "stream",
     "text": [
      "False\n",
      "True\n"
     ]
    }
   ],
   "source": [
    "#let's use this qualification to define a person\n",
    "is_boy = False\n",
    "is_girl = True\n",
    "is_teen = True\n",
    "print(is_boy and is_girl)\n",
    "print(is_girl and is_teen)"
   ]
  },
  {
   "cell_type": "code",
   "execution_count": 24,
   "metadata": {},
   "outputs": [
    {
     "name": "stdout",
     "output_type": "stream",
     "text": [
      "True\n"
     ]
    }
   ],
   "source": [
    "is_refugee = False\n",
    "is_unemployed = True\n",
    "print(is_refugee or is_unemployed)"
   ]
  },
  {
   "cell_type": "code",
   "execution_count": 25,
   "metadata": {},
   "outputs": [
    {
     "name": "stdout",
     "output_type": "stream",
     "text": [
      "True\n"
     ]
    }
   ],
   "source": [
    "is_refugee = True\n",
    "is_unemployed = True\n",
    "print(is_refugee or is_unemployed)"
   ]
  },
  {
   "cell_type": "code",
   "execution_count": 28,
   "metadata": {},
   "outputs": [
    {
     "name": "stdout",
     "output_type": "stream",
     "text": [
      "False\n"
     ]
    }
   ],
   "source": [
    "girl = True\n",
    "print(not girl)"
   ]
  },
  {
   "cell_type": "markdown",
   "metadata": {},
   "source": [
    "#### membership operator"
   ]
  },
  {
   "cell_type": "markdown",
   "metadata": {},
   "source": [
    "\"is\" and \"is not\" are the identity operators in Python. They are used to check if two values (or variables) are located on the same part of the memory. Two variables that are equal does not imply that they are identical.\n",
    "\n",
    "* \"is\" return True if the operands are identical (refer to the same object in memory).\n",
    "* \"is not\" return True if the operands are not identical (do not refer to the same object in memory)."
   ]
  },
  {
   "cell_type": "code",
   "execution_count": 39,
   "metadata": {},
   "outputs": [
    {
     "name": "stdout",
     "output_type": "stream",
     "text": [
      "True\n",
      "True\n"
     ]
    }
   ],
   "source": [
    "num_1 = 45\n",
    "num_2 = 45\n",
    "string_1 = \"water\"\n",
    "string_2 = \"water\"\n",
    "print(num_1 is num_2)\n",
    "print(string_1 is string_2)"
   ]
  },
  {
   "cell_type": "markdown",
   "metadata": {},
   "source": [
    "Now let's see an example using a list, We'll see list data type in depth in the upcoming post but bear with me for now and just simply put, a list data type is a container that can store many other types at once."
   ]
  },
  {
   "cell_type": "code",
   "execution_count": 86,
   "metadata": {},
   "outputs": [],
   "source": [
    "the_list_1 = [\"water\",5,True]\n",
    "the_list_2 = [\"water\",5,True]"
   ]
  },
  {
   "cell_type": "code",
   "execution_count": 87,
   "metadata": {},
   "outputs": [
    {
     "name": "stdout",
     "output_type": "stream",
     "text": [
      "False\n"
     ]
    }
   ],
   "source": [
    "print(the_list_1 in the_list_2)"
   ]
  },
  {
   "cell_type": "markdown",
   "metadata": {},
   "source": [
    "As we can see, False was returned. This means that Python stores the_list_1 in a different part of memory as the_list_2 even though the values are the same. We can conclude that Python stores some data type differently."
   ]
  },
  {
   "cell_type": "markdown",
   "metadata": {},
   "source": [
    "#### identify operator"
   ]
  },
  {
   "cell_type": "markdown",
   "metadata": {},
   "source": [
    "\"in\" and \"not in\" are the membership operators in Python. They are used to test whether a value or variable is found in a sequence (string, list, tuple, set and dictionary)data type. List, tuple, set and dictionaries will be explained in the upcoming posts.\n",
    "\n",
    "* \"in\" return True if value/variable is found in the sequence.\n",
    "* \"not in\" return True if value/variable is not found in the sequence."
   ]
  },
  {
   "cell_type": "code",
   "execution_count": 33,
   "metadata": {},
   "outputs": [],
   "source": [
    "the_sentence = \"We will search a specific sequence of characters in here\"\n",
    "word_1_to_search = \"will\"\n",
    "word_2_to_search = \"a\"\n",
    "word_3_to_search = \"quence\"\n",
    "word_4_to_search = \"not in the sentence\""
   ]
  },
  {
   "cell_type": "code",
   "execution_count": 30,
   "metadata": {},
   "outputs": [
    {
     "name": "stdout",
     "output_type": "stream",
     "text": [
      "True\n"
     ]
    }
   ],
   "source": [
    "print(word_1_to_search in the_sentence)"
   ]
  },
  {
   "cell_type": "code",
   "execution_count": 31,
   "metadata": {},
   "outputs": [
    {
     "name": "stdout",
     "output_type": "stream",
     "text": [
      "True\n"
     ]
    }
   ],
   "source": [
    "print(word_2_to_search in the_sentence)"
   ]
  },
  {
   "cell_type": "code",
   "execution_count": 32,
   "metadata": {},
   "outputs": [
    {
     "name": "stdout",
     "output_type": "stream",
     "text": [
      "True\n"
     ]
    }
   ],
   "source": [
    "print(word_3_to_search in the_sentence)"
   ]
  },
  {
   "cell_type": "code",
   "execution_count": 34,
   "metadata": {},
   "outputs": [
    {
     "name": "stdout",
     "output_type": "stream",
     "text": [
      "False\n"
     ]
    }
   ],
   "source": [
    "print(word_4_to_search in the_sentence)"
   ]
  },
  {
   "cell_type": "code",
   "execution_count": 35,
   "metadata": {},
   "outputs": [
    {
     "name": "stdout",
     "output_type": "stream",
     "text": [
      "True\n"
     ]
    }
   ],
   "source": [
    "print(word_4_to_search not in the_sentence)"
   ]
  },
  {
   "cell_type": "markdown",
   "metadata": {},
   "source": [
    "N.B: All remember that Python is case sensitive"
   ]
  },
  {
   "cell_type": "code",
   "execution_count": 37,
   "metadata": {},
   "outputs": [],
   "source": [
    "the_sentence = \"python is so much fun\"\n",
    "lowercase_word = \"python\"\n",
    "uppercase_word = \"Python\""
   ]
  },
  {
   "cell_type": "code",
   "execution_count": 38,
   "metadata": {},
   "outputs": [
    {
     "name": "stdout",
     "output_type": "stream",
     "text": [
      "True\n",
      "False\n",
      "True\n"
     ]
    }
   ],
   "source": [
    "print(lowercase_word in the_sentence)\n",
    "print(uppercase_word in the_sentence)\n",
    "print(uppercase_word not in the_sentence)"
   ]
  },
  {
   "cell_type": "markdown",
   "metadata": {},
   "source": [
    "### String functions"
   ]
  },
  {
   "cell_type": "markdown",
   "metadata": {},
   "source": [
    "#### the escaping character"
   ]
  },
  {
   "cell_type": "markdown",
   "metadata": {},
   "source": [
    "String literals can be enclosed(delimited) by single quote('), double quotes(\") or triple quotes(\"\"\"). if we use single quote to delimit a string character and use at the same time another single quote in the string literal, this will result in an error."
   ]
  },
  {
   "cell_type": "code",
   "execution_count": 51,
   "metadata": {},
   "outputs": [
    {
     "ename": "SyntaxError",
     "evalue": "invalid syntax (<ipython-input-51-05f322a64dab>, line 1)",
     "output_type": "error",
     "traceback": [
      "\u001b[0;36m  File \u001b[0;32m\"<ipython-input-51-05f322a64dab>\"\u001b[0;36m, line \u001b[0;32m1\u001b[0m\n\u001b[0;31m    print('let's learn Python')\u001b[0m\n\u001b[0m               ^\u001b[0m\n\u001b[0;31mSyntaxError\u001b[0m\u001b[0;31m:\u001b[0m invalid syntax\n"
     ]
    }
   ],
   "source": [
    "print('let's learn Python')"
   ]
  },
  {
   "cell_type": "markdown",
   "metadata": {},
   "source": [
    "In order to use two single quotes as string delimiter and one inside the string literal, we'll have the backslash character."
   ]
  },
  {
   "cell_type": "code",
   "execution_count": 52,
   "metadata": {},
   "outputs": [
    {
     "name": "stdout",
     "output_type": "stream",
     "text": [
      "let's learn Python\n"
     ]
    }
   ],
   "source": [
    "print('let\\'s learn Python')"
   ]
  },
  {
   "cell_type": "markdown",
   "metadata": {},
   "source": [
    "The backslash ( \\ ) character is used to escape characters that otherwise have a special meaning, such as newline, backslash itself, the quote character, or tab."
   ]
  },
  {
   "cell_type": "code",
   "execution_count": 1,
   "metadata": {},
   "outputs": [
    {
     "name": "stdout",
     "output_type": "stream",
     "text": [
      "this is kevin's house\n",
      "****\n",
      "Your coach said:\"You need to exercise more often\"\n",
      "****\n",
      "You will send this letter via DHL\\FEDEX\n",
      "****\n",
      "If we want to break the string in a new line\n",
      "****\n",
      "There is a tab\tcharacter\n",
      "****\n",
      "This text have been splited\n",
      "into\n",
      "different lines\n",
      "****\n",
      "This is\n",
      "splitted\n",
      "in\n",
      "several\n",
      "lines\n"
     ]
    }
   ],
   "source": [
    "print('this is kevin\\'s house')\n",
    "print(\"****\") #this starts are used to separate the output\n",
    "print(\"Your coach said:\\\"You need to exercise more often\\\"\")\n",
    "print(\"****\")\n",
    "print(\"You will send this letter via DHL\\\\FEDEX\")\n",
    "print(\"****\")\n",
    "print(\"If we want to break \\\n",
    "the string \\\n",
    "in a new \\\n",
    "line\")\n",
    "print(\"****\")\n",
    "print(\"There is a tab\\tcharacter\")\n",
    "print(\"****\")\n",
    "print(\"This text have been splited\\ninto\\ndifferent lines\")\n",
    "print(\"****\")\n",
    "print(\"\"\"This is\n",
    "splitted\n",
    "in\n",
    "several\n",
    "lines\"\"\")"
   ]
  },
  {
   "cell_type": "markdown",
   "metadata": {},
   "source": [
    "We can tell python to handle the string as a raw string literal by adding an r or R at the beginning of the string. Python will ignore all the escape sequence found within the string"
   ]
  },
  {
   "cell_type": "code",
   "execution_count": 61,
   "metadata": {},
   "outputs": [
    {
     "name": "stdout",
     "output_type": "stream",
     "text": [
      "this is kevin\\ house\n",
      "this is kevin\\'s house\n",
      "this should have been\\t a tab space\n",
      "You will send this letter via DHL\\\\FEDEX\n",
      "This text will not be splited\\ninto\\ndifferent lines\n"
     ]
    }
   ],
   "source": [
    "print(r\"this is kevin\\ house\")\n",
    "print(r'this is kevin\\'s house')\n",
    "print(r\"\"\"this should have been\\t a tab space\"\"\")\n",
    "print(r\"You will send this letter via DHL\\\\FEDEX\")\n",
    "print(R\"This text will not be splited\\ninto\\ndifferent lines\")"
   ]
  },
  {
   "cell_type": "markdown",
   "metadata": {},
   "source": [
    "You can check out more about escape characters [here](https://docs.python.org/2.0/ref/strings.html)."
   ]
  },
  {
   "cell_type": "markdown",
   "metadata": {},
   "source": [
    "#### slicing a string"
   ]
  },
  {
   "cell_type": "markdown",
   "metadata": {},
   "source": [
    "We can cut and get a substring from a string using Python slicing notation. Slicing works on all sequence data type but because we have not seen the rest of the sequence data types we are going to use it on the string only on this post."
   ]
  },
  {
   "cell_type": "markdown",
   "metadata": {},
   "source": [
    "Because the string data type is a sequence of character, we can actually extract a specific character at a specific index starting from index 0 which represent the first character, index 1 represents the second character and so on. we will use this format: variable[index number]"
   ]
  },
  {
   "cell_type": "code",
   "execution_count": 2,
   "metadata": {},
   "outputs": [
    {
     "name": "stdout",
     "output_type": "stream",
     "text": [
      "r\n",
      "l\n",
      "o\n"
     ]
    }
   ],
   "source": [
    "dog_breed = \"labrador\"\n",
    "print(dog_breed[3])\n",
    "print(dog_breed[0])\n",
    "print(dog_breed[6])"
   ]
  },
  {
   "cell_type": "markdown",
   "metadata": {},
   "source": [
    "to get the last character of a string, we use index -1"
   ]
  },
  {
   "cell_type": "code",
   "execution_count": 65,
   "metadata": {},
   "outputs": [
    {
     "name": "stdout",
     "output_type": "stream",
     "text": [
      "r\n"
     ]
    }
   ],
   "source": [
    "print(dog_breed[-1])"
   ]
  },
  {
   "cell_type": "markdown",
   "metadata": {},
   "source": [
    "we can get a range of a world starting from the first character to a specific index using this format: variable[index_start: index_stop]. The character at the index_stop is not included"
   ]
  },
  {
   "cell_type": "code",
   "execution_count": 66,
   "metadata": {},
   "outputs": [
    {
     "name": "stdout",
     "output_type": "stream",
     "text": [
      "labra\n"
     ]
    }
   ],
   "source": [
    "print(dog_breed[0:5])"
   ]
  },
  {
   "cell_type": "markdown",
   "metadata": {},
   "source": [
    "The character at index 5 which is character \"d\" is not printed"
   ]
  },
  {
   "cell_type": "markdown",
   "metadata": {},
   "source": [
    "This can be also be written like this."
   ]
  },
  {
   "cell_type": "code",
   "execution_count": 68,
   "metadata": {},
   "outputs": [
    {
     "name": "stdout",
     "output_type": "stream",
     "text": [
      "labra\n"
     ]
    }
   ],
   "source": [
    "print(dog_breed[:5])"
   ]
  },
  {
   "cell_type": "markdown",
   "metadata": {},
   "source": [
    "we can also start from a specific index to the last character"
   ]
  },
  {
   "cell_type": "code",
   "execution_count": 70,
   "metadata": {
    "scrolled": true
   },
   "outputs": [
    {
     "name": "stdout",
     "output_type": "stream",
     "text": [
      "rador\n"
     ]
    }
   ],
   "source": [
    "print(dog_breed[3:])"
   ]
  },
  {
   "cell_type": "markdown",
   "metadata": {},
   "source": [
    "we can also print using negative indexes"
   ]
  },
  {
   "cell_type": "code",
   "execution_count": 76,
   "metadata": {},
   "outputs": [
    {
     "name": "stdout",
     "output_type": "stream",
     "text": [
      "ado\n"
     ]
    }
   ],
   "source": [
    "print(dog_breed[-4:-1])"
   ]
  },
  {
   "cell_type": "markdown",
   "metadata": {},
   "source": [
    "In the example above counting from the last character, we will print the character number 4 to number 1 which is the last character"
   ]
  },
  {
   "cell_type": "markdown",
   "metadata": {},
   "source": [
    "we can skip characters by introducing a third factor."
   ]
  },
  {
   "cell_type": "code",
   "execution_count": 77,
   "metadata": {},
   "outputs": [
    {
     "name": "stdout",
     "output_type": "stream",
     "text": [
      "lbao\n"
     ]
    }
   ],
   "source": [
    "print(dog_breed[0:8:2])"
   ]
  },
  {
   "cell_type": "markdown",
   "metadata": {},
   "source": [
    "Every second character(starting from 0) is printed"
   ]
  },
  {
   "cell_type": "code",
   "execution_count": 82,
   "metadata": {},
   "outputs": [
    {
     "name": "stdout",
     "output_type": "stream",
     "text": [
      "123456789\n"
     ]
    }
   ],
   "source": [
    "spaced_number = \"1, 2, 3, 4, 5, 6, 7, 8, 9\"\n",
    "print(spaced_number[0:25:3])"
   ]
  },
  {
   "cell_type": "markdown",
   "metadata": {},
   "source": [
    "For this example, every third character is printed the rest is ignored"
   ]
  },
  {
   "cell_type": "markdown",
   "metadata": {},
   "source": [
    "This can be rewritten like this"
   ]
  },
  {
   "cell_type": "code",
   "execution_count": 86,
   "metadata": {},
   "outputs": [
    {
     "name": "stdout",
     "output_type": "stream",
     "text": [
      "123456789\n"
     ]
    }
   ],
   "source": [
    "print(spaced_number[::3])"
   ]
  },
  {
   "cell_type": "markdown",
   "metadata": {},
   "source": [
    "#### duplicate string"
   ]
  },
  {
   "cell_type": "markdown",
   "metadata": {},
   "source": [
    "We can use * to duplicate string"
   ]
  },
  {
   "cell_type": "code",
   "execution_count": 4,
   "metadata": {},
   "outputs": [
    {
     "name": "stdout",
     "output_type": "stream",
     "text": [
      "YvanYvanYvanYvanYvan\n"
     ]
    }
   ],
   "source": [
    "name = \"Yvan\"\n",
    "print(name*5)"
   ]
  },
  {
   "cell_type": "code",
   "execution_count": 91,
   "metadata": {},
   "outputs": [
    {
     "name": "stdout",
     "output_type": "stream",
     "text": [
      "YvanYvanYvanYvanYvan\n"
     ]
    }
   ],
   "source": [
    "name = \"Yvan\"\n",
    "dupli_name = name * 5\n",
    "print(dupli_name)"
   ]
  },
  {
   "cell_type": "markdown",
   "metadata": {},
   "source": [
    "#### string formating using format( )"
   ]
  },
  {
   "cell_type": "markdown",
   "metadata": {},
   "source": [
    "As we have already seen, this example below will not run because of incompatibility of data type"
   ]
  },
  {
   "cell_type": "code",
   "execution_count": 5,
   "metadata": {},
   "outputs": [
    {
     "ename": "TypeError",
     "evalue": "can only concatenate str (not \"int\") to str",
     "output_type": "error",
     "traceback": [
      "\u001b[0;31m---------------------------------------------------------------------------\u001b[0m",
      "\u001b[0;31mTypeError\u001b[0m                                 Traceback (most recent call last)",
      "\u001b[0;32m<ipython-input-5-7eea149da213>\u001b[0m in \u001b[0;36m<module>\u001b[0;34m\u001b[0m\n\u001b[1;32m      1\u001b[0m \u001b[0mage\u001b[0m \u001b[0;34m=\u001b[0m \u001b[0;36m84\u001b[0m\u001b[0;34m\u001b[0m\u001b[0m\n\u001b[0;32m----> 2\u001b[0;31m \u001b[0mprint\u001b[0m\u001b[0;34m(\u001b[0m\u001b[0;34m\"I am \"\u001b[0m\u001b[0;34m+\u001b[0m\u001b[0mage\u001b[0m\u001b[0;34m+\u001b[0m\u001b[0;34m\" years old\"\u001b[0m\u001b[0;34m)\u001b[0m\u001b[0;34m\u001b[0m\u001b[0m\n\u001b[0m",
      "\u001b[0;31mTypeError\u001b[0m: can only concatenate str (not \"int\") to str"
     ]
    }
   ],
   "source": [
    "age = 84\n",
    "print(\"I am \"+age+\" years old\")"
   ]
  },
  {
   "cell_type": "markdown",
   "metadata": {},
   "source": [
    "To fix this error, we can either caste variable age or print using a function called format ( )"
   ]
  },
  {
   "cell_type": "markdown",
   "metadata": {},
   "source": [
    "format( ) method takes any number of parameters. But, is divided into two types of parameters:\n",
    "\n",
    "1. Positional parameters - list of parameters that can be accessed with the index of the parameter inside curly braces {index}\n",
    "2. Keyword parameters - list of parameters of type key=value, that can be accessed with the key of the parameter inside curly braces {key}"
   ]
  },
  {
   "cell_type": "markdown",
   "metadata": {},
   "source": [
    "1. Positional parameters"
   ]
  },
  {
   "cell_type": "code",
   "execution_count": 6,
   "metadata": {},
   "outputs": [
    {
     "name": "stdout",
     "output_type": "stream",
     "text": [
      "I am 84 years old\n",
      "I leave in Africa\n"
     ]
    }
   ],
   "source": [
    "age = 84\n",
    "print(\"I am {0} years old\".format(age))\n",
    "print(\"I leave in {0}\".format(\"Africa\"))"
   ]
  },
  {
   "cell_type": "markdown",
   "metadata": {},
   "source": [
    "Here the curly { } act as a placeholders in the string literal, and the value that will be placed there will be the variable(s)/value(s) in the .format( ). the numbers written in the { }, are the position of the variable(s)/value(s) in the .format( ) and dont forget that in Python, we count from 0."
   ]
  },
  {
   "cell_type": "code",
   "execution_count": 3,
   "metadata": {},
   "outputs": [
    {
     "name": "stdout",
     "output_type": "stream",
     "text": [
      "the husband drives a benz and the wife drives a porshe\n"
     ]
    }
   ],
   "source": [
    "husband_car = \"benz\"\n",
    "wife_car = \"porshe\"\n",
    "print(\"the husband drives a {0} and the wife drives a {1}\".format(husband_car,wife_car))"
   ]
  },
  {
   "cell_type": "code",
   "execution_count": 4,
   "metadata": {},
   "outputs": [
    {
     "name": "stdout",
     "output_type": "stream",
     "text": [
      "I am 89 years old and I live in the capital of DRC, Kinshasa\n"
     ]
    }
   ],
   "source": [
    "city = \"Kinshasa\"\n",
    "country = \"DRC\"\n",
    "print(\"I am {0} years old and I live in the capital of {1}, {2}\".format(\"89\",country,city))"
   ]
  },
  {
   "cell_type": "markdown",
   "metadata": {},
   "source": [
    "We can omit the indexes in the { } like this"
   ]
  },
  {
   "cell_type": "code",
   "execution_count": 5,
   "metadata": {},
   "outputs": [
    {
     "name": "stdout",
     "output_type": "stream",
     "text": [
      "I am 89 years old and I live in the capital of DRC, Kinshasa\n"
     ]
    }
   ],
   "source": [
    "city = \"Kinshasa\"\n",
    "country = \"DRC\"\n",
    "print(\"I am {} years old and I live in the capital of {}, {}\".format(\"89\",country,city))"
   ]
  },
  {
   "cell_type": "markdown",
   "metadata": {},
   "source": [
    "Python will automatically assign the placeholders to the matching variable(s)/value(s). always remember that the number of variables and values must be greater than the number of placeholders, else this will not run"
   ]
  },
  {
   "cell_type": "code",
   "execution_count": 6,
   "metadata": {},
   "outputs": [
    {
     "ename": "IndexError",
     "evalue": "tuple index out of range",
     "output_type": "error",
     "traceback": [
      "\u001b[0;31m---------------------------------------------------------------------------\u001b[0m",
      "\u001b[0;31mIndexError\u001b[0m                                Traceback (most recent call last)",
      "\u001b[0;32m<ipython-input-6-b94d74797fcc>\u001b[0m in \u001b[0;36m<module>\u001b[0;34m\u001b[0m\n\u001b[1;32m      1\u001b[0m \u001b[0mcity\u001b[0m \u001b[0;34m=\u001b[0m \u001b[0;34m\"Kinshasa\"\u001b[0m\u001b[0;34m\u001b[0m\u001b[0m\n\u001b[1;32m      2\u001b[0m \u001b[0mcountry\u001b[0m \u001b[0;34m=\u001b[0m \u001b[0;34m\"DRC\"\u001b[0m\u001b[0;34m\u001b[0m\u001b[0m\n\u001b[0;32m----> 3\u001b[0;31m \u001b[0mprint\u001b[0m\u001b[0;34m(\u001b[0m\u001b[0;34m\"I am {} years old and I live in the capital of {}, {}\"\u001b[0m\u001b[0;34m.\u001b[0m\u001b[0mformat\u001b[0m\u001b[0;34m(\u001b[0m\u001b[0;34m\"89\"\u001b[0m\u001b[0;34m,\u001b[0m\u001b[0mcountry\u001b[0m\u001b[0;34m)\u001b[0m\u001b[0;34m)\u001b[0m\u001b[0;34m\u001b[0m\u001b[0m\n\u001b[0m",
      "\u001b[0;31mIndexError\u001b[0m: tuple index out of range"
     ]
    }
   ],
   "source": [
    "city = \"Kinshasa\"\n",
    "country = \"DRC\"\n",
    "print(\"I am {} years old and I live in the capital of {}, {}\".format(\"89\",country))"
   ]
  },
  {
   "cell_type": "markdown",
   "metadata": {},
   "source": [
    "We can also have additional information beside the index"
   ]
  },
  {
   "cell_type": "code",
   "execution_count": 8,
   "metadata": {},
   "outputs": [
    {
     "name": "stdout",
     "output_type": "stream",
     "text": [
      "Hello John!, your account balance is $  230.893\n"
     ]
    }
   ],
   "source": [
    "print(\"Hello {}!, your account balance is ${:9.3f}\".format(\"John\",230.8926))"
   ]
  },
  {
   "cell_type": "markdown",
   "metadata": {},
   "source": [
    "in the second placeholder, we can see {:9.3f}. \n",
    "* The part before the \".\" 9 specifies the minimum width/padding of the number (230.2346) including \".\" In this case, 230.8926 is allotted a minimum of 9 places including the \".\" if no alignment option is specified, it is aligned to the right of the remaining spaces. (For strings, it is aligned to the left.\n",
    "* The part after the \".\" (3) truncates the decimal part (8926) upto the given number. In this case, 8926 is truncated after 3 places. Remaining numbers (26) is rounded off outputting 893.\n",
    "* f specifies the format is dealing with a float number. If not correctly specified, it will give out an error."
   ]
  },
  {
   "cell_type": "markdown",
   "metadata": {},
   "source": [
    "refer to this tableau to see the different formatting of numbers using format( )"
   ]
  },
  {
   "cell_type": "markdown",
   "metadata": {},
   "source": [
    "![number_format](/blog/assets/post_cont_image/num_format.png)"
   ]
  },
  {
   "cell_type": "markdown",
   "metadata": {},
   "source": [
    "2. keyword arguments"
   ]
  },
  {
   "cell_type": "markdown",
   "metadata": {},
   "source": [
    "The keyword arguments work almost the same as positional parameters the difference is that instead of using the index position in the placeholder, we use the variable name."
   ]
  },
  {
   "cell_type": "code",
   "execution_count": 9,
   "metadata": {},
   "outputs": [
    {
     "name": "stdout",
     "output_type": "stream",
     "text": [
      "My first name is semasuka and my last name is stern and I work as a Software engineer\n"
     ]
    }
   ],
   "source": [
    "print(\"My first name is {first_name} and my last name is {last_name} and I work as a {profession}\".format(first_name=\"semasuka\",last_name=\"stern\",profession=\"software engineer\"))"
   ]
  },
  {
   "cell_type": "markdown",
   "metadata": {},
   "source": [
    "The rest is exactly the same as the positional parameters."
   ]
  },
  {
   "cell_type": "markdown",
   "metadata": {},
   "source": [
    "##### more example"
   ]
  },
  {
   "cell_type": "code",
   "execution_count": 12,
   "metadata": {},
   "outputs": [
    {
     "name": "stdout",
     "output_type": "stream",
     "text": [
      "There is 31 days, in the month of January, March, May, July, August, October and December\n"
     ]
    }
   ],
   "source": [
    "print(\"There is {0} days, in the month of {1}, {2}, {3}, {4}, {5}, {6} and {7}\".format(31,\"January\",\"March\",\"May\",\"July\",\"August\",\"October\",\"December\"))"
   ]
  },
  {
   "cell_type": "code",
   "execution_count": 13,
   "metadata": {},
   "outputs": [
    {
     "name": "stdout",
     "output_type": "stream",
     "text": [
      "There is 31 days, in the month of January, March, May, July, August, October and December\n"
     ]
    }
   ],
   "source": [
    "print(\"There is {} days, in the month of {}, {}, {}, {}, {}, {} and {}\".format(31,\"January\",\"March\",\"May\",\n",
    "                                                                                      \"July\",\"August\",\"October\",\"December\"))"
   ]
  },
  {
   "cell_type": "markdown",
   "metadata": {},
   "source": [
    "Depending on which order we want the value to be displayed, we can interchange the index in the placeholder"
   ]
  },
  {
   "cell_type": "code",
   "execution_count": 16,
   "metadata": {},
   "outputs": [
    {
     "name": "stdout",
     "output_type": "stream",
     "text": [
      "During the month of March, January, May, August, October, December and July. there is 31 days, \n"
     ]
    }
   ],
   "source": [
    "print(\"During the month of {2}, {1}, {3}, {5}, {6}, {7} and {4}. there is {0} days, \".format(31,\"January\",\"March\",\"May\",\"July\",\"August\",\"October\",\"December\"))\n"
   ]
  },
  {
   "cell_type": "markdown",
   "metadata": {},
   "source": [
    "integer arguments"
   ]
  },
  {
   "cell_type": "code",
   "execution_count": 21,
   "metadata": {},
   "outputs": [
    {
     "name": "stdout",
     "output_type": "stream",
     "text": [
      "The number is: 443\n"
     ]
    }
   ],
   "source": [
    "print(\"The number is: {:d}\".format(443))"
   ]
  },
  {
   "cell_type": "markdown",
   "metadata": {},
   "source": [
    "float arguments"
   ]
  },
  {
   "cell_type": "code",
   "execution_count": 22,
   "metadata": {},
   "outputs": [
    {
     "name": "stdout",
     "output_type": "stream",
     "text": [
      "The float number is: 123.456790\n"
     ]
    }
   ],
   "source": [
    "print(\"The float number is: {:f}\".format(123.4567898))"
   ]
  },
  {
   "cell_type": "markdown",
   "metadata": {},
   "source": [
    "octal, binary and hexadecimal format"
   ]
  },
  {
   "cell_type": "code",
   "execution_count": 7,
   "metadata": {},
   "outputs": [
    {
     "name": "stdout",
     "output_type": "stream",
     "text": [
      "bin form of 30: 11110, oct form of 30: 36, hex form of 30: 1e\n"
     ]
    }
   ],
   "source": [
    "print(\"bin form of 30: {0:b}, oct form of 30: {0:o}, hex form of 30: {0:x}\".format(30))"
   ]
  },
  {
   "cell_type": "markdown",
   "metadata": {},
   "source": [
    "integer numbers with a minimum width"
   ]
  },
  {
   "cell_type": "code",
   "execution_count": 25,
   "metadata": {},
   "outputs": [
    {
     "name": "stdout",
     "output_type": "stream",
     "text": [
      "   12\n"
     ]
    }
   ],
   "source": [
    "print(\"{:5d}\".format(12))"
   ]
  },
  {
   "cell_type": "markdown",
   "metadata": {},
   "source": [
    "width will be ignored if used with numbers longer than the width"
   ]
  },
  {
   "cell_type": "code",
   "execution_count": 26,
   "metadata": {},
   "outputs": [
    {
     "name": "stdout",
     "output_type": "stream",
     "text": [
      "1234\n"
     ]
    }
   ],
   "source": [
    "print(\"{:2d}\".format(1234))"
   ]
  },
  {
   "cell_type": "markdown",
   "metadata": {},
   "source": [
    "padding for float numbers"
   ]
  },
  {
   "cell_type": "code",
   "execution_count": 27,
   "metadata": {},
   "outputs": [
    {
     "name": "stdout",
     "output_type": "stream",
     "text": [
      "  12.235\n"
     ]
    }
   ],
   "source": [
    "print(\"{:8.3f}\".format(12.2346))"
   ]
  },
  {
   "cell_type": "markdown",
   "metadata": {},
   "source": [
    "integer numbers with minimum width filled with zeros"
   ]
  },
  {
   "cell_type": "code",
   "execution_count": 28,
   "metadata": {},
   "outputs": [
    {
     "name": "stdout",
     "output_type": "stream",
     "text": [
      "00012\n"
     ]
    }
   ],
   "source": [
    "print(\"{:05d}\".format(12))"
   ]
  },
  {
   "cell_type": "markdown",
   "metadata": {},
   "source": [
    "padding for float numbers filled with zeros"
   ]
  },
  {
   "cell_type": "code",
   "execution_count": 29,
   "metadata": {},
   "outputs": [
    {
     "name": "stdout",
     "output_type": "stream",
     "text": [
      "0012.235\n"
     ]
    }
   ],
   "source": [
    "print(\"{:08.3f}\".format(12.2346))"
   ]
  },
  {
   "cell_type": "markdown",
   "metadata": {},
   "source": [
    "Explanations of the examples above,\n",
    "\n",
    "* in the first example, {:5d} takes an integer argument and assigns a minimum width of 5. Since no alignment is specified, it is aligned to the right.\n",
    "* In the second example, you can see the width (2) is less than the number (1234), so it doesn't take any space to the left but also doesn't truncate the number.\n",
    "* Unlike integers, floats has both integer and decimal parts. And, the minimum width defined to the number is for both parts as a whole including \".\".\n",
    "* In the third statement, {:8.3f} truncates the decimal part into 3 places rounding off the last 2 digits. And, the number, now 12.235, takes a width of 8 as a whole leaving 2 places to the left.\n",
    "* If you want to fill the remaining places with zero, placing a zero before the format specifier does this. It works both for integers and floats: {:05d} and {:08.3f}."
   ]
  },
  {
   "cell_type": "markdown",
   "metadata": {},
   "source": [
    "##### signed numbers"
   ]
  },
  {
   "cell_type": "markdown",
   "metadata": {},
   "source": [
    "show the + sign"
   ]
  },
  {
   "cell_type": "code",
   "execution_count": 30,
   "metadata": {},
   "outputs": [
    {
     "name": "stdout",
     "output_type": "stream",
     "text": [
      "+12.230000 -12.230000\n"
     ]
    }
   ],
   "source": [
    "print(\"{:+f} {:+f}\".format(12.23, -12.23))"
   ]
  },
  {
   "cell_type": "markdown",
   "metadata": {},
   "source": [
    "show the - sign only"
   ]
  },
  {
   "cell_type": "code",
   "execution_count": 32,
   "metadata": {},
   "outputs": [
    {
     "name": "stdout",
     "output_type": "stream",
     "text": [
      "12.230000 -12.230000\n"
     ]
    }
   ],
   "source": [
    "print(\"{:-f} {:-f}\".format(12.23, -12.23))"
   ]
  },
  {
   "cell_type": "markdown",
   "metadata": {},
   "source": [
    "show space for + sign"
   ]
  },
  {
   "cell_type": "code",
   "execution_count": 34,
   "metadata": {},
   "outputs": [
    {
     "name": "stdout",
     "output_type": "stream",
     "text": [
      " 12.230000 -12.230000\n"
     ]
    }
   ],
   "source": [
    "print(\"{: f} {: f}\".format(12.23, -12.23))"
   ]
  },
  {
   "cell_type": "markdown",
   "metadata": {},
   "source": [
    "##### The operators \"<\", \"^\", \">\" and \"=\""
   ]
  },
  {
   "cell_type": "markdown",
   "metadata": {},
   "source": [
    " these operators are used for alignment when assigned a certain width to the numbers."
   ]
  },
  {
   "cell_type": "markdown",
   "metadata": {},
   "source": [
    "integer numbers with right alignment"
   ]
  },
  {
   "cell_type": "code",
   "execution_count": 36,
   "metadata": {},
   "outputs": [
    {
     "name": "stdout",
     "output_type": "stream",
     "text": [
      "   12\n"
     ]
    }
   ],
   "source": [
    "print(\"{:5d}\".format(12))"
   ]
  },
  {
   "cell_type": "markdown",
   "metadata": {},
   "source": [
    "float numbers with center alignment"
   ]
  },
  {
   "cell_type": "code",
   "execution_count": 37,
   "metadata": {},
   "outputs": [
    {
     "name": "stdout",
     "output_type": "stream",
     "text": [
      "  12.235  \n"
     ]
    }
   ],
   "source": [
    "print(\"{:^10.3f}\".format(12.2346))"
   ]
  },
  {
   "cell_type": "markdown",
   "metadata": {},
   "source": [
    "float numbers with center alignment"
   ]
  },
  {
   "cell_type": "code",
   "execution_count": 39,
   "metadata": {},
   "outputs": [
    {
     "name": "stdout",
     "output_type": "stream",
     "text": [
      "- 12.235\n"
     ]
    }
   ],
   "source": [
    "print(\"{:=8.3f}\".format(-12.2346))"
   ]
  },
  {
   "cell_type": "markdown",
   "metadata": {},
   "source": [
    "integer left alignment filled with zeros"
   ]
  },
  {
   "cell_type": "code",
   "execution_count": 38,
   "metadata": {},
   "outputs": [
    {
     "name": "stdout",
     "output_type": "stream",
     "text": [
      "12000\n"
     ]
    }
   ],
   "source": [
    "print(\"{:<05d}\".format(12))"
   ]
  },
  {
   "cell_type": "markdown",
   "metadata": {},
   "source": [
    "For the last example, Left alignment filled with zeros for integer numbers can cause problems as the 3rd example which returns 12000, rather than 12."
   ]
  },
  {
   "cell_type": "markdown",
   "metadata": {},
   "source": [
    "For more information, refer to this table"
   ]
  },
  {
   "cell_type": "markdown",
   "metadata": {},
   "source": [
    "![sign_format](/blog/assets/post_cont_image/si_format.png)"
   ]
  },
  {
   "cell_type": "markdown",
   "metadata": {},
   "source": [
    "N.B: I did not talk about the % string literal formatting intentionally because it is depreciated and is not recommended to use in Python 3. "
   ]
  },
  {
   "cell_type": "markdown",
   "metadata": {},
   "source": [
    "### Challenge"
   ]
  },
  {
   "cell_type": "markdown",
   "metadata": {},
   "source": [
    "Challenges are problems that I will be giving you at the end of each tutorial post to solidify your understanding of what you just learned, for your first challenge, you will be to create a small program to calculate and print the Body Mass Index(BMI) and these are the rules to keep in mind:\n",
    "\n",
    "* The program should get value through the input ( ) function\n",
    "* Don't use the truncation division while calculating the BMI\n",
    "* Should display the BMI using format ( )\n",
    "* When displaying the BMI, use this format \"The BMI of a person with XX kg and X.XX m is XX.XXX\"\n",
    "* BMI should a float and have 3 decimal digits with 6 as left alignment width\n",
    "\n",
    "NB: the formula of BMI is equal to the weight in kilogram divided by the square of the height expressed in meters."
   ]
  },
  {
   "cell_type": "markdown",
   "metadata": {},
   "source": [
    "Now go ahead try this challenge on your own, ONLY after you have finished or tried the challenge come back and compare your solution with mine."
   ]
  },
  {
   "cell_type": "markdown",
   "metadata": {},
   "source": [
    "### solution"
   ]
  },
  {
   "cell_type": "markdown",
   "metadata": {},
   "source": [
    "We first get the weight in kilogram of the person"
   ]
  },
  {
   "cell_type": "code",
   "execution_count": 15,
   "metadata": {},
   "outputs": [
    {
     "name": "stdout",
     "output_type": "stream",
     "text": [
      "Please enter your weight 77\n"
     ]
    }
   ],
   "source": [
    "weight_str = input(\"Please enter your weight \")"
   ]
  },
  {
   "cell_type": "markdown",
   "metadata": {},
   "source": [
    "Then the height"
   ]
  },
  {
   "cell_type": "code",
   "execution_count": 16,
   "metadata": {},
   "outputs": [
    {
     "name": "stdout",
     "output_type": "stream",
     "text": [
      "Please enter your height 1.88\n"
     ]
    }
   ],
   "source": [
    "height_str = input(\"Please enter your height \")"
   ]
  },
  {
   "cell_type": "markdown",
   "metadata": {},
   "source": [
    "Since we know that any input is a string data type, we need to cast it in order to use it as numerical data type and do arithmetic operation on it. "
   ]
  },
  {
   "cell_type": "code",
   "execution_count": 17,
   "metadata": {},
   "outputs": [],
   "source": [
    "weight = float(weight_str)\n",
    "height = float(height_str)"
   ]
  },
  {
   "cell_type": "markdown",
   "metadata": {},
   "source": [
    "Now let's calculate the BMI"
   ]
  },
  {
   "cell_type": "code",
   "execution_count": 18,
   "metadata": {},
   "outputs": [],
   "source": [
    "BMI = weight/(height**2)"
   ]
  },
  {
   "cell_type": "code",
   "execution_count": 19,
   "metadata": {},
   "outputs": [
    {
     "name": "stdout",
     "output_type": "stream",
     "text": [
      "The BMI of a person with 77.0 kg and 1.88 m is 21.786\n"
     ]
    }
   ],
   "source": [
    "print(\"The BMI of a person with {} kg and {} m is {:6.3f}\".format(weight,height,BMI))"
   ]
  },
  {
   "cell_type": "markdown",
   "metadata": {},
   "source": [
    "Thank you for reading this post. If you like this post, please subscribe to stay updated with new posts and if you have a thought or a question, I would love to hear it by commenting below."
   ]
  }
 ],
 "metadata": {
  "kernelspec": {
   "display_name": "Python 3",
   "language": "python",
   "name": "python3"
  },
  "language_info": {
   "codemirror_mode": {
    "name": "ipython",
    "version": 3
   },
   "file_extension": ".py",
   "mimetype": "text/x-python",
   "name": "python",
   "nbconvert_exporter": "python",
   "pygments_lexer": "ipython3",
   "version": "3.7.0"
  }
 },
 "nbformat": 4,
 "nbformat_minor": 2
}
