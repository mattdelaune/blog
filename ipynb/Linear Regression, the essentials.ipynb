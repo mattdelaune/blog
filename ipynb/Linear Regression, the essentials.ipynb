{
 "cells": [
  {
   "attachments": {},
   "cell_type": "markdown",
   "metadata": {},
   "source": [
    "Hello Folks! Welcome back and happy new year as this is the first post in 2023 and certainly not the last. In this post I will discuss about Linear Regression which is one of the wildly used Machine Learning model to predict a continious variables (a fancy terms to say that we are predicting a number, also refered to as numerical target or label). The model is quite simple to understand yet powerful and is used mainly when interpretability of the model (when we want to know which dependent variables aka features are the most predictive) is required like in the consumer lending or medical fields where transparency is at its core."
   ]
  },
  {
   "cell_type": "markdown",
   "metadata": {},
   "source": [
    "I have briefly discussed about linear regression in [this](https://semasuka.github.io/blog/2021/04/04/demystify-machine-learning.html) post, where we debunking the myth \"Does money buys happiness?\" (spoiler alert, we found out that it actually does) using a simple linear regression model. In this post we will diver deeper, and discuss the main ideas about linear regression like sum square root (SSR), mean square error (MSE), R-square, touch a little bit on derivate and gradient descent in regards to linear regression (model optimization) and finally introduce the p-value at the end. Of course, we will demonstrate all these with code in Python. You know the drill by now! let's get started!"
   ]
  },
  {
   "attachments": {},
   "cell_type": "markdown",
   "metadata": {},
   "source": [
    "### 1. What is a linear regression?"
   ]
  },
  {
   "cell_type": "markdown",
   "metadata": {},
   "source": [
    "#### 1.1 Definition"
   ]
  },
  {
   "attachments": {},
   "cell_type": "markdown",
   "metadata": {},
   "source": [
    "Linear regression is part of linear model family(which assume a linear relationship between the dependent and independent variables) which comprised of Logistic Regression (will have a post on this model very soon), Poisson Regression, Probit Regression, Linear Discriminant Analysis (LDA), Cox Proportional Hazards Regression. The goal of a linear regression is to fit a line (using the best parameter, the slope \"m\" of a straight line in this case) to the data that minimizes the loss function or cost function (the difference between the predicted output of a machine learning model and the actual output). The loss function helps us to measure how well the model is performing given a dataset. The lower the loss function is, the better the model is performing."
   ]
  },
  {
   "attachments": {},
   "cell_type": "markdown",
   "metadata": {},
   "source": [
    "#### 1.3 Illustration"
   ]
  },
  {
   "attachments": {},
   "cell_type": "markdown",
   "metadata": {},
   "source": [
    "Let's use a simple example to illustrate to understand linear regression, let's say you are the president economic advisor of your country. The country is rumored to be on the blink of an imminent recession from what the economist are saying and the R word is on every mouth on the media but surprisingly the unemployment number looks low. Now the president ask you: \"what is the correlation (mutual relationship) between the unemployment rate and the consumer spending since we know that consumer spending constitute 70% of our GDP?\". He remembers correctly from his economic class he took in university, that as the employment rate increases, we should expect consumer spending to increase as well, as more people are employed and have more money to spend we should not fear a recession. So he is confused and needs some clarification"
   ]
  },
  {
   "attachments": {},
   "cell_type": "markdown",
   "metadata": {},
   "source": [
    "As a data nerd, you always know that the best way to answer his question is with numbers and you know what they say right? the numbers don't lie. so you decide to gather all the unemployment data and consumer spending data and start to investigate."
   ]
  },
  {
   "attachments": {},
   "cell_type": "markdown",
   "metadata": {},
   "source": [
    "For illustration purposes you decide to just sample the data of 5 random cities in your country."
   ]
  },
  {
   "attachments": {},
   "cell_type": "markdown",
   "metadata": {},
   "source": [
    "![unemployment_vs_consumer_spending](/blog/assets/post_cont_image/unemployment_spending.jpg)"
   ]
  },
  {
   "attachments": {},
   "cell_type": "markdown",
   "metadata": {},
   "source": [
    "We can see that there is a downward trend here. The more unemployment rate rises, the less the consumer spending in the economy. We can draw a blue line of best fit to clearly visualize this."
   ]
  },
  {
   "cell_type": "markdown",
   "metadata": {},
   "source": [
    "![line_of_best_fit_unemployment_vs_cs](/blog/assets/post_cont_image/line_of_best_fit_es.jpg)"
   ]
  },
  {
   "attachments": {},
   "cell_type": "markdown",
   "metadata": {},
   "source": [
    "We can use this line to predict the consumer spending of city F given its unemployment rate of 1.2"
   ]
  },
  {
   "attachments": {},
   "cell_type": "markdown",
   "metadata": {},
   "source": [
    "![predict_city_f](/blog/assets/post_cont_image/pred_unemployment_vs_cs.jpg)"
   ]
  },
  {
   "attachments": {},
   "cell_type": "markdown",
   "metadata": {},
   "source": [
    "Using the graph, we can say given an unemployment rate of city F = 1.2, the predicted consumer spending is 25."
   ]
  },
  {
   "attachments": {},
   "cell_type": "markdown",
   "metadata": {},
   "source": [
    "However, our model is not perfect (and it should not because because otherwise it would overfitting the data, meaning won't be able to make prediction on new data). It has errors (also called residual) meaning it has and actual and a predicted data as highlithed in pink dote line."
   ]
  },
  {
   "attachments": {},
   "cell_type": "markdown",
   "metadata": {},
   "source": [
    "![error_us_vs_cs](/blog/assets/post_cont_image/error_us_vs_cs.jpg)"
   ]
  },
  {
   "attachments": {},
   "cell_type": "markdown",
   "metadata": {},
   "source": [
    "Analyzing the graph above, city A has an unemployment rate if 1, the actual consumer spending for this city is 34 (lets call it Ax) but our model predicts that the consumer spending is 26 (Ax'). There is an error of Ax(actual consumer spending) - Ax'(predicted consumer spending) = 34 - 26 = 8."
   ]
  },
  {
   "attachments": {},
   "cell_type": "markdown",
   "metadata": {},
   "source": [
    "Same as city B, but this time the error is a negative because it is under the blue the line"
   ]
  },
  {
   "cell_type": "markdown",
   "metadata": {},
   "source": [
    "![error_city_b](/blog/assets/post_cont_image/error_b.jpg)"
   ]
  },
  {
   "attachments": {},
   "cell_type": "markdown",
   "metadata": {},
   "source": [
    "The error for city B is equal to Bx - Bx' = 21 - 29 = -8"
   ]
  },
  {
   "attachments": {},
   "cell_type": "markdown",
   "metadata": {},
   "source": [
    "so now in order to get total error of all the cities, we do a summation of all error"
   ]
  },
  {
   "attachments": {},
   "cell_type": "markdown",
   "metadata": {},
   "source": [
    "(Ax - Ax') + (Bx - Bx') + (Cx - Cx') + (Dx - Dx') + (Ex - Ex') + (Fx - Fx')"
   ]
  },
  {
   "attachments": {},
   "cell_type": "markdown",
   "metadata": {},
   "source": [
    "The problem with this expression is that some of the error are negative"
   ]
  }
 ],
 "metadata": {
  "kernelspec": {
   "display_name": "Python 3",
   "language": "python",
   "name": "python3"
  },
  "language_info": {
   "codemirror_mode": {
    "name": "ipython",
    "version": 3
   },
   "file_extension": ".py",
   "mimetype": "text/x-python",
   "name": "python",
   "nbconvert_exporter": "python",
   "pygments_lexer": "ipython3",
   "version": "3.10.2"
  },
  "orig_nbformat": 4,
  "vscode": {
   "interpreter": {
    "hash": "0b79941bf6abfa97c11cce899e2bfe6606585cc2329e00a10bb8e91ee8e76a75"
   }
  }
 },
 "nbformat": 4,
 "nbformat_minor": 2
}
