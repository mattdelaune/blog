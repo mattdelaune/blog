{
 "cells": [
  {
   "attachments": {},
   "cell_type": "markdown",
   "metadata": {},
   "source": [
    "Hello Folks! Welcome back and happy new year as this is the first post in 2023 and certainly not the last. In this post I will discuss about Linear Regression which is one of the wildly used Machine Learning model to predict a continious variables (a fancy terms to say that we are predicting a number, also refered to as numerical target or label). The model is quite simple to understand and is used mainly when interpretability of the model (when we want to know which dependent variables aka features are the most predictive) is required like in the lending sector, medical fields where transparency is key."
   ]
  },
  {
   "attachments": {},
   "cell_type": "markdown",
   "metadata": {},
   "source": [
    "Linear regression is part of linear model (which assume a linear relationship between the dependent and independent variable) family which comprised of Logistic Regression (will have a post on this model very soon), Poisson Regression, Probit Regression, Linear Discriminant Analysis (LDA), Cox Proportional Hazards Regression. The goal of a linear regression is to fit a line (using the best parameter, the slope \"m\" of a straight line in this case) to the data that minimizes the loss function or cost function (the difference between the predicted output of a machine learning model and the actual output). The loss function helps us to measure how well the model is performing given a dataset."
   ]
  },
  {
   "attachments": {},
   "cell_type": "markdown",
   "metadata": {},
   "source": [
    "I have briefly discussed linear regression in this post, where we debuncking the myth \"Money buys happiness\" (spoiler alert, we found out that it does) using a simple linear regression model. In this post we will diver deeper, and discuss the main ideas about linear regression "
   ]
  }
 ],
 "metadata": {
  "kernelspec": {
   "display_name": "Python 3",
   "language": "python",
   "name": "python3"
  },
  "language_info": {
   "name": "python",
   "version": "3.10.2 | packaged by conda-forge | (main, Feb  1 2022, 19:28:34) [Clang 11.1.0 ]"
  },
  "orig_nbformat": 4,
  "vscode": {
   "interpreter": {
    "hash": "0b79941bf6abfa97c11cce899e2bfe6606585cc2329e00a10bb8e91ee8e76a75"
   }
  }
 },
 "nbformat": 4,
 "nbformat_minor": 2
}
