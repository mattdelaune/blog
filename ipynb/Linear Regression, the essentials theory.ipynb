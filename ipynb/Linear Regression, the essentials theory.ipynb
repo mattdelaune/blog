{
 "cells": [
  {
   "attachments": {},
   "cell_type": "markdown",
   "metadata": {},
   "source": [
    "Hello Folks! Welcome back and happy new year as this is the first post in 2023 and certainly not the last. In this post I will discuss about the theory behind the Linear Regression which is one of the wildly used Machine Learning model to predict a continious variables (a fancy terms to say that we are predicting a number, also refered to as numerical target or label). The model is quite simple to understand yet powerful and is used mainly when interpretability of the model (when we want to know which dependent variables aka features are the most predictive) is required like in the consumer lending or medical fields where transparency is at its core. In the next post, we will dive deeper in the coding part of a Linear Regression."
   ]
  },
  {
   "cell_type": "markdown",
   "metadata": {},
   "source": [
    "I have briefly discussed about linear regression in [this](https://semasuka.github.io/blog/2021/04/04/demystify-machine-learning.html) post, where we debunking the myth \"Does money buys happiness?\" (spoiler alert, we found out that it actually does) using a simple linear regression model. In this post we will diver deeper, and discuss the main ideas about linear regression like sum square root (SSR), mean square error (MSE), R-square, touch a little bit on derivate and gradient descent in regards to linear regression (model optimization) and finally introduce the p-value at the end. Of course, we will demonstrate all these with code in Python. You know the drill by now! let's get started!"
   ]
  },
  {
   "attachments": {},
   "cell_type": "markdown",
   "metadata": {},
   "source": [
    "### 1. What is a linear regression?"
   ]
  },
  {
   "cell_type": "markdown",
   "metadata": {},
   "source": [
    "#### 1.1 Definition"
   ]
  },
  {
   "attachments": {},
   "cell_type": "markdown",
   "metadata": {},
   "source": [
    "Linear regression is part of linear model family(which assume a linear relationship between the dependent and independent variables) which comprised of Logistic Regression (will have a post on this model very soon), Poisson Regression, Probit Regression, Linear Discriminant Analysis (LDA), Cox Proportional Hazards Regression. The goal of a linear regression is to fit a line (using the best parameter, the slope \"m\" of a straight line in this case) to the data that minimizes the loss function or cost function (the difference between the predicted output of a machine learning model and the actual output). The loss function helps us to measure how well the model is performing given a dataset. The lower the loss function is, the better the model is performing."
   ]
  },
  {
   "attachments": {},
   "cell_type": "markdown",
   "metadata": {},
   "source": [
    "#### 1.2 Illustration"
   ]
  },
  {
   "attachments": {},
   "cell_type": "markdown",
   "metadata": {},
   "source": [
    "Let's use a simple example to illustrate to understand linear regression, let's say you are the president economic advisor of your country. The country is rumored to be on the blink of an imminent recession from what the economist are saying and the R word is on every mouth on the media but surprisingly the unemployment number looks low. Now the president ask you: \"what is the correlation (mutual relationship) between the unemployment rate and the consumer spending since we know that consumer spending constitute 70% of our GDP?\". He remembers correctly from his economic class he took in university, that as the employment rate increases, we should expect consumer spending to increase as well, as more people are employed and have more money to spend we should not fear a recession. So he is confused and needs some clarification"
   ]
  },
  {
   "attachments": {},
   "cell_type": "markdown",
   "metadata": {},
   "source": [
    "As a data nerd, you always know that the best way to answer his question is with numbers and you know what they say right? the numbers don't lie. so you decide to gather all the unemployment data and consumer spending data and start to investigate."
   ]
  },
  {
   "attachments": {},
   "cell_type": "markdown",
   "metadata": {},
   "source": [
    "For illustration purposes you decide to just sample the data of 5 random cities in your country."
   ]
  },
  {
   "attachments": {},
   "cell_type": "markdown",
   "metadata": {},
   "source": [
    "![unemployment_vs_consumer_spending](/blog/assets/post_cont_image/unemployment_spending.jpg)"
   ]
  },
  {
   "attachments": {},
   "cell_type": "markdown",
   "metadata": {},
   "source": [
    "We can see that there is a downward trend here. The more unemployment rate rises, the less the consumer spending in the economy. We can draw a blue line of best fit to clearly visualize this."
   ]
  },
  {
   "cell_type": "markdown",
   "metadata": {},
   "source": [
    "![line_of_best_fit_unemployment_vs_cs](/blog/assets/post_cont_image/line_of_best_fit_es.jpg)"
   ]
  },
  {
   "attachments": {},
   "cell_type": "markdown",
   "metadata": {},
   "source": [
    "We can use this line to predict the consumer spending of city F given its unemployment rate of 1.2"
   ]
  },
  {
   "attachments": {},
   "cell_type": "markdown",
   "metadata": {},
   "source": [
    "![predict_city_f](/blog/assets/post_cont_image/pred_unemployment_vs_cs.jpg)"
   ]
  },
  {
   "attachments": {},
   "cell_type": "markdown",
   "metadata": {},
   "source": [
    "Using the graph, we can say given an unemployment rate of city F = 1.2, the predicted consumer spending is 25."
   ]
  },
  {
   "attachments": {},
   "cell_type": "markdown",
   "metadata": {},
   "source": [
    "#### 1.3 Sum Squared Error (SSE)"
   ]
  },
  {
   "attachments": {},
   "cell_type": "markdown",
   "metadata": {},
   "source": [
    "However, our model is not perfect (and it should not because because otherwise it would overfitting the data, meaning won't be able to make prediction on new data). It has errors (also called residual) meaning it has and actual and a predicted data as highlithed in pink dote line."
   ]
  },
  {
   "attachments": {},
   "cell_type": "markdown",
   "metadata": {},
   "source": [
    "![error_us_vs_cs](/blog/assets/post_cont_image/error_us_vs_cs.jpg)"
   ]
  },
  {
   "attachments": {},
   "cell_type": "markdown",
   "metadata": {},
   "source": [
    "Analyzing the graph above, city A has an unemployment rate if 1, the actual consumer spending for this city is 34 (lets call it Ax) but our model predicts that the consumer spending is 26 (Ax'). There is an error of Ax(actual consumer spending) - Ax'(predicted consumer spending) = 34 - 26 = 8."
   ]
  },
  {
   "attachments": {},
   "cell_type": "markdown",
   "metadata": {},
   "source": [
    "Same as city B, but this time the error is a negative because it is under the blue the line"
   ]
  },
  {
   "cell_type": "markdown",
   "metadata": {},
   "source": [
    "![error_city_b](/blog/assets/post_cont_image/error_b.jpg)"
   ]
  },
  {
   "attachments": {},
   "cell_type": "markdown",
   "metadata": {},
   "source": [
    "The error for city B is equal to Bx - Bx' = 21 - 29 = -8"
   ]
  },
  {
   "attachments": {},
   "cell_type": "markdown",
   "metadata": {},
   "source": [
    "so now in order to get total error of all the cities, we do a summation of all error"
   ]
  },
  {
   "attachments": {},
   "cell_type": "markdown",
   "metadata": {},
   "source": [
    "(Ax - Ax') + (Bx - Bx') + (Cx - Cx') + (Dx - Dx') + (Ex - Ex') + (Fx - Fx')"
   ]
  },
  {
   "attachments": {},
   "cell_type": "markdown",
   "metadata": {},
   "source": [
    "The problem with this expression is that some of the errors are negative which will cancel out with the positive errors. One way to over come this is actually to square the difference between the actual and predicted values"
   ]
  },
  {
   "cell_type": "markdown",
   "metadata": {},
   "source": [
    "(Ax - Ax')² + (Bx - Bx')² + (Cx - Cx')² + (Dx - Dx')² + (Ex - Ex')² + (Fx - Fx')²"
   ]
  },
  {
   "attachments": {},
   "cell_type": "markdown",
   "metadata": {},
   "source": [
    "Which can be abbreviated like this"
   ]
  },
  {
   "attachments": {},
   "cell_type": "markdown",
   "metadata": {},
   "source": [
    "∑(yᵢ - ȳ)²"
   ]
  },
  {
   "attachments": {},
   "cell_type": "markdown",
   "metadata": {},
   "source": [
    "where:\n",
    "- yᵢ represents the actual consumer spending of the i-th city\n",
    "- ȳ represents the predicted consumer spending of the i-th city\n",
    "- ∑ represents the summation"
   ]
  },
  {
   "attachments": {},
   "cell_type": "markdown",
   "metadata": {},
   "source": [
    "The smaller the result, meaning the error the linear regression makes, the better our linear regression at fitting our data. Our objective is to minimize as much as we can."
   ]
  },
  {
   "attachments": {},
   "cell_type": "markdown",
   "metadata": {},
   "source": [
    "The Result is called Sum Squared Error (SSE) or Sum Squared Residual (SSR)"
   ]
  },
  {
   "attachments": {},
   "cell_type": "markdown",
   "metadata": {},
   "source": [
    "SSE = SSR = ∑(yᵢ - ȳ)²"
   ]
  },
  {
   "attachments": {},
   "cell_type": "markdown",
   "metadata": {},
   "source": [
    "So the SSE this case is equal to\n",
    "\n",
    "(Ax - Ax')² + (Bx - Bx')² + (Cx - Cx')² + (Dx - Dx')² + (Ex - Ex')² + (Fx - Fx')² =\n",
    "\n",
    "(34 - 26)² + (21 - 29)² + (18 - 24)² + (23 - 17)² + (13 - 10)² + (26 - 26)² =\n",
    "\n",
    "16 + 16 + 36 + 36 + 9 + 0 = 153"
   ]
  },
  {
   "attachments": {},
   "cell_type": "markdown",
   "metadata": {},
   "source": [
    "With SSE of this linear regression = 153; finding another linear regression with a SSE < 153 means that this linear regression is worst than the first one and another linear regression > 153 means that this one is better than the first one."
   ]
  },
  {
   "attachments": {},
   "cell_type": "markdown",
   "metadata": {},
   "source": [
    "SSE is one of the metrics used to assess a linear regression but it has one major drawbacks: Adding more data (cities in our case) will keep on increasing our SSE. Let's say for example, we are adding city G and H"
   ]
  },
  {
   "attachments": {},
   "cell_type": "markdown",
   "metadata": {},
   "source": [
    "![new_city_H_G](/blog/assets/post_cont_image/new_city_H_G.jpg)"
   ]
  },
  {
   "attachments": {},
   "cell_type": "markdown",
   "metadata": {},
   "source": [
    "Now to calculate the new SSE with the new cities included = 153 + (Gx - Gx')² + (Hx - Hx')² = 153 + (31 - 23)² + (10 - 15)² = 153 + 64 + 25 = 242"
   ]
  },
  {
   "attachments": {},
   "cell_type": "markdown",
   "metadata": {},
   "source": [
    "Now we have a new SSE of 242, would you conclude that this new linear regression with 7 cities is worst than the one with 5 cities. Of course not, so having a higher SSE does not always implies a worst model.\n",
    "\n",
    "***This is the main disadvantage of using SSE.***\n",
    "\n",
    "So how do we overcome this issue? Enter Mean Square Error(MSE)"
   ]
  },
  {
   "attachments": {},
   "cell_type": "markdown",
   "metadata": {},
   "source": [
    "#### 1.4 Mean Squared Error (MSE)"
   ]
  },
  {
   "attachments": {},
   "cell_type": "markdown",
   "metadata": {},
   "source": [
    "Mean squared error is very similar to Sum square error, the only difference is that it is insensible to the number of data we have. So if we add more city it would not have a drastic change to the MSE"
   ]
  },
  {
   "attachments": {},
   "cell_type": "markdown",
   "metadata": {},
   "source": [
    "How is the MSE different from the SSE, well we divide the SSE with the number of data (n) and that's it! \n",
    "\n",
    "The formula of MSE is ∑(yᵢ - ȳ)²/n"
   ]
  },
  {
   "attachments": {},
   "cell_type": "markdown",
   "metadata": {},
   "source": [
    "Let see this in practice."
   ]
  },
  {
   "attachments": {},
   "cell_type": "markdown",
   "metadata": {},
   "source": [
    "So to find the MSE of the 6 cities(A,B,C,D,E,F), we take the SSE of 153 then divide it by 6 = 25.5"
   ]
  },
  {
   "attachments": {},
   "cell_type": "markdown",
   "metadata": {},
   "source": [
    "So now let's find the MST of the 8 cites(A,B,C,D,E,F,G,H), we take the SSE of 242 then divide it by 8 = 30.25 which is not far off to 25.5"
   ]
  },
  {
   "attachments": {},
   "cell_type": "markdown",
   "metadata": {},
   "source": [
    "MSE is a better metrics to use than SSE but this metric as well is not perfect, let see this in an example."
   ]
  },
  {
   "attachments": {},
   "cell_type": "markdown",
   "metadata": {},
   "source": [
    "Let's change the scale of how we are expression the dependant variable(consumer spending), so instead of expressing it in unit of 10's, let's express it in unit of 10 000's"
   ]
  },
  {
   "attachments": {},
   "cell_type": "markdown",
   "metadata": {},
   "source": [
    "![scaled_consumer_spending](/blog/assets/post_cont_image/scalled_cs.jpg)"
   ]
  },
  {
   "attachments": {},
   "cell_type": "markdown",
   "metadata": {},
   "source": [
    "Now let's calculate the MSE = 242 000/8 = 30250 which is way larger than 30.25 we had before. \n",
    "\n",
    "***This is the main disadvantage of using MSE.***\n",
    "\n",
    "So how can we keep almost the same MSE even though the target scale has changed. R-squared (R²) is the answer."
   ]
  },
  {
   "attachments": {},
   "cell_type": "markdown",
   "metadata": {},
   "source": [
    "#### 1.5 R-squared"
   ]
  },
  {
   "attachments": {},
   "cell_type": "markdown",
   "metadata": {},
   "source": [
    "R-squared overcome drawbacks that SSE and MSE have which are the number of data points and the scale of the predicted variable. In other words, R-squared does not depend on the size nor the scale of the data. R-squared is the preferred metric for a linear regression and can be calculated from either MSE or SSE, which ever at hand."
   ]
  },
  {
   "attachments": {},
   "cell_type": "markdown",
   "metadata": {},
   "source": [
    "Let's understand how does R² behind the scene"
   ]
  },
  {
   "attachments": {},
   "cell_type": "markdown",
   "metadata": {},
   "source": [
    "First we calculate the SSE (or MSE) of the data around the mean"
   ]
  },
  {
   "attachments": {},
   "cell_type": "markdown",
   "metadata": {},
   "source": [
    "![r-squared-mean](/blog/assets/post_cont_image/r2_mean.jpg)"
   ]
  },
  {
   "attachments": {},
   "cell_type": "markdown",
   "metadata": {},
   "source": [
    "The consumer spending mean is 22500, so now the SSE around the mean is equal to\n",
    "\n",
    "∑(yᵢ - µ)² =\n",
    "\n",
    "(Ax - µ)² + (Bx - µ')² + (Cx - µ)² + (Dx - µ)² + (Ex - µ)² + (Fx - µ)² + (Gx - µ)² + (Hx - µ)² =\n",
    "\n",
    "(34 - 22.5)² + (21 - 22.5)² + (18 - 22.5)² + (23 - 22.5)² + (13 - 22.5)² + (26 - 22.5)² + (31 - 22.5)² + (10 - 22.5)² =\n",
    "\n",
    "(11.5)² + (-1.5)² + (4.5)² + (0.5)² + (-9.5)² + (3.5)² + (8.5)² + (-12.5)² =\n",
    "\n",
    "132.25 + 2.25 + 20.25 + 0.25 + 90.25 + 12.25 + 72.25 + 156.25 = 486"
   ]
  },
  {
   "attachments": {},
   "cell_type": "markdown",
   "metadata": {},
   "source": [
    "![new_city_H_G](/blog/assets/post_cont_image/new_city_H_G.jpg)"
   ]
  },
  {
   "attachments": {},
   "cell_type": "markdown",
   "metadata": {},
   "source": [
    "Our normal SSE as previously calculated is 242"
   ]
  },
  {
   "attachments": {},
   "cell_type": "markdown",
   "metadata": {},
   "source": [
    "The formula to get R² = SSE(mean) - SSE(line of best fit)/SSE(mean) = (486 - 242)/486 = 244/486 = 0.5"
   ]
  },
  {
   "attachments": {},
   "cell_type": "markdown",
   "metadata": {},
   "source": [
    "The result is 0.5, meaning that there was a 50% reduction in size of the errors between the mean and the fitted line. In other words, R² tells us the percentage of errors around the mean shrank when we used the line of best fit. That means that the errors have decreased meaning that the fitted line fit better the data than the mean.\n",
    "\n",
    "If SSE (mean) = SSE (line of best fit) or if R² = 0 that mean that the two model are equally good (or bad) and when SSE (line of best fit) = 1, meaning there have been a 100% improvement of the model. Then the model fits the data perfectly (which is not always a good thing. see overfitting on [this post](https://semasuka.github.io/blog/2021/04/04/demystify-machine-learning.html))"
   ]
  },
  {
   "attachments": {},
   "cell_type": "markdown",
   "metadata": {},
   "source": [
    "***Note***\n",
    "\n",
    "* As we mentioned before, R² can be calculated with MSE as well\n",
    "\n",
    "    R² = [SSE(mean)/n - SSE(line of best fit)/n] / SSE(mean)/n and by consolidating all the divisions by we have\n",
    "\n",
    "    R² = [SSE(mean) - SSE(line of best fit)/SSE(mean)] x (n/n) =\n",
    "\n",
    "    R² = SSE(mean) - SSE(line of best fit)/SSE(mean)\n",
    "\n",
    "* For those who have a bit of background in statistic might wonder if R² is related to the Pearson's correlation coefficient (r)? yes it.\n",
    "\n",
    "    The Pearson correlation coefficient is a measure of the strength and direction of the linear relationship between two variables. It ranges from -1 to 1, where -1 indicates a perfect negative linear relationship, 0 indicates no linear relationship, and 1 indicates a perfect positive linear relationship.\n",
    "\n",
    "    On the other hand, R-squared ranges from 0 to 1. R-squared is related to the Pearson correlation coefficient in that R-squared is the square of the Pearson correlation coefficient (i.e., R² = r²). Therefore, the Pearson correlation coefficient r can be used to calculate R² and vice versa."
   ]
  },
  {
   "attachments": {},
   "cell_type": "markdown",
   "metadata": {},
   "source": [
    "It is good that we are having all this measurement on how the fitted line matches our data and help us make prediction. But how confident are we in these analysis, how do we know that really the slope of the fitted line is the best that we can get. Well P-value is here to help out answer those questions."
   ]
  },
  {
   "attachments": {},
   "cell_type": "markdown",
   "metadata": {},
   "source": [
    "#### 1.6 P-value"
   ]
  },
  {
   "attachments": {},
   "cell_type": "markdown",
   "metadata": {},
   "source": [
    "So what is a a P-value. the simplest definition of a it would the measurement of confidence in the results from a statistical analysis. In other word, it tell us the probability that a particular result could have occurred by chance or not"
   ]
  },
  {
   "attachments": {},
   "cell_type": "markdown",
   "metadata": {},
   "source": [
    " Let's illustrate this with an example, let's say we have country A and B. We want to know if the population in country A is taller than the population in country B. We want to know if there is a significant difference in the height between the two country. In other words, if the difference between the height of country A and country B is not due to random chance."
   ]
  },
  {
   "attachments": {},
   "cell_type": "markdown",
   "metadata": {},
   "source": [
    "So we go ahead and collect the data on the heights of the people in each country, then we found out that in country A 67% of people are 160cm+ versus 59% in country B are 160cm+. Well you might think obvioiusly, people in country A are taller there is no doubt about that. Humm think again, when we are sampling these people we are not measuring every single individual in the country, we do a \"sample inference\" which refers to the process of making conclusions or predictions about a population based on information collected from a sample. So we might have collected maybe the only tallest people in the country and ignore the rest? who knows?\n",
    "\n",
    "So the P-value helps us to overcome this issue, p-values ranges from 0 and 1. The closer the p-value is to 0 the more confident that there is a statistic significant between country A and country B population's heights meaning the difference is unlikely to be due to chance alone.\n",
    "\n",
    "\n",
    "\n",
    "Note:\n",
    "The more the data we collect the better, but this is not always possible as it can be time and cost consuming that is what we prefere sampling people who represent best the population"
   ]
  },
  {
   "cell_type": "markdown",
   "metadata": {},
   "source": []
  }
 ],
 "metadata": {
  "kernelspec": {
   "display_name": "Python 3",
   "language": "python",
   "name": "python3"
  },
  "language_info": {
   "codemirror_mode": {
    "name": "ipython",
    "version": 3
   },
   "file_extension": ".py",
   "mimetype": "text/x-python",
   "name": "python",
   "nbconvert_exporter": "python",
   "pygments_lexer": "ipython3",
   "version": "3.10.2"
  },
  "orig_nbformat": 4,
  "vscode": {
   "interpreter": {
    "hash": "0b79941bf6abfa97c11cce899e2bfe6606585cc2329e00a10bb8e91ee8e76a75"
   }
  }
 },
 "nbformat": 4,
 "nbformat_minor": 2
}
