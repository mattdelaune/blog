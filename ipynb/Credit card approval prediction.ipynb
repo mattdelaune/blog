{
 "cells": [
  {
   "cell_type": "markdown",
   "id": "fa4e28b9",
   "metadata": {},
   "source": [
    "Welcome back, forks! After a long period of not posting here, I am happy to share that I am back again. In this post, we will work on an end-to-end machine learning project. This project is perfect for the beginner in Machine Learning and seasoned ML engineers who could still learn one or two things from this post.\n",
    "\n",
    "Here is the roadmap we will follow:\n",
    "- We will start with exploratory data analysis(EDA)\n",
    "- Feature engineering\n",
    "- Feature selection\n",
    "- Data preprocessing\n",
    "- Model training\n",
    "- Model selection\n",
    "- Model storage on AWS blob storage\n",
    "- Finally, deploy the model with an interface using Streamlit.\n",
    "\n",
    "\n",
    "The goal is to predict whether an application for a credit card will be approved or not using the applicant data."
   ]
  },
  {
   "cell_type": "markdown",
   "id": "1438e42e",
   "metadata": {},
   "source": [
    "I chose this project because when applying for a loan, credit card, or any other type of credit at any financial institution, there is a hard inquiry that affects your credit score negatively. This app predicts the probability of being approved without affecting your credit score. This app can be used by applicants who want to find out if they will be approved for a credit card without affecting their credit score."
   ]
  },
  {
   "cell_type": "markdown",
   "id": "d454a643",
   "metadata": {},
   "source": [
    "***For those who are in a hurry, here is the key insights results from the analysis of this project:***"
   ]
  },
  {
   "cell_type": "markdown",
   "id": "ea8ae320",
   "metadata": {},
   "source": [
    "Correlation between the features.\n",
    "\n",
    "![heatmap](../assets/post_cont_image/heatmap_cc_approval.png)"
   ]
  },
  {
   "cell_type": "markdown",
   "id": "5b4f4456",
   "metadata": {},
   "source": [
    "Confusion matrix of gradient boosting classifier.\n",
    "\n",
    "![Confusion matrix](../assets/post_cont_image/cm_cc_approval.png)\n",
    "\n",
    "ROC curve of gradient boosting classifier.\n",
    "\n",
    "![ROC curve](../assets/post_cont_image/roc_cc_approval.png)\n",
    "\n",
    "Top 3 models (with default parameters)\n",
    "\n",
    "| Model     \t                | Recall score \t|\n",
    "|-------------------\t        |------------------\t|\n",
    "| Support vector machine     \t| 88% \t            |\n",
    "| Gradient boosting    \t        | 90% \t            |\n",
    "| Adaboost               \t    | 79% \t            |\n",
    "\n",
    "\n",
    "- **The final model used for this project: Gradient boosting**\n",
    "- **Metrics used: Recall**\n",
    "- **Why choose recall as metrics**:\n",
    "  Since the objective of this problem is to minimize the risk of a credit default, the metrics to use depends on the current economic situation:\n",
    "\n",
    "  - During a bull market (when the economy is expanding), people feel wealthy and are employed. Money is usually cheap, and the risk of default is low because of economic stability and low unemployment. The financial institution can handle the risk of default; therefore, it is not very strict about giving credit. The financial institution can handle some bad clients as long as most credit card owners are good clients (aka those who pay back their credit in time and in total).In this case, having a good recall (sensitivity) is ideal.\n",
    "\n",
    "  - During a bear market (when the economy is contracting), people lose their jobs and money through the stock market and other investment venues. Many people struggle to meet their financial obligations. The financial institution, therefore, tends to be more conservative in giving out credit or loans. The financial institution can't afford to give out credit to many clients who won't be able to pay back their credit. The financial institution would rather have a smaller number of good clients, even if it means that some good clients are denied credit. In this case, having a good precision (specificity) is desirable.\n",
    "\n",
    "    ***Note***: There is always a trade-off between precision and recall. Choosing the right metrics depends on the problem you are solving.\n",
    "\n",
    "    ***Conclusion***: Since the time I worked on this project (beginning 2022), we were in the longest bull market (excluding March 2020 flash crash) ever recorded; we will use recall as our metric.\n",
    "\n",
    "\n",
    " **Lessons learned and recommendation**\n",
    "\n",
    "- Based on this project's analysis, income, family member headcount, and employment length are the three most predictive features in determining whether an applicant will be approved for a credit card. Other features like age and working employment status are also helpful. The least useful features are the type of dwelling and car ownership.\n",
    "- The recommendation would be to focus more on the most predictive features when looking at the applicant profile and pay less attention to the least predictive features."
   ]
  },
  {
   "cell_type": "markdown",
   "id": "526fe63d",
   "metadata": {},
   "source": [
    "***For the rest of my nerdy friends, let's get started from scratch***"
   ]
  },
  {
   "cell_type": "markdown",
   "id": "f52738d5",
   "metadata": {},
   "source": [
    "### Pre-requisites"
   ]
  },
  {
   "cell_type": "markdown",
   "id": "64d425d1",
   "metadata": {},
   "source": [
    "Wait! no, so fast! Before we start writing code, we need to have our python/jupyter environment ready, and Ken Jee has a fantastic video on this; click [here](https://www.youtube.com/watch?v=C4OPn58BLaU) to watch it.\n",
    "\n",
    "***Note:*** make sure that you install Python 3.10+ as we'll be using the switch statement, a new feature in Python 3.10 and above."
   ]
  },
  {
   "cell_type": "markdown",
   "id": "6a87b086",
   "metadata": {},
   "source": [
    "### Import necessary libraries"
   ]
  },
  {
   "cell_type": "markdown",
   "id": "3be34778",
   "metadata": {},
   "source": [
    "Now we can import all the required libraries. Feel free to visit my [other post](https://semasuka.github.io/blog/2019/01/06/introduction-to-jupyter-notebook.html), where I talk about installing these libraries in the jupyter environment."
   ]
  },
  {
   "cell_type": "code",
   "execution_count": 26,
   "id": "46deb3b2",
   "metadata": {
    "hidden": true,
    "id": "46deb3b2"
   },
   "outputs": [],
   "source": [
    "import numpy as np\n",
    "import pandas as pd\n",
    "import missingno as msno\n",
    "import matplotlib\n",
    "import matplotlib.pyplot as plt\n",
    "import seaborn as sns\n",
    "import warnings\n",
    "from pandas.core.common import SettingWithCopyWarning\n",
    "from pandas_profiling import ProfileReport\n",
    "from pathlib import Path\n",
    "from scipy.stats import probplot, chi2_contingency, chi2, stats\n",
    "from sklearn.model_selection import train_test_split, GridSearchCV, RandomizedSearchCV, cross_val_score, cross_val_predict\n",
    "from sklearn.base import BaseEstimator, TransformerMixin\n",
    "from sklearn.pipeline import Pipeline\n",
    "from sklearn.calibration import CalibratedClassifierCV\n",
    "from sklearn.compose import ColumnTransformer\n",
    "from sklearn.preprocessing import OneHotEncoder, MinMaxScaler, OrdinalEncoder\n",
    "from sklearn.metrics import ConfusionMatrixDisplay, classification_report, roc_curve, roc_auc_score\n",
    "from imblearn.over_sampling import SMOTE\n",
    "from sklearn.linear_model import SGDClassifier, LogisticRegression\n",
    "from sklearn.svm import SVC\n",
    "from sklearn.tree import DecisionTreeClassifier\n",
    "from sklearn.ensemble import RandomForestClassifier, GradientBoostingClassifier, BaggingClassifier, AdaBoostClassifier, ExtraTreesClassifier\n",
    "from sklearn.naive_bayes import GaussianNB\n",
    "from sklearn.neighbors import KNeighborsClassifier\n",
    "from sklearn.discriminant_analysis import LinearDiscriminantAnalysis\n",
    "from sklearn.neural_network import MLPClassifier\n",
    "from sklearn.inspection import permutation_importance\n",
    "import scikitplot as skplt\n",
    "from yellowbrick.model_selection import FeatureImportances\n",
    "import joblib\n",
    "import os\n",
    "%matplotlib inline"
   ]
  },
  {
   "cell_type": "markdown",
   "id": "0da97a67",
   "metadata": {},
   "source": [
    "I will briefly explain what each library does and why we need it for this project.\n",
    "\n",
    "- NumPy is a library for manipulating multidimensional arrays and matrices. In this project, we will use NumPy to change the sequences of the elements in a list and also transform an array with negative values into absolute ones.\n",
    "- Pandas is a library to manipulate tabular data stored as dataframes (More than two columns) and Series(when dealing with one column); we will use it in this project to import the data into our notebook, create dataframes, merge and concatenate dataframes.\n",
    "- MissingNo is a great library to visualize at a glance missing value in a Pandas dataframe.\n",
    "- Scipy is a library that contains mathematical modules like statistics, optimization, linear algebra, etc\n",
    "- Pathlib is a built-in python library with useful path functionalities. Pathlib will use it in the project to check if a file exists at a specific path, then use the joblib to save it.\n",
    "- Matplotlib is a data visualization library to plot different types of plots like histograms, line plots, scatter plots, contour plots, etc. It is built on top of NumPy.\n",
    "- Seaborn is another data visualization library built on top of Matplotlib with added features and simpler syntax than Matplotlib. We will mainly use this library for our exploratory data analysis.\n",
    "- Warnings is a python builtin library to control the warnings at the execution time\n",
    "- Scikit-learn, also called sklearn, is the industry standard machine learning library from which all the machine learning algorithms are imported. It is built on NumPy, Scipy, and Matplotlib.\n",
    "- Imbalance learn is a library based on sklearn, which provides tools when dealing with classification with imbalanced classes. Here classes mean the prediction results, which in this case, are approved or denied for a credit card. In this project, we have two outcomes (we have a binary classification), and one of the outcomes is less likely to happen, which is reflected in the data. So we use the SMOTE technique to balance the outcomes because we don't want to train on unbalanced data as we try to avoid bias.\n",
    "- Scikit-plot is a helpful library that plots scikit-learn objects; for this project, Scikit-plot will use to plot the ROC curve.\n",
    "- Yellowbrick extends the scikit-learn API library to make a model selection. In this project, we have used it to plot the feature importance.\n",
    "- Joblib is a builtin python library to save models as files; those models will deploy on AWS S3\n",
    "- os is a builtin library to access some of the operating system functionality\n",
    "- Finally, magic command ```%matplotlib inline``` will make your plot outputs appear and be stored within the notebook."
   ]
  },
  {
   "cell_type": "markdown",
   "id": "07bed837",
   "metadata": {},
   "source": [
    "### Import the data"
   ]
  },
  {
   "cell_type": "markdown",
   "id": "9878175d",
   "metadata": {},
   "source": [
    "After importing the libraries, we will now import the datasets. The datasets are from Kaggle. Here is the [link](https://www.kaggle.com/datasets/rikdifos/credit-card-approval-prediction)."
   ]
  },
  {
   "cell_type": "markdown",
   "id": "2eabba0b",
   "metadata": {},
   "source": [
    "There are two ways to import the CSV, we can download the file and pass the local machine path to the ```read_csv``` pandas function, or we can host the data on GitHub and directly read the hosted CSV file as a raw data. In this case, we went with the latter method.\n",
    "\n",
    "The first dataset is the application record with all the information about the applicants like gender, age, income, etc. The second dataset is the credit record which holds information about the credit status and balance. we will store those two dataset in ```cc_data_full_data``` and ```credit_status``` respectively."
   ]
  },
  {
   "cell_type": "code",
   "execution_count": 27,
   "id": "08b89053",
   "metadata": {
    "colab": {
     "base_uri": "https://localhost:8080/"
    },
    "id": "08b89053",
    "outputId": "00881095-43c8-4dbb-c660-f031ef0c5873"
   },
   "outputs": [],
   "source": [
    "cc_data_full_data = pd.read_csv('https://raw.githubusercontent.com/semasuka/Credit-card-approval-prediction-classification/main/datasets/application_record.csv')\n",
    "credit_status = pd.read_csv('https://raw.githubusercontent.com/semasuka/Credit-card-approval-prediction-classification/main/datasets/credit_record.csv')"
   ]
  },
  {
   "cell_type": "markdown",
   "id": "c98d0dc7",
   "metadata": {},
   "source": [
    "Let's glance at the first five rows using each Pandas' ``head``` method."
   ]
  },
  {
   "cell_type": "code",
   "execution_count": 28,
   "id": "90cd9c15",
   "metadata": {},
   "outputs": [
    {
     "data": {
      "text/html": [
       "<div>\n",
       "<style scoped>\n",
       "    .dataframe tbody tr th:only-of-type {\n",
       "        vertical-align: middle;\n",
       "    }\n",
       "\n",
       "    .dataframe tbody tr th {\n",
       "        vertical-align: top;\n",
       "    }\n",
       "\n",
       "    .dataframe thead th {\n",
       "        text-align: right;\n",
       "    }\n",
       "</style>\n",
       "<table border=\"1\" class=\"dataframe\">\n",
       "  <thead>\n",
       "    <tr style=\"text-align: right;\">\n",
       "      <th></th>\n",
       "      <th>ID</th>\n",
       "      <th>CODE_GENDER</th>\n",
       "      <th>FLAG_OWN_CAR</th>\n",
       "      <th>FLAG_OWN_REALTY</th>\n",
       "      <th>CNT_CHILDREN</th>\n",
       "      <th>AMT_INCOME_TOTAL</th>\n",
       "      <th>NAME_INCOME_TYPE</th>\n",
       "      <th>NAME_EDUCATION_TYPE</th>\n",
       "      <th>NAME_FAMILY_STATUS</th>\n",
       "      <th>NAME_HOUSING_TYPE</th>\n",
       "      <th>DAYS_BIRTH</th>\n",
       "      <th>DAYS_EMPLOYED</th>\n",
       "      <th>FLAG_MOBIL</th>\n",
       "      <th>FLAG_WORK_PHONE</th>\n",
       "      <th>FLAG_PHONE</th>\n",
       "      <th>FLAG_EMAIL</th>\n",
       "      <th>OCCUPATION_TYPE</th>\n",
       "      <th>CNT_FAM_MEMBERS</th>\n",
       "    </tr>\n",
       "  </thead>\n",
       "  <tbody>\n",
       "    <tr>\n",
       "      <th>0</th>\n",
       "      <td>5008804</td>\n",
       "      <td>M</td>\n",
       "      <td>Y</td>\n",
       "      <td>Y</td>\n",
       "      <td>0</td>\n",
       "      <td>427500.0</td>\n",
       "      <td>Working</td>\n",
       "      <td>Higher education</td>\n",
       "      <td>Civil marriage</td>\n",
       "      <td>Rented apartment</td>\n",
       "      <td>-12005</td>\n",
       "      <td>-4542</td>\n",
       "      <td>1</td>\n",
       "      <td>1</td>\n",
       "      <td>0</td>\n",
       "      <td>0</td>\n",
       "      <td>NaN</td>\n",
       "      <td>2.0</td>\n",
       "    </tr>\n",
       "    <tr>\n",
       "      <th>1</th>\n",
       "      <td>5008805</td>\n",
       "      <td>M</td>\n",
       "      <td>Y</td>\n",
       "      <td>Y</td>\n",
       "      <td>0</td>\n",
       "      <td>427500.0</td>\n",
       "      <td>Working</td>\n",
       "      <td>Higher education</td>\n",
       "      <td>Civil marriage</td>\n",
       "      <td>Rented apartment</td>\n",
       "      <td>-12005</td>\n",
       "      <td>-4542</td>\n",
       "      <td>1</td>\n",
       "      <td>1</td>\n",
       "      <td>0</td>\n",
       "      <td>0</td>\n",
       "      <td>NaN</td>\n",
       "      <td>2.0</td>\n",
       "    </tr>\n",
       "    <tr>\n",
       "      <th>2</th>\n",
       "      <td>5008806</td>\n",
       "      <td>M</td>\n",
       "      <td>Y</td>\n",
       "      <td>Y</td>\n",
       "      <td>0</td>\n",
       "      <td>112500.0</td>\n",
       "      <td>Working</td>\n",
       "      <td>Secondary / secondary special</td>\n",
       "      <td>Married</td>\n",
       "      <td>House / apartment</td>\n",
       "      <td>-21474</td>\n",
       "      <td>-1134</td>\n",
       "      <td>1</td>\n",
       "      <td>0</td>\n",
       "      <td>0</td>\n",
       "      <td>0</td>\n",
       "      <td>Security staff</td>\n",
       "      <td>2.0</td>\n",
       "    </tr>\n",
       "    <tr>\n",
       "      <th>3</th>\n",
       "      <td>5008808</td>\n",
       "      <td>F</td>\n",
       "      <td>N</td>\n",
       "      <td>Y</td>\n",
       "      <td>0</td>\n",
       "      <td>270000.0</td>\n",
       "      <td>Commercial associate</td>\n",
       "      <td>Secondary / secondary special</td>\n",
       "      <td>Single / not married</td>\n",
       "      <td>House / apartment</td>\n",
       "      <td>-19110</td>\n",
       "      <td>-3051</td>\n",
       "      <td>1</td>\n",
       "      <td>0</td>\n",
       "      <td>1</td>\n",
       "      <td>1</td>\n",
       "      <td>Sales staff</td>\n",
       "      <td>1.0</td>\n",
       "    </tr>\n",
       "    <tr>\n",
       "      <th>4</th>\n",
       "      <td>5008809</td>\n",
       "      <td>F</td>\n",
       "      <td>N</td>\n",
       "      <td>Y</td>\n",
       "      <td>0</td>\n",
       "      <td>270000.0</td>\n",
       "      <td>Commercial associate</td>\n",
       "      <td>Secondary / secondary special</td>\n",
       "      <td>Single / not married</td>\n",
       "      <td>House / apartment</td>\n",
       "      <td>-19110</td>\n",
       "      <td>-3051</td>\n",
       "      <td>1</td>\n",
       "      <td>0</td>\n",
       "      <td>1</td>\n",
       "      <td>1</td>\n",
       "      <td>Sales staff</td>\n",
       "      <td>1.0</td>\n",
       "    </tr>\n",
       "  </tbody>\n",
       "</table>\n",
       "</div>"
      ],
      "text/plain": [
       "        ID CODE_GENDER FLAG_OWN_CAR FLAG_OWN_REALTY  CNT_CHILDREN  \\\n",
       "0  5008804           M            Y               Y             0   \n",
       "1  5008805           M            Y               Y             0   \n",
       "2  5008806           M            Y               Y             0   \n",
       "3  5008808           F            N               Y             0   \n",
       "4  5008809           F            N               Y             0   \n",
       "\n",
       "   AMT_INCOME_TOTAL      NAME_INCOME_TYPE            NAME_EDUCATION_TYPE  \\\n",
       "0          427500.0               Working               Higher education   \n",
       "1          427500.0               Working               Higher education   \n",
       "2          112500.0               Working  Secondary / secondary special   \n",
       "3          270000.0  Commercial associate  Secondary / secondary special   \n",
       "4          270000.0  Commercial associate  Secondary / secondary special   \n",
       "\n",
       "     NAME_FAMILY_STATUS  NAME_HOUSING_TYPE  DAYS_BIRTH  DAYS_EMPLOYED  \\\n",
       "0        Civil marriage   Rented apartment      -12005          -4542   \n",
       "1        Civil marriage   Rented apartment      -12005          -4542   \n",
       "2               Married  House / apartment      -21474          -1134   \n",
       "3  Single / not married  House / apartment      -19110          -3051   \n",
       "4  Single / not married  House / apartment      -19110          -3051   \n",
       "\n",
       "   FLAG_MOBIL  FLAG_WORK_PHONE  FLAG_PHONE  FLAG_EMAIL OCCUPATION_TYPE  \\\n",
       "0           1                1           0           0             NaN   \n",
       "1           1                1           0           0             NaN   \n",
       "2           1                0           0           0  Security staff   \n",
       "3           1                0           1           1     Sales staff   \n",
       "4           1                0           1           1     Sales staff   \n",
       "\n",
       "   CNT_FAM_MEMBERS  \n",
       "0              2.0  \n",
       "1              2.0  \n",
       "2              2.0  \n",
       "3              1.0  \n",
       "4              1.0  "
      ]
     },
     "execution_count": 28,
     "metadata": {},
     "output_type": "execute_result"
    }
   ],
   "source": [
    "cc_data_full_data.head()"
   ]
  },
  {
   "cell_type": "code",
   "execution_count": 29,
   "id": "5c71a7f4",
   "metadata": {},
   "outputs": [
    {
     "data": {
      "text/html": [
       "<div>\n",
       "<style scoped>\n",
       "    .dataframe tbody tr th:only-of-type {\n",
       "        vertical-align: middle;\n",
       "    }\n",
       "\n",
       "    .dataframe tbody tr th {\n",
       "        vertical-align: top;\n",
       "    }\n",
       "\n",
       "    .dataframe thead th {\n",
       "        text-align: right;\n",
       "    }\n",
       "</style>\n",
       "<table border=\"1\" class=\"dataframe\">\n",
       "  <thead>\n",
       "    <tr style=\"text-align: right;\">\n",
       "      <th></th>\n",
       "      <th>ID</th>\n",
       "      <th>MONTHS_BALANCE</th>\n",
       "      <th>STATUS</th>\n",
       "    </tr>\n",
       "  </thead>\n",
       "  <tbody>\n",
       "    <tr>\n",
       "      <th>0</th>\n",
       "      <td>5001711</td>\n",
       "      <td>0</td>\n",
       "      <td>X</td>\n",
       "    </tr>\n",
       "    <tr>\n",
       "      <th>1</th>\n",
       "      <td>5001711</td>\n",
       "      <td>-1</td>\n",
       "      <td>0</td>\n",
       "    </tr>\n",
       "    <tr>\n",
       "      <th>2</th>\n",
       "      <td>5001711</td>\n",
       "      <td>-2</td>\n",
       "      <td>0</td>\n",
       "    </tr>\n",
       "    <tr>\n",
       "      <th>3</th>\n",
       "      <td>5001711</td>\n",
       "      <td>-3</td>\n",
       "      <td>0</td>\n",
       "    </tr>\n",
       "    <tr>\n",
       "      <th>4</th>\n",
       "      <td>5001712</td>\n",
       "      <td>0</td>\n",
       "      <td>C</td>\n",
       "    </tr>\n",
       "  </tbody>\n",
       "</table>\n",
       "</div>"
      ],
      "text/plain": [
       "        ID  MONTHS_BALANCE STATUS\n",
       "0  5001711               0      X\n",
       "1  5001711              -1      0\n",
       "2  5001711              -2      0\n",
       "3  5001711              -3      0\n",
       "4  5001712               0      C"
      ]
     },
     "execution_count": 29,
     "metadata": {},
     "output_type": "execute_result"
    }
   ],
   "source": [
    "credit_status.head()"
   ]
  },
  {
   "cell_type": "markdown",
   "id": "b22c153a",
   "metadata": {},
   "source": [
    "Now let's look at the metadata of the datasets to understand the data better."
   ]
  },
  {
   "cell_type": "markdown",
   "id": "98b95f65",
   "metadata": {},
   "source": [
    "For the application record dataset."
   ]
  },
  {
   "cell_type": "markdown",
   "id": "39ff3646",
   "metadata": {},
   "source": [
    "![appli_rec_metadata](../assets/post_cont_image/cc_app_meta.png)"
   ]
  },
  {
   "cell_type": "markdown",
   "id": "9c145c56",
   "metadata": {},
   "source": [
    "And for the credit record dataset."
   ]
  },
  {
   "cell_type": "markdown",
   "id": "077f0574",
   "metadata": {},
   "source": [
    "![appli_rec_metadata](../assets/post_cont_image/credit_meta.png)"
   ]
  },
  {
   "cell_type": "markdown",
   "id": "54576333",
   "metadata": {},
   "source": [
    "### Creating a target variable"
   ]
  },
  {
   "cell_type": "markdown",
   "id": "ea57b124",
   "metadata": {},
   "source": [
    "As you may have noticed from our first dataset, we don't have a target variable that states whether the client is good or not (a client who will not default on their credit card would be called a good client). We will use the credit record to come up with the target variable. We use the [vintage analysis](https://www.listendata.com/2019/09/credit-risk-vintage-analysis.html) for this.\n",
    "\n",
    "For simplicity purposes, we will say that the applicants over 60 days overdue are considered bad clients. When the target variable is 1, that means a bad client, and when it is 0, that represents a good client. That is what the following script does."
   ]
  },
  {
   "cell_type": "code",
   "execution_count": 30,
   "id": "1efea0f1",
   "metadata": {
    "id": "1efea0f1"
   },
   "outputs": [],
   "source": [
    "begin_month=pd.DataFrame(credit_status.groupby(['ID'])['MONTHS_BALANCE'].agg(min))\n",
    "begin_month=begin_month.rename(columns={'MONTHS_BALANCE':'Account age'})\n",
    "cc_data_full_data=pd.merge(cc_data_full_data,begin_month,how='left',on='ID')\n",
    "credit_status['dep_value'] = None\n",
    "credit_status['dep_value'][credit_status['STATUS'] =='2']='Yes'\n",
    "credit_status['dep_value'][credit_status['STATUS'] =='3']='Yes'\n",
    "credit_status['dep_value'][credit_status['STATUS'] =='4']='Yes'\n",
    "credit_status['dep_value'][credit_status['STATUS'] =='5']='Yes'\n",
    "cpunt=credit_status.groupby('ID').count()\n",
    "cpunt['dep_value'][cpunt['dep_value'] > 0]='Yes'\n",
    "cpunt['dep_value'][cpunt['dep_value'] == 0]='No'\n",
    "cpunt = cpunt[['dep_value']]\n",
    "cc_data_full_data = pd.merge(cc_data_full_data,cpunt,how='inner',on='ID')\n",
    "cc_data_full_data['Is high risk']=cc_data_full_data['dep_value']\n",
    "cc_data_full_data.loc[cc_data_full_data['Is high risk']=='Yes','Is high risk']=1\n",
    "cc_data_full_data.loc[cc_data_full_data['Is high risk']=='No','Is high risk']=0\n",
    "cc_data_full_data.drop('dep_value',axis=1,inplace=True)\n",
    "pd.options.mode.chained_assignment = None # hide warning SettingWithCopyWarning"
   ]
  },
  {
   "cell_type": "markdown",
   "id": "faf384fa",
   "metadata": {},
   "source": [
    "Let's print the first 5 rows of the dataframe, with the newly created target column ```Is high risk``` at the end."
   ]
  },
  {
   "cell_type": "code",
   "execution_count": 31,
   "id": "0793e75f",
   "metadata": {},
   "outputs": [
    {
     "data": {
      "text/html": [
       "<div>\n",
       "<style scoped>\n",
       "    .dataframe tbody tr th:only-of-type {\n",
       "        vertical-align: middle;\n",
       "    }\n",
       "\n",
       "    .dataframe tbody tr th {\n",
       "        vertical-align: top;\n",
       "    }\n",
       "\n",
       "    .dataframe thead th {\n",
       "        text-align: right;\n",
       "    }\n",
       "</style>\n",
       "<table border=\"1\" class=\"dataframe\">\n",
       "  <thead>\n",
       "    <tr style=\"text-align: right;\">\n",
       "      <th></th>\n",
       "      <th>ID</th>\n",
       "      <th>CODE_GENDER</th>\n",
       "      <th>FLAG_OWN_CAR</th>\n",
       "      <th>FLAG_OWN_REALTY</th>\n",
       "      <th>CNT_CHILDREN</th>\n",
       "      <th>AMT_INCOME_TOTAL</th>\n",
       "      <th>NAME_INCOME_TYPE</th>\n",
       "      <th>NAME_EDUCATION_TYPE</th>\n",
       "      <th>NAME_FAMILY_STATUS</th>\n",
       "      <th>NAME_HOUSING_TYPE</th>\n",
       "      <th>DAYS_BIRTH</th>\n",
       "      <th>DAYS_EMPLOYED</th>\n",
       "      <th>FLAG_MOBIL</th>\n",
       "      <th>FLAG_WORK_PHONE</th>\n",
       "      <th>FLAG_PHONE</th>\n",
       "      <th>FLAG_EMAIL</th>\n",
       "      <th>OCCUPATION_TYPE</th>\n",
       "      <th>CNT_FAM_MEMBERS</th>\n",
       "      <th>Account age</th>\n",
       "      <th>Is high risk</th>\n",
       "    </tr>\n",
       "  </thead>\n",
       "  <tbody>\n",
       "    <tr>\n",
       "      <th>0</th>\n",
       "      <td>5008804</td>\n",
       "      <td>M</td>\n",
       "      <td>Y</td>\n",
       "      <td>Y</td>\n",
       "      <td>0</td>\n",
       "      <td>427500.0</td>\n",
       "      <td>Working</td>\n",
       "      <td>Higher education</td>\n",
       "      <td>Civil marriage</td>\n",
       "      <td>Rented apartment</td>\n",
       "      <td>-12005</td>\n",
       "      <td>-4542</td>\n",
       "      <td>1</td>\n",
       "      <td>1</td>\n",
       "      <td>0</td>\n",
       "      <td>0</td>\n",
       "      <td>NaN</td>\n",
       "      <td>2.0</td>\n",
       "      <td>-15.0</td>\n",
       "      <td>0</td>\n",
       "    </tr>\n",
       "    <tr>\n",
       "      <th>1</th>\n",
       "      <td>5008805</td>\n",
       "      <td>M</td>\n",
       "      <td>Y</td>\n",
       "      <td>Y</td>\n",
       "      <td>0</td>\n",
       "      <td>427500.0</td>\n",
       "      <td>Working</td>\n",
       "      <td>Higher education</td>\n",
       "      <td>Civil marriage</td>\n",
       "      <td>Rented apartment</td>\n",
       "      <td>-12005</td>\n",
       "      <td>-4542</td>\n",
       "      <td>1</td>\n",
       "      <td>1</td>\n",
       "      <td>0</td>\n",
       "      <td>0</td>\n",
       "      <td>NaN</td>\n",
       "      <td>2.0</td>\n",
       "      <td>-14.0</td>\n",
       "      <td>0</td>\n",
       "    </tr>\n",
       "    <tr>\n",
       "      <th>2</th>\n",
       "      <td>5008806</td>\n",
       "      <td>M</td>\n",
       "      <td>Y</td>\n",
       "      <td>Y</td>\n",
       "      <td>0</td>\n",
       "      <td>112500.0</td>\n",
       "      <td>Working</td>\n",
       "      <td>Secondary / secondary special</td>\n",
       "      <td>Married</td>\n",
       "      <td>House / apartment</td>\n",
       "      <td>-21474</td>\n",
       "      <td>-1134</td>\n",
       "      <td>1</td>\n",
       "      <td>0</td>\n",
       "      <td>0</td>\n",
       "      <td>0</td>\n",
       "      <td>Security staff</td>\n",
       "      <td>2.0</td>\n",
       "      <td>-29.0</td>\n",
       "      <td>0</td>\n",
       "    </tr>\n",
       "    <tr>\n",
       "      <th>3</th>\n",
       "      <td>5008808</td>\n",
       "      <td>F</td>\n",
       "      <td>N</td>\n",
       "      <td>Y</td>\n",
       "      <td>0</td>\n",
       "      <td>270000.0</td>\n",
       "      <td>Commercial associate</td>\n",
       "      <td>Secondary / secondary special</td>\n",
       "      <td>Single / not married</td>\n",
       "      <td>House / apartment</td>\n",
       "      <td>-19110</td>\n",
       "      <td>-3051</td>\n",
       "      <td>1</td>\n",
       "      <td>0</td>\n",
       "      <td>1</td>\n",
       "      <td>1</td>\n",
       "      <td>Sales staff</td>\n",
       "      <td>1.0</td>\n",
       "      <td>-4.0</td>\n",
       "      <td>0</td>\n",
       "    </tr>\n",
       "    <tr>\n",
       "      <th>4</th>\n",
       "      <td>5008809</td>\n",
       "      <td>F</td>\n",
       "      <td>N</td>\n",
       "      <td>Y</td>\n",
       "      <td>0</td>\n",
       "      <td>270000.0</td>\n",
       "      <td>Commercial associate</td>\n",
       "      <td>Secondary / secondary special</td>\n",
       "      <td>Single / not married</td>\n",
       "      <td>House / apartment</td>\n",
       "      <td>-19110</td>\n",
       "      <td>-3051</td>\n",
       "      <td>1</td>\n",
       "      <td>0</td>\n",
       "      <td>1</td>\n",
       "      <td>1</td>\n",
       "      <td>Sales staff</td>\n",
       "      <td>1.0</td>\n",
       "      <td>-26.0</td>\n",
       "      <td>0</td>\n",
       "    </tr>\n",
       "  </tbody>\n",
       "</table>\n",
       "</div>"
      ],
      "text/plain": [
       "        ID CODE_GENDER FLAG_OWN_CAR FLAG_OWN_REALTY  CNT_CHILDREN  \\\n",
       "0  5008804           M            Y               Y             0   \n",
       "1  5008805           M            Y               Y             0   \n",
       "2  5008806           M            Y               Y             0   \n",
       "3  5008808           F            N               Y             0   \n",
       "4  5008809           F            N               Y             0   \n",
       "\n",
       "   AMT_INCOME_TOTAL      NAME_INCOME_TYPE            NAME_EDUCATION_TYPE  \\\n",
       "0          427500.0               Working               Higher education   \n",
       "1          427500.0               Working               Higher education   \n",
       "2          112500.0               Working  Secondary / secondary special   \n",
       "3          270000.0  Commercial associate  Secondary / secondary special   \n",
       "4          270000.0  Commercial associate  Secondary / secondary special   \n",
       "\n",
       "     NAME_FAMILY_STATUS  NAME_HOUSING_TYPE  DAYS_BIRTH  DAYS_EMPLOYED  \\\n",
       "0        Civil marriage   Rented apartment      -12005          -4542   \n",
       "1        Civil marriage   Rented apartment      -12005          -4542   \n",
       "2               Married  House / apartment      -21474          -1134   \n",
       "3  Single / not married  House / apartment      -19110          -3051   \n",
       "4  Single / not married  House / apartment      -19110          -3051   \n",
       "\n",
       "   FLAG_MOBIL  FLAG_WORK_PHONE  FLAG_PHONE  FLAG_EMAIL OCCUPATION_TYPE  \\\n",
       "0           1                1           0           0             NaN   \n",
       "1           1                1           0           0             NaN   \n",
       "2           1                0           0           0  Security staff   \n",
       "3           1                0           1           1     Sales staff   \n",
       "4           1                0           1           1     Sales staff   \n",
       "\n",
       "   CNT_FAM_MEMBERS  Account age Is high risk  \n",
       "0              2.0        -15.0            0  \n",
       "1              2.0        -14.0            0  \n",
       "2              2.0        -29.0            0  \n",
       "3              1.0         -4.0            0  \n",
       "4              1.0        -26.0            0  "
      ]
     },
     "execution_count": 31,
     "metadata": {},
     "output_type": "execute_result"
    }
   ],
   "source": [
    "cc_data_full_data.head()"
   ]
  },
  {
   "cell_type": "markdown",
   "id": "81151168",
   "metadata": {},
   "source": [
    "Since the features (columns) names are not very descriptive, we will change them to make them more readable."
   ]
  },
  {
   "cell_type": "code",
   "execution_count": 32,
   "id": "f0f2df32",
   "metadata": {
    "id": "f0f2df32"
   },
   "outputs": [],
   "source": [
    "# rename the features to a more readable feature names\n",
    "cc_data_full_data = cc_data_full_data.rename(columns={\n",
    "    'CODE_GENDER':'Gender',\n",
    "    'FLAG_OWN_CAR':'Has a car',\n",
    "    'FLAG_OWN_REALTY':'Has a property',\n",
    "    'CNT_CHILDREN':'Children count',\n",
    "    'AMT_INCOME_TOTAL':'Income',\n",
    "    'NAME_INCOME_TYPE':'Employment status',\n",
    "    'NAME_EDUCATION_TYPE':'Education level',\n",
    "    'NAME_FAMILY_STATUS':'Marital status',\n",
    "    'NAME_HOUSING_TYPE':'Dwelling',\n",
    "    'DAYS_BIRTH':'Age',\n",
    "    'DAYS_EMPLOYED': 'Employment length',\n",
    "    'FLAG_MOBIL': 'Has a mobile phone',\n",
    "    'FLAG_WORK_PHONE': 'Has a work phone',\n",
    "    'FLAG_PHONE': 'Has a phone',\n",
    "    'FLAG_EMAIL': 'Has an email',\n",
    "    'OCCUPATION_TYPE': 'Job title',\n",
    "    'CNT_FAM_MEMBERS': 'Family member count',\n",
    "    'Account age': 'Account age'\n",
    "    })"
   ]
  },
  {
   "cell_type": "markdown",
   "id": "15295a4d",
   "metadata": {},
   "source": [
    "Now we will split the ```cc_data_full_data``` into a training and testing set. We will use 80% of the data for training and 20% for testing and store them respectively in ```cc_train_original``` and ```cc_test_original``` variables."
   ]
  },
  {
   "cell_type": "code",
   "execution_count": 33,
   "id": "d9ed66b5",
   "metadata": {
    "id": "d9ed66b5"
   },
   "outputs": [],
   "source": [
    "# split the data into train and test\n",
    "def data_split(df, test_size):\n",
    "    train_df, test_df = train_test_split(df, test_size=test_size, random_state=42)\n",
    "    #reset the indexes\n",
    "    return train_df.reset_index(drop=True), test_df.reset_index(drop=True)"
   ]
  },
  {
   "cell_type": "code",
   "execution_count": 34,
   "id": "2a3579a8",
   "metadata": {},
   "outputs": [],
   "source": [
    "# we set the test_size to 0.2 which means that the train_size will be 0.8\n",
    "cc_train_original, cc_test_original = data_split(cc_data_full_data, 0.2)"
   ]
  },
  {
   "cell_type": "markdown",
   "id": "416babde",
   "metadata": {},
   "source": [
    "Dataframe's ``shape `` function helps us know the dimension of the dataframe. Here we have 20 features(columns) and 29165 observations(rows) for the training dataset.\n"
   ]
  },
  {
   "cell_type": "code",
   "execution_count": 35,
   "id": "ceba7729",
   "metadata": {},
   "outputs": [
    {
     "data": {
      "text/plain": [
       "(29165, 20)"
      ]
     },
     "execution_count": 35,
     "metadata": {},
     "output_type": "execute_result"
    }
   ],
   "source": [
    "cc_train_original.shape"
   ]
  },
  {
   "cell_type": "markdown",
   "id": "30e1565d",
   "metadata": {},
   "source": [
    "And 20 features(columns) and 7292 observations(rows) for the testing dataset."
   ]
  },
  {
   "cell_type": "code",
   "execution_count": 36,
   "id": "b94df2f9",
   "metadata": {},
   "outputs": [
    {
     "data": {
      "text/plain": [
       "(7292, 20)"
      ]
     },
     "execution_count": 36,
     "metadata": {},
     "output_type": "execute_result"
    }
   ],
   "source": [
    "cc_test_original.shape"
   ]
  },
  {
   "cell_type": "markdown",
   "id": "4a6be8aa",
   "metadata": {},
   "source": [
    "Finally, we will export the data as a CSV file on our local machine and create a copy of the dataset. Please note that these steps are optional. It is best practice to keep the original dataset untouched as a backup and work with the copy."
   ]
  },
  {
   "cell_type": "code",
   "execution_count": null,
   "id": "8edd5177",
   "metadata": {},
   "outputs": [],
   "source": [
    "cc_train_original.to_csv('dataset/train.csv',index=False)"
   ]
  },
  {
   "cell_type": "code",
   "execution_count": null,
   "id": "073e4116",
   "metadata": {},
   "outputs": [],
   "source": [
    "cc_test_original.to_csv('dataset/test.csv',index=False)"
   ]
  },
  {
   "cell_type": "code",
   "execution_count": 37,
   "id": "1857ec11",
   "metadata": {},
   "outputs": [],
   "source": [
    "# creating a copy of the dataset so that the original stays untouched\n",
    "cc_train_copy = cc_train_original.copy()\n",
    "cc_test_copy = cc_test_original.copy()"
   ]
  },
  {
   "cell_type": "markdown",
   "id": "e1457a76",
   "metadata": {},
   "source": [
    "### Data at a glance"
   ]
  },
  {
   "cell_type": "markdown",
   "id": "b4cf179a",
   "metadata": {},
   "source": [
    "Now that we have split the dataset into training and testing datasets, we will focus on the training dataset for now and use the test dataset toward the end of this post."
   ]
  },
  {
   "cell_type": "markdown",
   "id": "656be5d9",
   "metadata": {},
   "source": [
    "Let's review the first 5 rows again with the ```head()``` function."
   ]
  },
  {
   "cell_type": "code",
   "execution_count": 38,
   "id": "0NDJvJIk4DnC",
   "metadata": {
    "id": "0NDJvJIk4DnC"
   },
   "outputs": [
    {
     "data": {
      "text/html": [
       "<div>\n",
       "<style scoped>\n",
       "    .dataframe tbody tr th:only-of-type {\n",
       "        vertical-align: middle;\n",
       "    }\n",
       "\n",
       "    .dataframe tbody tr th {\n",
       "        vertical-align: top;\n",
       "    }\n",
       "\n",
       "    .dataframe thead th {\n",
       "        text-align: right;\n",
       "    }\n",
       "</style>\n",
       "<table border=\"1\" class=\"dataframe\">\n",
       "  <thead>\n",
       "    <tr style=\"text-align: right;\">\n",
       "      <th></th>\n",
       "      <th>ID</th>\n",
       "      <th>Gender</th>\n",
       "      <th>Has a car</th>\n",
       "      <th>Has a property</th>\n",
       "      <th>Children count</th>\n",
       "      <th>Income</th>\n",
       "      <th>Employment status</th>\n",
       "      <th>Education level</th>\n",
       "      <th>Marital status</th>\n",
       "      <th>Dwelling</th>\n",
       "      <th>Age</th>\n",
       "      <th>Employment length</th>\n",
       "      <th>Has a mobile phone</th>\n",
       "      <th>Has a work phone</th>\n",
       "      <th>Has a phone</th>\n",
       "      <th>Has an email</th>\n",
       "      <th>Job title</th>\n",
       "      <th>Family member count</th>\n",
       "      <th>Account age</th>\n",
       "      <th>Is high risk</th>\n",
       "    </tr>\n",
       "  </thead>\n",
       "  <tbody>\n",
       "    <tr>\n",
       "      <th>0</th>\n",
       "      <td>5008804</td>\n",
       "      <td>M</td>\n",
       "      <td>Y</td>\n",
       "      <td>Y</td>\n",
       "      <td>0</td>\n",
       "      <td>427500.0</td>\n",
       "      <td>Working</td>\n",
       "      <td>Higher education</td>\n",
       "      <td>Civil marriage</td>\n",
       "      <td>Rented apartment</td>\n",
       "      <td>-12005</td>\n",
       "      <td>-4542</td>\n",
       "      <td>1</td>\n",
       "      <td>1</td>\n",
       "      <td>0</td>\n",
       "      <td>0</td>\n",
       "      <td>NaN</td>\n",
       "      <td>2.0</td>\n",
       "      <td>-15.0</td>\n",
       "      <td>0</td>\n",
       "    </tr>\n",
       "    <tr>\n",
       "      <th>1</th>\n",
       "      <td>5008805</td>\n",
       "      <td>M</td>\n",
       "      <td>Y</td>\n",
       "      <td>Y</td>\n",
       "      <td>0</td>\n",
       "      <td>427500.0</td>\n",
       "      <td>Working</td>\n",
       "      <td>Higher education</td>\n",
       "      <td>Civil marriage</td>\n",
       "      <td>Rented apartment</td>\n",
       "      <td>-12005</td>\n",
       "      <td>-4542</td>\n",
       "      <td>1</td>\n",
       "      <td>1</td>\n",
       "      <td>0</td>\n",
       "      <td>0</td>\n",
       "      <td>NaN</td>\n",
       "      <td>2.0</td>\n",
       "      <td>-14.0</td>\n",
       "      <td>0</td>\n",
       "    </tr>\n",
       "    <tr>\n",
       "      <th>2</th>\n",
       "      <td>5008806</td>\n",
       "      <td>M</td>\n",
       "      <td>Y</td>\n",
       "      <td>Y</td>\n",
       "      <td>0</td>\n",
       "      <td>112500.0</td>\n",
       "      <td>Working</td>\n",
       "      <td>Secondary / secondary special</td>\n",
       "      <td>Married</td>\n",
       "      <td>House / apartment</td>\n",
       "      <td>-21474</td>\n",
       "      <td>-1134</td>\n",
       "      <td>1</td>\n",
       "      <td>0</td>\n",
       "      <td>0</td>\n",
       "      <td>0</td>\n",
       "      <td>Security staff</td>\n",
       "      <td>2.0</td>\n",
       "      <td>-29.0</td>\n",
       "      <td>0</td>\n",
       "    </tr>\n",
       "    <tr>\n",
       "      <th>3</th>\n",
       "      <td>5008808</td>\n",
       "      <td>F</td>\n",
       "      <td>N</td>\n",
       "      <td>Y</td>\n",
       "      <td>0</td>\n",
       "      <td>270000.0</td>\n",
       "      <td>Commercial associate</td>\n",
       "      <td>Secondary / secondary special</td>\n",
       "      <td>Single / not married</td>\n",
       "      <td>House / apartment</td>\n",
       "      <td>-19110</td>\n",
       "      <td>-3051</td>\n",
       "      <td>1</td>\n",
       "      <td>0</td>\n",
       "      <td>1</td>\n",
       "      <td>1</td>\n",
       "      <td>Sales staff</td>\n",
       "      <td>1.0</td>\n",
       "      <td>-4.0</td>\n",
       "      <td>0</td>\n",
       "    </tr>\n",
       "    <tr>\n",
       "      <th>4</th>\n",
       "      <td>5008809</td>\n",
       "      <td>F</td>\n",
       "      <td>N</td>\n",
       "      <td>Y</td>\n",
       "      <td>0</td>\n",
       "      <td>270000.0</td>\n",
       "      <td>Commercial associate</td>\n",
       "      <td>Secondary / secondary special</td>\n",
       "      <td>Single / not married</td>\n",
       "      <td>House / apartment</td>\n",
       "      <td>-19110</td>\n",
       "      <td>-3051</td>\n",
       "      <td>1</td>\n",
       "      <td>0</td>\n",
       "      <td>1</td>\n",
       "      <td>1</td>\n",
       "      <td>Sales staff</td>\n",
       "      <td>1.0</td>\n",
       "      <td>-26.0</td>\n",
       "      <td>0</td>\n",
       "    </tr>\n",
       "  </tbody>\n",
       "</table>\n",
       "</div>"
      ],
      "text/plain": [
       "        ID Gender Has a car Has a property  Children count    Income  \\\n",
       "0  5008804      M         Y              Y               0  427500.0   \n",
       "1  5008805      M         Y              Y               0  427500.0   \n",
       "2  5008806      M         Y              Y               0  112500.0   \n",
       "3  5008808      F         N              Y               0  270000.0   \n",
       "4  5008809      F         N              Y               0  270000.0   \n",
       "\n",
       "      Employment status                Education level        Marital status  \\\n",
       "0               Working               Higher education        Civil marriage   \n",
       "1               Working               Higher education        Civil marriage   \n",
       "2               Working  Secondary / secondary special               Married   \n",
       "3  Commercial associate  Secondary / secondary special  Single / not married   \n",
       "4  Commercial associate  Secondary / secondary special  Single / not married   \n",
       "\n",
       "            Dwelling    Age  Employment length  Has a mobile phone  \\\n",
       "0   Rented apartment -12005              -4542                   1   \n",
       "1   Rented apartment -12005              -4542                   1   \n",
       "2  House / apartment -21474              -1134                   1   \n",
       "3  House / apartment -19110              -3051                   1   \n",
       "4  House / apartment -19110              -3051                   1   \n",
       "\n",
       "   Has a work phone  Has a phone  Has an email       Job title  \\\n",
       "0                 1            0             0             NaN   \n",
       "1                 1            0             0             NaN   \n",
       "2                 0            0             0  Security staff   \n",
       "3                 0            1             1     Sales staff   \n",
       "4                 0            1             1     Sales staff   \n",
       "\n",
       "   Family member count  Account age Is high risk  \n",
       "0                  2.0        -15.0            0  \n",
       "1                  2.0        -14.0            0  \n",
       "2                  2.0        -29.0            0  \n",
       "3                  1.0         -4.0            0  \n",
       "4                  1.0        -26.0            0  "
      ]
     },
     "execution_count": 38,
     "metadata": {},
     "output_type": "execute_result"
    }
   ],
   "source": [
    "cc_data_full_data.head()"
   ]
  },
  {
   "cell_type": "markdown",
   "id": "abc3a202",
   "metadata": {},
   "source": [
    "Now let's see the data types of each of the features with the ```info()``` function."
   ]
  },
  {
   "cell_type": "code",
   "execution_count": 39,
   "id": "Tsy-_XPMz4dm",
   "metadata": {
    "colab": {
     "base_uri": "https://localhost:8080/"
    },
    "id": "Tsy-_XPMz4dm",
    "outputId": "06a46cef-223d-42a5-f344-014512c5897c"
   },
   "outputs": [
    {
     "name": "stdout",
     "output_type": "stream",
     "text": [
      "<class 'pandas.core.frame.DataFrame'>\n",
      "Int64Index: 36457 entries, 0 to 36456\n",
      "Data columns (total 20 columns):\n",
      " #   Column               Non-Null Count  Dtype  \n",
      "---  ------               --------------  -----  \n",
      " 0   ID                   36457 non-null  int64  \n",
      " 1   Gender               36457 non-null  object \n",
      " 2   Has a car            36457 non-null  object \n",
      " 3   Has a property       36457 non-null  object \n",
      " 4   Children count       36457 non-null  int64  \n",
      " 5   Income               36457 non-null  float64\n",
      " 6   Employment status    36457 non-null  object \n",
      " 7   Education level      36457 non-null  object \n",
      " 8   Marital status       36457 non-null  object \n",
      " 9   Dwelling             36457 non-null  object \n",
      " 10  Age                  36457 non-null  int64  \n",
      " 11  Employment length    36457 non-null  int64  \n",
      " 12  Has a mobile phone   36457 non-null  int64  \n",
      " 13  Has a work phone     36457 non-null  int64  \n",
      " 14  Has a phone          36457 non-null  int64  \n",
      " 15  Has an email         36457 non-null  int64  \n",
      " 16  Job title            25134 non-null  object \n",
      " 17  Family member count  36457 non-null  float64\n",
      " 18  Account age          36457 non-null  float64\n",
      " 19  Is high risk         36457 non-null  object \n",
      "dtypes: float64(3), int64(8), object(9)\n",
      "memory usage: 5.8+ MB\n"
     ]
    }
   ],
   "source": [
    "cc_data_full_data.info()"
   ]
  },
  {
   "cell_type": "markdown",
   "id": "e30cb5c0",
   "metadata": {},
   "source": [
    "Let's digest the information above. The first column is the indexes of the features; the second is the names; the third is the count of non-null values(only the job title has missing values); and the fourth is datatypes (objects which mean strings datatype, float or integer)."
   ]
  },
  {
   "cell_type": "markdown",
   "id": "ebc74c85",
   "metadata": {},
   "source": [
    "The ```describe()``` function gives us statistics about the numerical features in the dataset. These statistics include each numerical feature's count, mean, standard deviation, interquartile range(25%, 50%, 75%), and minimum and maximum values."
   ]
  },
  {
   "cell_type": "code",
   "execution_count": 40,
   "id": "8baf6713",
   "metadata": {
    "id": "8baf6713"
   },
   "outputs": [
    {
     "data": {
      "text/html": [
       "<div>\n",
       "<style scoped>\n",
       "    .dataframe tbody tr th:only-of-type {\n",
       "        vertical-align: middle;\n",
       "    }\n",
       "\n",
       "    .dataframe tbody tr th {\n",
       "        vertical-align: top;\n",
       "    }\n",
       "\n",
       "    .dataframe thead th {\n",
       "        text-align: right;\n",
       "    }\n",
       "</style>\n",
       "<table border=\"1\" class=\"dataframe\">\n",
       "  <thead>\n",
       "    <tr style=\"text-align: right;\">\n",
       "      <th></th>\n",
       "      <th>ID</th>\n",
       "      <th>Children count</th>\n",
       "      <th>Income</th>\n",
       "      <th>Age</th>\n",
       "      <th>Employment length</th>\n",
       "      <th>Has a mobile phone</th>\n",
       "      <th>Has a work phone</th>\n",
       "      <th>Has a phone</th>\n",
       "      <th>Has an email</th>\n",
       "      <th>Family member count</th>\n",
       "      <th>Account age</th>\n",
       "    </tr>\n",
       "  </thead>\n",
       "  <tbody>\n",
       "    <tr>\n",
       "      <th>count</th>\n",
       "      <td>3.645700e+04</td>\n",
       "      <td>36457.000000</td>\n",
       "      <td>3.645700e+04</td>\n",
       "      <td>36457.000000</td>\n",
       "      <td>36457.000000</td>\n",
       "      <td>36457.0</td>\n",
       "      <td>36457.000000</td>\n",
       "      <td>36457.000000</td>\n",
       "      <td>36457.000000</td>\n",
       "      <td>36457.000000</td>\n",
       "      <td>36457.000000</td>\n",
       "    </tr>\n",
       "    <tr>\n",
       "      <th>mean</th>\n",
       "      <td>5.078227e+06</td>\n",
       "      <td>0.430315</td>\n",
       "      <td>1.866857e+05</td>\n",
       "      <td>-15975.173382</td>\n",
       "      <td>59262.935568</td>\n",
       "      <td>1.0</td>\n",
       "      <td>0.225526</td>\n",
       "      <td>0.294813</td>\n",
       "      <td>0.089722</td>\n",
       "      <td>2.198453</td>\n",
       "      <td>-26.164193</td>\n",
       "    </tr>\n",
       "    <tr>\n",
       "      <th>std</th>\n",
       "      <td>4.187524e+04</td>\n",
       "      <td>0.742367</td>\n",
       "      <td>1.017892e+05</td>\n",
       "      <td>4200.549944</td>\n",
       "      <td>137651.334859</td>\n",
       "      <td>0.0</td>\n",
       "      <td>0.417934</td>\n",
       "      <td>0.455965</td>\n",
       "      <td>0.285787</td>\n",
       "      <td>0.911686</td>\n",
       "      <td>16.501854</td>\n",
       "    </tr>\n",
       "    <tr>\n",
       "      <th>min</th>\n",
       "      <td>5.008804e+06</td>\n",
       "      <td>0.000000</td>\n",
       "      <td>2.700000e+04</td>\n",
       "      <td>-25152.000000</td>\n",
       "      <td>-15713.000000</td>\n",
       "      <td>1.0</td>\n",
       "      <td>0.000000</td>\n",
       "      <td>0.000000</td>\n",
       "      <td>0.000000</td>\n",
       "      <td>1.000000</td>\n",
       "      <td>-60.000000</td>\n",
       "    </tr>\n",
       "    <tr>\n",
       "      <th>25%</th>\n",
       "      <td>5.042028e+06</td>\n",
       "      <td>0.000000</td>\n",
       "      <td>1.215000e+05</td>\n",
       "      <td>-19438.000000</td>\n",
       "      <td>-3153.000000</td>\n",
       "      <td>1.0</td>\n",
       "      <td>0.000000</td>\n",
       "      <td>0.000000</td>\n",
       "      <td>0.000000</td>\n",
       "      <td>2.000000</td>\n",
       "      <td>-39.000000</td>\n",
       "    </tr>\n",
       "    <tr>\n",
       "      <th>50%</th>\n",
       "      <td>5.074614e+06</td>\n",
       "      <td>0.000000</td>\n",
       "      <td>1.575000e+05</td>\n",
       "      <td>-15563.000000</td>\n",
       "      <td>-1552.000000</td>\n",
       "      <td>1.0</td>\n",
       "      <td>0.000000</td>\n",
       "      <td>0.000000</td>\n",
       "      <td>0.000000</td>\n",
       "      <td>2.000000</td>\n",
       "      <td>-24.000000</td>\n",
       "    </tr>\n",
       "    <tr>\n",
       "      <th>75%</th>\n",
       "      <td>5.115396e+06</td>\n",
       "      <td>1.000000</td>\n",
       "      <td>2.250000e+05</td>\n",
       "      <td>-12462.000000</td>\n",
       "      <td>-408.000000</td>\n",
       "      <td>1.0</td>\n",
       "      <td>0.000000</td>\n",
       "      <td>1.000000</td>\n",
       "      <td>0.000000</td>\n",
       "      <td>3.000000</td>\n",
       "      <td>-12.000000</td>\n",
       "    </tr>\n",
       "    <tr>\n",
       "      <th>max</th>\n",
       "      <td>5.150487e+06</td>\n",
       "      <td>19.000000</td>\n",
       "      <td>1.575000e+06</td>\n",
       "      <td>-7489.000000</td>\n",
       "      <td>365243.000000</td>\n",
       "      <td>1.0</td>\n",
       "      <td>1.000000</td>\n",
       "      <td>1.000000</td>\n",
       "      <td>1.000000</td>\n",
       "      <td>20.000000</td>\n",
       "      <td>0.000000</td>\n",
       "    </tr>\n",
       "  </tbody>\n",
       "</table>\n",
       "</div>"
      ],
      "text/plain": [
       "                 ID  Children count        Income           Age  \\\n",
       "count  3.645700e+04    36457.000000  3.645700e+04  36457.000000   \n",
       "mean   5.078227e+06        0.430315  1.866857e+05 -15975.173382   \n",
       "std    4.187524e+04        0.742367  1.017892e+05   4200.549944   \n",
       "min    5.008804e+06        0.000000  2.700000e+04 -25152.000000   \n",
       "25%    5.042028e+06        0.000000  1.215000e+05 -19438.000000   \n",
       "50%    5.074614e+06        0.000000  1.575000e+05 -15563.000000   \n",
       "75%    5.115396e+06        1.000000  2.250000e+05 -12462.000000   \n",
       "max    5.150487e+06       19.000000  1.575000e+06  -7489.000000   \n",
       "\n",
       "       Employment length  Has a mobile phone  Has a work phone   Has a phone  \\\n",
       "count       36457.000000             36457.0      36457.000000  36457.000000   \n",
       "mean        59262.935568                 1.0          0.225526      0.294813   \n",
       "std        137651.334859                 0.0          0.417934      0.455965   \n",
       "min        -15713.000000                 1.0          0.000000      0.000000   \n",
       "25%         -3153.000000                 1.0          0.000000      0.000000   \n",
       "50%         -1552.000000                 1.0          0.000000      0.000000   \n",
       "75%          -408.000000                 1.0          0.000000      1.000000   \n",
       "max        365243.000000                 1.0          1.000000      1.000000   \n",
       "\n",
       "       Has an email  Family member count   Account age  \n",
       "count  36457.000000         36457.000000  36457.000000  \n",
       "mean       0.089722             2.198453    -26.164193  \n",
       "std        0.285787             0.911686     16.501854  \n",
       "min        0.000000             1.000000    -60.000000  \n",
       "25%        0.000000             2.000000    -39.000000  \n",
       "50%        0.000000             2.000000    -24.000000  \n",
       "75%        0.000000             3.000000    -12.000000  \n",
       "max        1.000000            20.000000      0.000000  "
      ]
     },
     "execution_count": 40,
     "metadata": {},
     "output_type": "execute_result"
    }
   ],
   "source": [
    "cc_data_full_data.describe()"
   ]
  },
  {
   "cell_type": "markdown",
   "id": "5e356f42",
   "metadata": {},
   "source": [
    "We will use the [Missingno](https://github.com/ResidentMario/missingno) to visualize the missing values per feature using its ```matrix``` function."
   ]
  },
  {
   "cell_type": "code",
   "execution_count": 41,
   "id": "b4a38813",
   "metadata": {},
   "outputs": [
    {
     "data": {
      "image/png": "[encoded data removed]",
      "text/plain": [
       "<Figure size 1800x720 with 2 Axes>"
      ]
     },
     "metadata": {
      "needs_background": "light"
     },
     "output_type": "display_data"
    }
   ],
   "source": [
    "msno.matrix(cc_data_full_data)\n",
    "plt.show()"
   ]
  },
  {
   "cell_type": "markdown",
   "id": "f2bd1dbb",
   "metadata": {},
   "source": [
    "Here we can see that the Job title is the only feature with missing values. Slim white lines represent missing values."
   ]
  },
  {
   "cell_type": "markdown",
   "id": "0c3a1338",
   "metadata": {},
   "source": [
    "To see a clear representation of the missing values count, we can use its ```bar()``` function to have a barplot with the count of non-null values."
   ]
  },
  {
   "cell_type": "code",
   "execution_count": 42,
   "id": "7508e03a",
   "metadata": {},
   "outputs": [
    {
     "data": {
      "image/png": "[encoded data removed]",
      "text/plain": [
       "<Figure size 1728x720 with 3 Axes>"
      ]
     },
     "metadata": {
      "needs_background": "light"
     },
     "output_type": "display_data"
    }
   ],
   "source": [
    "msno.bar(cc_data_full_data)\n",
    "plt.show()"
   ]
  },
  {
   "cell_type": "markdown",
   "id": "753f7eff",
   "metadata": {},
   "source": [
    "********** Not grammaly checked **************"
   ]
  },
  {
   "cell_type": "markdown",
   "id": "202da9da",
   "metadata": {},
   "source": [
    "Now we will create functions that will be used into analyzing each feature(Univariate analysis). Don't worry too much about understanding these functions as we will see how they will be used during the exploratory data analysis section."
   ]
  },
  {
   "cell_type": "markdown",
   "id": "95865fa4",
   "metadata": {},
   "source": [
    "Our first function is ```value_cnt_norm_cal``` which is used to calculate the count of each class in a feature with its frequency (normalized on a scale of 100)"
   ]
  },
  {
   "cell_type": "code",
   "execution_count": 48,
   "id": "X2DnChyC8DmH",
   "metadata": {
    "colab": {
     "base_uri": "https://localhost:8080/"
    },
    "id": "X2DnChyC8DmH",
    "outputId": "94024136-79d7-4d2b-b771-c0e52a51f734"
   },
   "outputs": [],
   "source": [
    "def value_cnt_norm_cal(df,feature):\n",
    "    '''Function that will return the value count and frequency of each observation within a feature'''\n",
    "    # get the value counts of each feature\n",
    "    ftr_value_cnt = df[feature].value_counts()\n",
    "    # normalize the value counts on a scale of 100\n",
    "    ftr_value_cnt_norm = df[feature].value_counts(normalize=True) * 100\n",
    "    # concatenate the value counts with normalized value count column wise\n",
    "    ftr_value_cnt_concat = pd.concat([ftr_value_cnt, ftr_value_cnt_norm], axis=1)\n",
    "    # give it a column name\n",
    "    ftr_value_cnt_concat.columns = ['Count', 'Frequency (%)']\n",
    "    #return the dataframe\n",
    "    return ftr_value_cnt_concat"
   ]
  },
  {
   "cell_type": "markdown",
   "id": "0693166a",
   "metadata": {},
   "source": [
    "```gen_info_feat``` returned the description, the datatype, statistics, the value counts and frequencies\n",
    "\n",
    "Note: I have used the switch statement to handle features differently depending on their data type and characteristics, for example age was divided by 365.25 and changed to a positive values because it was expressed in days instead of years. Same as employment length however we did not print the value count for account age."
   ]
  },
  {
   "cell_type": "code",
   "execution_count": 54,
   "id": "a25f8e70",
   "metadata": {},
   "outputs": [],
   "source": [
    "def gen_info_feat(df,feature):\n",
    "    '''function to display general information about the feature'''\n",
    "    match feature:\n",
    "        # if the feature is Age\n",
    "        case 'Age':\n",
    "            # change the feature to be express in positive numbers days and divide to days by 365.25 to be expressed in years and get the description\n",
    "            print('Description:\\n{}'.format((np.abs(df[feature])/365.25).describe()))\n",
    "            # print separators\n",
    "            print('*'*50)\n",
    "            # print the datatype\n",
    "            print('Object type:{}'.format(df[feature].dtype))\n",
    "        # if the feature is employment length\n",
    "        case 'Employment length':\n",
    "            # select only the rows where the rows are negative to ignore those who have retired or unemployed\n",
    "            employment_len_no_ret = cc_train_copy['Employment length'][cc_train_copy['Employment length'] < 0]\n",
    "            # change the negative values to positive values\n",
    "            employment_len_no_ret_yrs = np.abs(employment_len_no_ret)/365.25\n",
    "            # print the descriptions\n",
    "            print('Description:\\n{}'.format((employment_len_no_ret_yrs).describe()))\n",
    "            # print separators\n",
    "            print('*'*50)\n",
    "            # print the datatype\n",
    "            print('Object type:{}'.format(employment_len_no_ret.dtype))\n",
    "        # if the feature is account age\n",
    "        case 'Account age':\n",
    "            # change the account age to a positive number of months and get the description\n",
    "            print('Description:\\n{}'.format((np.abs(df[feature])).describe()))\n",
    "            # print separators\n",
    "            print('*'*50)\n",
    "            # print the datatype\n",
    "            print('Object type:{}'.format(df[feature].dtype))\n",
    "        # if it is any other feature\n",
    "        case _:\n",
    "            # get the description\n",
    "            print('Description:\\n{}'.format(df[feature].describe()))\n",
    "            # print separators\n",
    "            print('*'*50)\n",
    "            # print the datatype\n",
    "            print('Object type:\\n{}'.format(df[feature].dtype))\n",
    "            # print separators\n",
    "            print('*'*50)\n",
    "            # calling the value_cnt_norm_cal function previously seen\n",
    "            value_cnt = value_cnt_norm_cal(df,feature)\n",
    "            #print the result\n",
    "            print('Value count:\\n{}'.format(value_cnt))\n"
   ]
  },
  {
   "cell_type": "markdown",
   "id": "49543582",
   "metadata": {},
   "source": [
    "The following function print a pie chart."
   ]
  },
  {
   "cell_type": "code",
   "execution_count": 55,
   "id": "399707b3",
   "metadata": {},
   "outputs": [],
   "source": [
    "def create_pie_plot(df,feature):\n",
    "    '''function to create a pie chart plot'''\n",
    "    match feature:\n",
    "        # if the feature is dwelling or education level\n",
    "        case 'Dwelling' | 'Education level':\n",
    "            # calling the value_cnt_norm_cal function previously seen\n",
    "            ratio_size = value_cnt_norm_cal(df, feature)\n",
    "            # get how many classes do we have\n",
    "            ratio_size_len = len(ratio_size.index)\n",
    "            ratio_list = []\n",
    "            # loop till the max range\n",
    "            for i in range(ratio_size_len):\n",
    "                #append the ration of each feature to the list\n",
    "                ratio_list.append(ratio_size.iloc[i]['Frequency (%)'])\n",
    "            #create a subplot\n",
    "            fig, ax = plt.subplots(figsize=(8,8))\n",
    "            # %1.2f%% display decimals in the pie chart with 2 decimal places\n",
    "            plt.pie(ratio_list, startangle=90, wedgeprops={'edgecolor' :'black'})\n",
    "            # add a title to the chart\n",
    "            plt.title('Pie chart of {}'.format(feature))\n",
    "            # add a legend to the chart\n",
    "            plt.legend(loc='best',labels=ratio_size.index)\n",
    "            # center the plot in the subplot\n",
    "            plt.axis('equal')\n",
    "            # return the plot\n",
    "            return plt.show()\n",
    "        # for other features\n",
    "        case _:\n",
    "            ratio_size = value_cnt_norm_cal(df, feature)\n",
    "            ratio_size_len = len(ratio_size.index)\n",
    "            ratio_list = []\n",
    "            for i in range(ratio_size_len):\n",
    "                ratio_list.append(ratio_size.iloc[i]['Frequency (%)'])\n",
    "            fig, ax = plt.subplots(figsize=(8,8))\n",
    "            # %1.2f%% display decimals in the pie chart with 2 decimal places\n",
    "            plt.pie(ratio_list, labels=ratio_size.index, autopct='%1.2f%%', startangle=90, wedgeprops={'edgecolor' :'black'})\n",
    "            plt.title('Pie chart of {}'.format(feature))\n",
    "            plt.legend(loc='best')\n",
    "            plt.axis('equal')\n",
    "            return plt.show()"
   ]
  },
  {
   "cell_type": "markdown",
   "id": "e851ac9f",
   "metadata": {},
   "source": [
    "The next function create a barplot"
   ]
  },
  {
   "cell_type": "code",
   "execution_count": null,
   "id": "4dff4698",
   "metadata": {},
   "outputs": [],
   "source": [
    "def create_bar_plot(df,feature):\n",
    "    '''function to create a bar chart plot'''\n",
    "    match feature:\n",
    "        case 'Marital status' | 'Dwelling' | 'Job title' | 'Employment status' | 'Education level':\n",
    "            fig, ax = plt.subplots(figsize=(6,10))\n",
    "            # create a barplot using seabor with X axis the indexes from value_cnt_norm_cal function and Y axis we use the value counts from the same function\n",
    "            sns.barplot(x=value_cnt_norm_cal(df,feature).index,y=value_cnt_norm_cal(df,feature).values[:,0])\n",
    "            # set the plot's tick labels to the index from value_cnt_norm_cal function, rotate those ticks by 45 degrees\n",
    "            ax.set_xticklabels(labels=value_cnt_norm_cal(df,feature).index,rotation=45,ha='right')\n",
    "            # Give the X axis the same label as the feature name\n",
    "            plt.xlabel('{}'.format(feature))\n",
    "            # Give the Y axis the label \"Count\"\n",
    "            plt.ylabel('Count')\n",
    "            # Give the plot a title\n",
    "            plt.title('{} count'.format(feature))\n",
    "            # Return the title\n",
    "            return plt.show()\n",
    "        case _:\n",
    "            fig, ax = plt.subplots(figsize=(6,10))\n",
    "            sns.barplot(x=value_cnt_norm_cal(df,feature).index,y=value_cnt_norm_cal(df,feature).values[:,0])\n",
    "            plt.xlabel('{}'.format(feature))\n",
    "            plt.ylabel('Count')\n",
    "            plt.title('{} count'.format(feature))\n",
    "            return plt.show()"
   ]
  },
  {
   "cell_type": "markdown",
   "id": "f1da68e2",
   "metadata": {},
   "source": [
    "This function will create a box plot for continues variables\n",
    "\n",
    "\n",
    "Note: Depending on which transformation need to be done on each feature, we have used a switch statement to handle the different feature that requires different handling."
   ]
  },
  {
   "cell_type": "code",
   "execution_count": null,
   "id": "01eb3f99",
   "metadata": {},
   "outputs": [],
   "source": [
    "def create_box_plot(df,feature):\n",
    "    '''function to create a box plot'''\n",
    "    match feature:\n",
    "        case 'Age':\n",
    "            fig, ax = plt.subplots(figsize=(2,8))\n",
    "            # change the feature to be express in positive numbers days\n",
    "            sns.boxplot(y=np.abs(df[feature])/365.25)\n",
    "            plt.title('{} distribution(Boxplot)'.format(feature))\n",
    "            return plt.show()\n",
    "        case 'Children count':\n",
    "            fig, ax = plt.subplots(figsize=(2,8))\n",
    "            sns.boxplot(y=df[feature])\n",
    "            plt.title('{} distribution(Boxplot)'.format(feature))\n",
    "            # use the numpy arange to populate the Y ticks starting from 0, till the max count of children with interval of 1 as follow np.arange(start, stop, step)\n",
    "            plt.yticks(np.arange(0,df[feature].max(),1))\n",
    "            return plt.show()\n",
    "        case 'Employment length':\n",
    "            fig, ax = plt.subplots(figsize=(2,8))\n",
    "            employment_len_no_ret = cc_train_copy['Employment length'][cc_train_copy['Employment length'] < 0]\n",
    "            # employment length in days is a negative number so we need to change it to positive and change it to years\n",
    "            employment_len_no_ret_yrs = np.abs(employment_len_no_ret)/365.25\n",
    "            # create a boxplot with seaborn\n",
    "            sns.boxplot(y=employment_len_no_ret_yrs)\n",
    "            plt.title('{} distribution(Boxplot)'.format(feature))\n",
    "            plt.yticks(np.arange(0,employment_len_no_ret_yrs.max(),2))\n",
    "            return plt.show()\n",
    "        case 'Income':\n",
    "            fig, ax = plt.subplots(figsize=(2,8))\n",
    "            sns.boxplot(y=df[feature])\n",
    "            plt.title('{} distribution(Boxplot)'.format(feature))\n",
    "            # suppress the scientific notation\n",
    "            ax.get_yaxis().set_major_formatter(\n",
    "                matplotlib.ticker.FuncFormatter(lambda x, p: format(int(x), ',')))\n",
    "            return plt.show()\n",
    "        case 'Account age':\n",
    "            fig, ax = plt.subplots(figsize=(2,8))\n",
    "            sns.boxplot(y=np.abs(df[feature]))\n",
    "            plt.title('{} distribution(Boxplot)'.format(feature))\n",
    "            return plt.show()\n",
    "        case _:\n",
    "            fig, ax = plt.subplots(figsize=(2,8))\n",
    "            sns.boxplot(y=df[feature])\n",
    "            plt.title('{} distribution(Boxplot)'.format(feature))\n",
    "            return plt.show()"
   ]
  },
  {
   "cell_type": "markdown",
   "id": "af9b0917",
   "metadata": {},
   "source": [
    "This function will plot a histogram."
   ]
  },
  {
   "cell_type": "code",
   "execution_count": 62,
   "id": "bb7c51a0",
   "metadata": {},
   "outputs": [],
   "source": [
    "def create_hist_plot(df,feature, the_bins=50):\n",
    "    '''function to create a histogram plot'''\n",
    "    match feature:\n",
    "        case 'Age':\n",
    "            fig, ax = plt.subplots(figsize=(18,10))\n",
    "            # change the feature to be express in positive numbers days\n",
    "            sns.histplot(np.abs(df[feature])/365.25,bins=the_bins,kde=True)\n",
    "            plt.title('{} distribution'.format(feature))\n",
    "            return plt.show()\n",
    "        case 'Income':\n",
    "            fig, ax = plt.subplots(figsize=(18,10))\n",
    "            sns.histplot(df[feature],bins=the_bins,kde=True)\n",
    "            # suppress scientific notation\n",
    "            ax.get_xaxis().set_major_formatter(\n",
    "                matplotlib.ticker.FuncFormatter(lambda x, p: format(int(x), ',')))\n",
    "            plt.title('{} distribution'.format(feature))\n",
    "            return plt.show()\n",
    "        case 'Employment length':\n",
    "            employment_len_no_ret = cc_train_copy['Employment length'][cc_train_copy['Employment length'] < 0]\n",
    "            # change the feature to be express in positive numbers days\n",
    "            employment_len_no_ret_yrs = np.abs(employment_len_no_ret)/365.25\n",
    "            fig, ax = plt.subplots(figsize=(18,10))\n",
    "            sns.histplot(employment_len_no_ret_yrs,bins=the_bins,kde=True)\n",
    "            plt.title('{} distribution'.format(feature))\n",
    "            return plt.show()\n",
    "        case 'Account age':\n",
    "            fig, ax = plt.subplots(figsize=(18,10))\n",
    "            sns.histplot(np.abs(df[feature]),bins=the_bins,kde=True)\n",
    "            plt.title('{} distribution'.format(feature))\n",
    "            return plt.show()\n",
    "        case _:\n",
    "            fig, ax = plt.subplots(figsize=(18,10))\n",
    "            sns.histplot(df[feature],bins=the_bins,kde=True)\n",
    "            plt.title('{} distribution'.format(feature))\n",
    "            return plt.show()"
   ]
  },
  {
   "cell_type": "markdown",
   "id": "da26ae60",
   "metadata": {},
   "source": [
    "This function will plot two box plots, one is for low risk(good client) and the other is for high risk(bad client) applicants. On the Y axis, we have the continuous features we are studying. Again don't worry too much as we will see these functions in action in sections below."
   ]
  },
  {
   "cell_type": "code",
   "execution_count": 68,
   "id": "6e1d62e1",
   "metadata": {},
   "outputs": [
    {
     "name": "stdout",
     "output_type": "stream",
     "text": [
      "Is high risk\n",
      "0    7.290112\n",
      "1    5.750701\n",
      "Name: Employment length, dtype: float64\n"
     ]
    },
    {
     "data": {
      "image/png": "[encoded data removed]",
      "text/plain": [
       "<Figure size 360x576 with 1 Axes>"
      ]
     },
     "metadata": {
      "needs_background": "light"
     },
     "output_type": "display_data"
    }
   ],
   "source": [
    "low_high_risk_box_plot(cc_train_copy,'Employment length')"
   ]
  },
  {
   "cell_type": "code",
   "execution_count": 67,
   "id": "b722a0e3",
   "metadata": {},
   "outputs": [],
   "source": [
    "def low_high_risk_box_plot(df,feature):\n",
    "    '''High risk vs low risk applicants compared on a box plot'''\n",
    "    match feature:\n",
    "        case 'Age':\n",
    "            print(np.abs(df.groupby('Is high risk')[feature].mean()/365.25))\n",
    "            fig, ax = plt.subplots(figsize=(5,8))\n",
    "            # Place on the Y axis age and X axis the two box plot (is high risk: No and Yes)\n",
    "            sns.boxplot(y=np.abs(df[feature])/365.25,x=df['Is high risk'])\n",
    "            # add ticks to the X axis\n",
    "            plt.xticks(ticks=[0,1],labels=['no','yes'])\n",
    "            plt.title('High risk individuals grouped by age')\n",
    "            return plt.show()\n",
    "        case 'Income':\n",
    "            print(np.abs(df.groupby('Is high risk')[feature].mean()))\n",
    "            fig, ax = plt.subplots(figsize=(5,8))\n",
    "            sns.boxplot(y=np.abs(df[feature]),x=df['Is high risk'])\n",
    "            plt.xticks(ticks=[0,1],labels=['no','yes'])\n",
    "            # suppress the scientific notation\n",
    "            ax.get_yaxis().set_major_formatter(\n",
    "                matplotlib.ticker.FuncFormatter(lambda x, p: format(int(x), ',')))\n",
    "            plt.title('High risk individuals grouped by {}'.format(feature))\n",
    "            return plt.show()\n",
    "        case 'Employment length':\n",
    "            #checking is an applicant is high risk or not (for those who have negative employment length mean only those who employed)\n",
    "            employment_no_ret = cc_train_copy['Employment length'][cc_train_copy['Employment length'] <0]\n",
    "            employment_no_ret_idx = employment_no_ret.index\n",
    "            employment_len_no_ret_yrs = np.abs(employment_no_ret)/365.25\n",
    "            #extract those who are employed from the original dataframe and return only the employment length and Is high risk columns\n",
    "            employment_no_ret_df = cc_train_copy.iloc[employment_no_ret_idx][['Employment length','Is high risk']]\n",
    "            #return the mean employment length group by how risky is the applicant\n",
    "            employment_no_ret_is_high_risk = employment_no_ret_df.groupby('Is high risk')['Employment length'].mean()\n",
    "            print(np.abs(employment_no_ret_is_high_risk)/365.25)\n",
    "            fig, ax = plt.subplots(figsize=(5,8))\n",
    "            sns.boxplot(y=employment_len_no_ret_yrs,x=df['Is high risk'])\n",
    "            plt.xticks(ticks=[0,1],labels=['no','yes'])\n",
    "            plt.title('High vs low risk individuals grouped by {}'.format(feature))\n",
    "            return plt.show()\n",
    "        case _:\n",
    "            print(np.abs(df.groupby('Is high risk')[feature].mean()))\n",
    "            fig, ax = plt.subplots(figsize=(5,8))\n",
    "            sns.boxplot(y=np.abs(df[feature]),x=df['Is high risk'])\n",
    "            plt.xticks(ticks=[0,1],labels=['no','yes'])\n",
    "            plt.title('High risk individuals grouped by {}'.format(feature))\n",
    "            return plt.show()"
   ]
  },
  {
   "cell_type": "markdown",
   "id": "58a95bab",
   "metadata": {},
   "source": [
    "This function is similar to the previous one, the only difference is that it uses a bar plot which is a count of classes for comparison purposes between high risk and low risk"
   ]
  },
  {
   "cell_type": "code",
   "execution_count": 70,
   "id": "36377592",
   "metadata": {},
   "outputs": [
    {
     "name": "stdout",
     "output_type": "stream",
     "text": [
      "{'Married': 320, 'Single / not married': 87, 'Civil marriage': 34, 'Widow': 34, 'Separated': 24}\n"
     ]
    },
    {
     "data": {
      "image/png": "[encoded data removed]",
      "text/plain": [
       "<Figure size 432x720 with 1 Axes>"
      ]
     },
     "metadata": {
      "needs_background": "light"
     },
     "output_type": "display_data"
    }
   ],
   "source": [
    "low_high_risk_bar_plot(cc_train_copy,'Marital status')"
   ]
  },
  {
   "cell_type": "code",
   "execution_count": 71,
   "id": "7ce57246",
   "metadata": {},
   "outputs": [],
   "source": [
    "def low_high_risk_bar_plot(df,feature):\n",
    "    '''High risk vs low risk applicants compared on a bar plot'''\n",
    "    # get the sum of high risk client grouped by a specific feature\n",
    "    is_high_risk_grp = df.groupby(feature)['Is high risk'].sum()\n",
    "    # sort is a descending order\n",
    "    is_high_risk_grp_srt = is_high_risk_grp.sort_values(ascending=False)\n",
    "    print(dict(is_high_risk_grp_srt))\n",
    "    fig, ax = plt.subplots(figsize=(6,10))\n",
    "    # plot on the X axis the indexes which correspond to classes and on the Y axis the count\n",
    "    sns.barplot(x=is_high_risk_grp_srt.index,y=is_high_risk_grp_srt.values)\n",
    "    # add the labels to the plot\n",
    "    ax.set_xticklabels(labels=is_high_risk_grp_srt.index,rotation=45, ha='right')\n",
    "    plt.ylabel('Count')\n",
    "    plt.title('High risk applicants count grouped by {}'.format(feature))\n",
    "    return plt.show()"
   ]
  },
  {
   "cell_type": "markdown",
   "id": "f623fb99",
   "metadata": {},
   "source": [
    "Now let's properly start our exploratory data analysis with univariate analysis. Univariate analysis is an analysis of each feature individually in the dataset."
   ]
  },
  {
   "cell_type": "markdown",
   "id": "2399c72c",
   "metadata": {},
   "source": [
    "### Univariate analysis"
   ]
  },
  {
   "cell_type": "markdown",
   "id": "c81ce011",
   "metadata": {},
   "source": [
    "### Gender"
   ]
  },
  {
   "cell_type": "markdown",
   "id": "a192aab1",
   "metadata": {
    "id": "a192aab1"
   },
   "source": [
    "We start with the ```Gender```, we get the name information about the gender. We can see that we have two unique values ```F``` (for female) and ```M``` (for male) with 19549 and 9616 occurrences respectively. We can also see that this counts represent 67.02% for ```F``` and 32.97% for ```M```."
   ]
  },
  {
   "cell_type": "code",
   "execution_count": null,
   "id": "579a96d1",
   "metadata": {
    "colab": {
     "base_uri": "https://localhost:8080/"
    },
    "id": "579a96d1",
    "outputId": "e6c0e80f-38f9-4309-b435-9b821a159000"
   },
   "outputs": [],
   "source": [
    "gen_info_feat(cc_train_copy,'Gender')"
   ]
  },
  {
   "cell_type": "code",
   "execution_count": null,
   "id": "e7e5a3d7",
   "metadata": {},
   "outputs": [],
   "source": [
    "create_bar_plot(cc_train_copy,'Gender')"
   ]
  },
  {
   "cell_type": "code",
   "execution_count": null,
   "id": "69982c46",
   "metadata": {},
   "outputs": [],
   "source": [
    "create_pie_plot(cc_train_copy,'Gender')"
   ]
  },
  {
   "cell_type": "markdown",
   "id": "8f2f7b77",
   "metadata": {},
   "source": [
    "### Age"
   ]
  },
  {
   "cell_type": "markdown",
   "id": "8c23e10e",
   "metadata": {
    "id": "8c23e10e"
   },
   "source": [
    "Now let's look at ```Age```, since age is a continous feature we will process it differently than ```Gender```. We first start by looking at the mean, standard deviation minimum, maximum and interquartile range. Then we plot those information on a box plot by calling ```create_box_plot``` function. With that, we can see that the youngest applicant is 21 years old while the oldest is 68 years old. with the average of 43.7 and median of 42.6(outliers insensitive)"
   ]
  },
  {
   "cell_type": "code",
   "execution_count": 60,
   "id": "96236415",
   "metadata": {},
   "outputs": [
    {
     "name": "stdout",
     "output_type": "stream",
     "text": [
      "Description:\n",
      "count    29165.000000\n",
      "mean        43.749425\n",
      "std         11.507180\n",
      "min         21.095140\n",
      "25%         34.154689\n",
      "50%         42.614648\n",
      "75%         53.234771\n",
      "max         68.862423\n",
      "Name: Age, dtype: float64\n",
      "**************************************************\n",
      "Object type:int64\n"
     ]
    }
   ],
   "source": [
    "gen_info_feat(cc_train_copy,'Age')"
   ]
  },
  {
   "cell_type": "code",
   "execution_count": 61,
   "id": "927742c9",
   "metadata": {},
   "outputs": [
    {
     "ename": "NameError",
     "evalue": "name 'create_box_plot' is not defined",
     "output_type": "error",
     "traceback": [
      "\u001b[0;31m---------------------------------------------------------------------------\u001b[0m",
      "\u001b[0;31mNameError\u001b[0m                                 Traceback (most recent call last)",
      "\u001b[1;32m/Users/sternsemasuka/Desktop/blog/ipynb/Credit card approval prediction.ipynb Cell 85\u001b[0m in \u001b[0;36m<module>\u001b[0;34m\u001b[0m\n\u001b[0;32m----> <a href='vscode-notebook-cell:/Users/sternsemasuka/Desktop/blog/ipynb/Credit%20card%20approval%20prediction.ipynb#Y136sZmlsZQ%3D%3D?line=0'>1</a>\u001b[0m create_box_plot(cc_train_copy,\u001b[39m'\u001b[39m\u001b[39mAge\u001b[39m\u001b[39m'\u001b[39m)\n",
      "\u001b[0;31mNameError\u001b[0m: name 'create_box_plot' is not defined"
     ]
    }
   ],
   "source": [
    "create_box_plot(cc_train_copy,'Age')"
   ]
  },
  {
   "cell_type": "markdown",
   "id": "63c835f0",
   "metadata": {},
   "source": [
    "After that, we plot its histogram with the kernel density estimator. Age feature is not normally distributed, it is slightly positively skewed."
   ]
  },
  {
   "cell_type": "code",
   "execution_count": 63,
   "id": "330ea2d2",
   "metadata": {
    "id": "330ea2d2",
    "outputId": "6cdc63ea-0af2-4580-aa11-9928c5443818"
   },
   "outputs": [
    {
     "data": {
      "image/png": "[encoded data removed]",
      "text/plain": [
       "<Figure size 1296x720 with 1 Axes>"
      ]
     },
     "metadata": {
      "needs_background": "light"
     },
     "output_type": "display_data"
    }
   ],
   "source": [
    "create_hist_plot(cc_train_copy,'Age')"
   ]
  },
  {
   "cell_type": "markdown",
   "id": "ae13d8ab",
   "metadata": {},
   "source": [
    "Now we perform a quick bivariate analysis of ```Age``` and the target variable ```Is high risk```. The blue box plot represents good client(is high risk = No) and the green box plot represents bad client(is high risk = Yes). We can see that there is no significant difference between the age of those who are high risk and those who are not. It seems like the median age for both groups is around 43 years old. This mean that there is no correlation between the age and the class in the target variable."
   ]
  },
  {
   "cell_type": "code",
   "execution_count": 66,
   "id": "6a66e5ac",
   "metadata": {
    "colab": {
     "base_uri": "https://localhost:8080/",
     "height": 294
    },
    "id": "6a66e5ac",
    "outputId": "b20f3c79-fa32-40bc-f0b9-2e4e49c7e59b",
    "scrolled": true
   },
   "outputs": [
    {
     "name": "stdout",
     "output_type": "stream",
     "text": [
      "Is high risk\n",
      "0    43.753103\n",
      "1    43.538148\n",
      "Name: Age, dtype: float64\n"
     ]
    },
    {
     "data": {
      "image/png": "[encoded data removed]",
      "text/plain": [
       "<Figure size 360x576 with 1 Axes>"
      ]
     },
     "metadata": {
      "needs_background": "light"
     },
     "output_type": "display_data"
    }
   ],
   "source": [
    "low_high_risk_box_plot(cc_train_copy,'Age')"
   ]
  },
  {
   "cell_type": "markdown",
   "id": "cb462915",
   "metadata": {
    "id": "cb462915"
   },
   "source": [
    "### Marital status"
   ]
  },
  {
   "cell_type": "markdown",
   "id": "3b3a4c11",
   "metadata": {},
   "source": [
    "The information that we gather from ```Marital status``` is that there are 5 unique classes for this feature. Married constitutes the largest proportion of marital status with 68% far ahead from Single. This is clearly seen on the pie and bar chart. Another interesting observation is that even though we have a higher number of applicants who are separated than those who are widow, it seems like widow applicants are high risk than those who are separated by a small margin."
   ]
  },
  {
   "cell_type": "code",
   "execution_count": null,
   "id": "db69f3c4",
   "metadata": {},
   "outputs": [],
   "source": [
    "gen_info_feat(cc_train_copy,'Marital status')"
   ]
  },
  {
   "cell_type": "code",
   "execution_count": null,
   "id": "f6732bdc",
   "metadata": {},
   "outputs": [],
   "source": [
    "create_pie_plot(cc_train_copy,'Marital status')"
   ]
  },
  {
   "cell_type": "code",
   "execution_count": null,
   "id": "6250932d",
   "metadata": {},
   "outputs": [],
   "source": [
    "create_bar_plot(cc_train_copy,'Marital status')"
   ]
  },
  {
   "cell_type": "code",
   "execution_count": null,
   "id": "39587a19",
   "metadata": {
    "colab": {
     "base_uri": "https://localhost:8080/"
    },
    "id": "39587a19",
    "outputId": "3fb1f38d-bb38-4adc-e619-e5c00691288a"
   },
   "outputs": [],
   "source": [
    "low_high_risk_bar_plot(cc_train_copy,'Marital status')"
   ]
  },
  {
   "cell_type": "markdown",
   "id": "79a21789",
   "metadata": {
    "id": "79a21789"
   },
   "source": [
    "### Family member count"
   ]
  },
  {
   "cell_type": "markdown",
   "id": "e4785a3d",
   "metadata": {},
   "source": [
    "Family member count is numerical, with the median of 2 family member which equals to 53% of all the counts follow by a single family member with 19% of all the counts. We also have 6 outliers, 2 of them are extreme with 20 and 15 members in their household\n",
    ". wow!"
   ]
  },
  {
   "cell_type": "code",
   "execution_count": null,
   "id": "40a70321",
   "metadata": {},
   "outputs": [],
   "source": [
    "gen_info_feat(cc_train_copy,'Family member count')"
   ]
  },
  {
   "cell_type": "code",
   "execution_count": null,
   "id": "5826626d",
   "metadata": {},
   "outputs": [],
   "source": [
    "create_box_plot(cc_train_copy,'Family member count')"
   ]
  },
  {
   "cell_type": "code",
   "execution_count": null,
   "id": "3f4b1655",
   "metadata": {},
   "outputs": [],
   "source": [
    "create_bar_plot(cc_train_copy,'Family member count')"
   ]
  },
  {
   "cell_type": "markdown",
   "id": "8255ed45",
   "metadata": {
    "id": "8255ed45"
   },
   "source": [
    "### Children count"
   ]
  },
  {
   "cell_type": "markdown",
   "id": "912fc557",
   "metadata": {},
   "source": [
    "From the chart below, we can clearly see that most applicants don't have children hence most of them are a couple. Again, we also have 6 outliers, probably the same seen from the family member count\n"
   ]
  },
  {
   "cell_type": "code",
   "execution_count": null,
   "id": "dccff033",
   "metadata": {},
   "outputs": [],
   "source": [
    "gen_info_feat(cc_train_copy,'Children count')"
   ]
  },
  {
   "cell_type": "code",
   "execution_count": null,
   "id": "fb82df7b",
   "metadata": {},
   "outputs": [],
   "source": [
    "create_box_plot(cc_train_copy,'Children count')"
   ]
  },
  {
   "cell_type": "code",
   "execution_count": null,
   "id": "4937a1e3",
   "metadata": {},
   "outputs": [],
   "source": [
    "create_bar_plot(cc_train_copy,'Children count')"
   ]
  },
  {
   "cell_type": "markdown",
   "id": "5f676d23",
   "metadata": {
    "id": "5f676d23"
   },
   "source": [
    "### Dwelling type"
   ]
  },
  {
   "cell_type": "markdown",
   "id": "491b8cd7",
   "metadata": {},
   "source": [
    "Most applicant live in houses/apartments by a very large margin."
   ]
  },
  {
   "cell_type": "code",
   "execution_count": null,
   "id": "6f7e7cc0",
   "metadata": {},
   "outputs": [],
   "source": [
    "gen_info_feat(cc_train_copy,'Dwelling')"
   ]
  },
  {
   "cell_type": "code",
   "execution_count": null,
   "id": "57d09850",
   "metadata": {},
   "outputs": [],
   "source": [
    "create_pie_plot(cc_train_copy,'Dwelling')"
   ]
  },
  {
   "cell_type": "code",
   "execution_count": null,
   "id": "184bca5d",
   "metadata": {},
   "outputs": [],
   "source": [
    "create_bar_plot(cc_train_copy,'Dwelling')"
   ]
  },
  {
   "cell_type": "markdown",
   "id": "6d0022c0",
   "metadata": {
    "id": "6d0022c0"
   },
   "source": [
    "### Income"
   ]
  },
  {
   "cell_type": "markdown",
   "id": "ba6a0464",
   "metadata": {},
   "source": [
    "Looking at the description, we can see that the average income is 186890 but this amount factors in outliers(mean). If we ignore the outlier most people make 157500 (median). We have 3 applicants who makes more than 1000000.\n",
    "\n",
    "This feature is also positively skewed. Now focusing on the two box plot, the high risk and low risk applicants have roughly similar income.\n"
   ]
  },
  {
   "cell_type": "code",
   "execution_count": null,
   "id": "9969a488",
   "metadata": {},
   "outputs": [],
   "source": [
    "pd.set_option('display.float_format', lambda x: '%.2f' % x)\n",
    "gen_info_feat(cc_train_copy,'Income')"
   ]
  },
  {
   "cell_type": "code",
   "execution_count": null,
   "id": "eaf87d1c",
   "metadata": {},
   "outputs": [],
   "source": [
    "create_box_plot(cc_train_copy,'Income')"
   ]
  },
  {
   "cell_type": "code",
   "execution_count": null,
   "id": "68155550",
   "metadata": {},
   "outputs": [],
   "source": [
    "create_hist_plot(cc_train_copy,'Income')"
   ]
  },
  {
   "cell_type": "markdown",
   "id": "c9c65285",
   "metadata": {},
   "source": [
    "* bivariate analysis with target variable"
   ]
  },
  {
   "cell_type": "code",
   "execution_count": null,
   "id": "bc275de5",
   "metadata": {},
   "outputs": [],
   "source": [
    "low_high_risk_box_plot(cc_train_copy,'Income')"
   ]
  },
  {
   "cell_type": "markdown",
   "id": "9530b925",
   "metadata": {
    "id": "9530b925"
   },
   "source": [
    "### Job title"
   ]
  },
  {
   "cell_type": "markdown",
   "id": "e8e63bc4",
   "metadata": {},
   "source": [
    "The most common Job title is laborers by far, followed by core staff, sales staff and managers. We have 30.95% of missing data."
   ]
  },
  {
   "cell_type": "code",
   "execution_count": null,
   "id": "2fd92861",
   "metadata": {
    "colab": {
     "base_uri": "https://localhost:8080/"
    },
    "id": "2fd92861",
    "outputId": "cf041d66-374e-47c1-cca5-238e30295c21"
   },
   "outputs": [],
   "source": [
    "gen_info_feat(cc_train_copy,'Job title')"
   ]
  },
  {
   "cell_type": "code",
   "execution_count": null,
   "id": "a08dd90c",
   "metadata": {},
   "outputs": [],
   "source": [
    "job_title_nan_count = cc_train_copy['Job title'].isna().sum()\n",
    "job_title_nan_count"
   ]
  },
  {
   "cell_type": "code",
   "execution_count": null,
   "id": "0f1636d8",
   "metadata": {},
   "outputs": [],
   "source": [
    "rows_total_count = cc_train_copy.shape[0]"
   ]
  },
  {
   "cell_type": "code",
   "execution_count": null,
   "id": "1bc2e764",
   "metadata": {},
   "outputs": [],
   "source": [
    "print('The percentage of missing rows is {:.2f} %'.format(job_title_nan_count * 100 / rows_total_count))"
   ]
  },
  {
   "cell_type": "code",
   "execution_count": null,
   "id": "8796baeb",
   "metadata": {},
   "outputs": [],
   "source": [
    "create_bar_plot(cc_train_copy,'Job title')"
   ]
  },
  {
   "cell_type": "markdown",
   "id": "88b67bdf",
   "metadata": {
    "id": "88b67bdf"
   },
   "source": [
    "### Employment status"
   ]
  },
  {
   "cell_type": "markdown",
   "id": "a8ac2c42",
   "metadata": {},
   "source": [
    "More than half of applicants are working (51.62%), next most represented status is commercial associate followed by pensioner."
   ]
  },
  {
   "cell_type": "code",
   "execution_count": null,
   "id": "c282165d",
   "metadata": {},
   "outputs": [],
   "source": [
    "gen_info_feat(cc_train_copy,'Employment status')"
   ]
  },
  {
   "cell_type": "code",
   "execution_count": null,
   "id": "15dce8ba",
   "metadata": {},
   "outputs": [],
   "source": [
    "create_bar_plot(cc_train_copy,'Employment status')"
   ]
  },
  {
   "cell_type": "code",
   "execution_count": null,
   "id": "6ff0c3d3",
   "metadata": {},
   "outputs": [],
   "source": [
    "create_pie_plot(cc_train_copy,'Employment status')"
   ]
  },
  {
   "cell_type": "markdown",
   "id": "0bef4551",
   "metadata": {
    "id": "0bef4551"
   },
   "source": [
    "### Education level"
   ]
  },
  {
   "cell_type": "markdown",
   "id": "d431a851",
   "metadata": {},
   "source": [
    "The majority of applicants have completed their secondary degree, ¼ completed their higher education.\n"
   ]
  },
  {
   "cell_type": "code",
   "execution_count": null,
   "id": "e1602108",
   "metadata": {
    "colab": {
     "base_uri": "https://localhost:8080/"
    },
    "id": "e1602108",
    "outputId": "cc712302-2785-4db1-aab5-035303c9abcd"
   },
   "outputs": [],
   "source": [
    "gen_info_feat(cc_train_copy,'Education level')"
   ]
  },
  {
   "cell_type": "code",
   "execution_count": null,
   "id": "a6d0811c",
   "metadata": {},
   "outputs": [],
   "source": [
    "create_pie_plot(cc_train_copy,'Education level')"
   ]
  },
  {
   "cell_type": "code",
   "execution_count": null,
   "id": "48eae247",
   "metadata": {},
   "outputs": [],
   "source": [
    "create_bar_plot(cc_train_copy,'Education level')"
   ]
  },
  {
   "cell_type": "markdown",
   "id": "3641315f",
   "metadata": {
    "id": "3641315f"
   },
   "source": [
    "### Employment length"
   ]
  },
  {
   "cell_type": "markdown",
   "id": "0e467a1b",
   "metadata": {},
   "source": [
    "Most of applicant have been working between 5 to 7 years on average. We also have quite a number of outliers who have been working for more than 20 years+. The employment length histogram is positively skewed. Finally, those who are high risk have a low employment length of 5 versus 7 years for the low risk.\n"
   ]
  },
  {
   "cell_type": "code",
   "execution_count": null,
   "id": "6dcf7284",
   "metadata": {},
   "outputs": [],
   "source": [
    "Most of applicants have a me"
   ]
  },
  {
   "cell_type": "code",
   "execution_count": null,
   "id": "ecfd67f5",
   "metadata": {},
   "outputs": [],
   "source": [
    "gen_info_feat(cc_train_copy,'Employment length')"
   ]
  },
  {
   "cell_type": "code",
   "execution_count": null,
   "id": "24c635ad",
   "metadata": {},
   "outputs": [],
   "source": [
    "create_box_plot(cc_train_copy,'Employment length')"
   ]
  },
  {
   "cell_type": "code",
   "execution_count": null,
   "id": "b1d6be7e",
   "metadata": {},
   "outputs": [],
   "source": [
    "create_hist_plot(cc_train_copy,'Employment length')"
   ]
  },
  {
   "cell_type": "markdown",
   "id": "fc141c87",
   "metadata": {},
   "source": [
    "* bivariate analysis with target variable"
   ]
  },
  {
   "cell_type": "code",
   "execution_count": null,
   "id": "004ffa03",
   "metadata": {},
   "outputs": [],
   "source": [
    "# distribution of employment length for high vs low risk applicants\n",
    "# Here 0 means No and 1 means Yes\n",
    "low_high_risk_box_plot(cc_train_copy,'Employment length')"
   ]
  },
  {
   "cell_type": "markdown",
   "id": "ea91a4b6",
   "metadata": {
    "id": "ea91a4b6"
   },
   "source": [
    "### Has a car"
   ]
  },
  {
   "cell_type": "markdown",
   "id": "8543a6cb",
   "metadata": {},
   "source": [
    "Most applicants don't own a car (62% of applicants)."
   ]
  },
  {
   "cell_type": "code",
   "execution_count": null,
   "id": "32107b45",
   "metadata": {},
   "outputs": [],
   "source": [
    "gen_info_feat(cc_train_copy,'Has a car')"
   ]
  },
  {
   "cell_type": "code",
   "execution_count": null,
   "id": "01b5dde6",
   "metadata": {},
   "outputs": [],
   "source": [
    "create_bar_plot(cc_train_copy,'Has a car')"
   ]
  },
  {
   "cell_type": "code",
   "execution_count": null,
   "id": "16c5bb5f",
   "metadata": {
    "colab": {
     "base_uri": "https://localhost:8080/"
    },
    "id": "16c5bb5f",
    "outputId": "e75f6536-9194-4e72-cde1-eb90c7115395"
   },
   "outputs": [],
   "source": [
    "create_pie_plot(cc_train_copy,'Has a car')"
   ]
  },
  {
   "cell_type": "markdown",
   "id": "a53e3e40",
   "metadata": {
    "id": "a53e3e40"
   },
   "source": [
    "### Has a property"
   ]
  },
  {
   "cell_type": "markdown",
   "id": "1432d3b9",
   "metadata": {},
   "source": [
    "Most applicants own a property (67% of applicants)"
   ]
  },
  {
   "cell_type": "code",
   "execution_count": null,
   "id": "75d6eea9",
   "metadata": {
    "colab": {
     "base_uri": "https://localhost:8080/"
    },
    "id": "75d6eea9",
    "outputId": "66b67fc4-cd04-48a9-bb49-29b40a01368d"
   },
   "outputs": [],
   "source": [
    "gen_info_feat(cc_train_copy,'Has a property')"
   ]
  },
  {
   "cell_type": "code",
   "execution_count": null,
   "id": "45e544e6",
   "metadata": {
    "colab": {
     "base_uri": "https://localhost:8080/"
    },
    "id": "45e544e6",
    "outputId": "762d7968-1c6c-466a-cd9f-08019d99e40b"
   },
   "outputs": [],
   "source": [
    "create_bar_plot(cc_train_copy,'Has a property')"
   ]
  },
  {
   "cell_type": "code",
   "execution_count": null,
   "id": "a27106ab",
   "metadata": {
    "colab": {
     "base_uri": "https://localhost:8080/"
    },
    "id": "a27106ab",
    "outputId": "9e962898-910e-43e2-cfa7-e8e3154646ef"
   },
   "outputs": [],
   "source": [
    "create_pie_plot(cc_train_copy,'Has a property')"
   ]
  },
  {
   "cell_type": "markdown",
   "id": "6fba5bd2",
   "metadata": {
    "id": "6fba5bd2"
   },
   "source": [
    "### Has a work phone"
   ]
  },
  {
   "cell_type": "markdown",
   "id": "6eacedad",
   "metadata": {},
   "source": [
    "More than ¾ of applicants don’t have a work phone\n",
    "\n",
    "Note: Here 0 represent no and 1 represent yes\n"
   ]
  },
  {
   "cell_type": "code",
   "execution_count": null,
   "id": "144512b4",
   "metadata": {
    "colab": {
     "base_uri": "https://localhost:8080/"
    },
    "id": "144512b4",
    "outputId": "1c66967c-ae61-4d8b-b166-4b390cec2d33"
   },
   "outputs": [],
   "source": [
    "gen_info_feat(cc_train_copy,'Has a work phone')"
   ]
  },
  {
   "cell_type": "code",
   "execution_count": null,
   "id": "4d5cc2a6",
   "metadata": {
    "colab": {
     "base_uri": "https://localhost:8080/"
    },
    "id": "4d5cc2a6",
    "outputId": "d47a2d7f-2de9-45ee-e758-3345b4930838"
   },
   "outputs": [],
   "source": [
    "create_bar_plot(cc_train_copy,'Has a work phone')"
   ]
  },
  {
   "cell_type": "code",
   "execution_count": null,
   "id": "8aa0e15e",
   "metadata": {
    "colab": {
     "base_uri": "https://localhost:8080/"
    },
    "id": "8aa0e15e",
    "outputId": "e2da754b-6bba-4b64-d3d9-349d91c85690"
   },
   "outputs": [],
   "source": [
    "create_pie_plot(cc_train_copy,'Has a work phone')"
   ]
  },
  {
   "cell_type": "markdown",
   "id": "cb1645b2",
   "metadata": {
    "id": "cb1645b2"
   },
   "source": [
    "### Has a mobile phone"
   ]
  },
  {
   "cell_type": "markdown",
   "id": "0f9ccf24",
   "metadata": {},
   "source": [
    "All the applicants without exception have a mobile phone.\n",
    "\n",
    "Note: Here 0 is no and 1 is yes\n"
   ]
  },
  {
   "cell_type": "code",
   "execution_count": null,
   "id": "47945ebf",
   "metadata": {
    "colab": {
     "base_uri": "https://localhost:8080/"
    },
    "id": "47945ebf",
    "outputId": "8e82dbcc-b5cc-4c9a-c9fb-3c553e9eef94"
   },
   "outputs": [],
   "source": [
    "gen_info_feat(cc_train_copy,'Has a mobile phone')"
   ]
  },
  {
   "cell_type": "code",
   "execution_count": null,
   "id": "68fba1cc",
   "metadata": {},
   "outputs": [],
   "source": [
    "create_pie_plot(cc_train_copy,'Has a mobile phone')"
   ]
  },
  {
   "cell_type": "markdown",
   "id": "9f450bf4",
   "metadata": {
    "id": "9f450bf4"
   },
   "source": [
    "### Has a phone"
   ]
  },
  {
   "cell_type": "markdown",
   "id": "5f918a66",
   "metadata": {},
   "source": [
    "Most applicants don’t have a phone(probably a home phone)\n",
    "\n",
    "Note: Here 0 is no and 1 is yes\n"
   ]
  },
  {
   "cell_type": "code",
   "execution_count": null,
   "id": "e38bb77d",
   "metadata": {
    "colab": {
     "base_uri": "https://localhost:8080/"
    },
    "id": "e38bb77d",
    "outputId": "0b91a895-290f-4368-e3b2-ac8eac93bc14"
   },
   "outputs": [],
   "source": [
    "gen_info_feat(cc_train_copy,'Has a phone')"
   ]
  },
  {
   "cell_type": "code",
   "execution_count": null,
   "id": "68cfd34f",
   "metadata": {},
   "outputs": [],
   "source": [
    "create_bar_plot(cc_train_copy,'Has a phone')"
   ]
  },
  {
   "cell_type": "code",
   "execution_count": null,
   "id": "896d3508",
   "metadata": {},
   "outputs": [],
   "source": [
    "create_pie_plot(cc_train_copy,'Has a phone')"
   ]
  },
  {
   "cell_type": "markdown",
   "id": "d1748834",
   "metadata": {
    "id": "d1748834",
    "scrolled": false
   },
   "source": [
    "### Has an email"
   ]
  },
  {
   "cell_type": "markdown",
   "id": "fe1f9c7c",
   "metadata": {},
   "source": [
    "More than 90 % of applicants don’t have an email\n",
    "\n",
    "Note: Here 0 is no and 1 is yes\n"
   ]
  },
  {
   "cell_type": "code",
   "execution_count": null,
   "id": "d109a1de",
   "metadata": {
    "colab": {
     "base_uri": "https://localhost:8080/"
    },
    "id": "d109a1de",
    "outputId": "aec84aa2-8029-4fca-ba8b-0c9f22e3c7e0"
   },
   "outputs": [],
   "source": [
    "gen_info_feat(cc_train_copy,'Has an email')"
   ]
  },
  {
   "cell_type": "code",
   "execution_count": null,
   "id": "63cf64ee",
   "metadata": {
    "colab": {
     "base_uri": "https://localhost:8080/"
    },
    "id": "63cf64ee",
    "outputId": "d4a1112c-9414-4220-a69b-80023f8eb7c8"
   },
   "outputs": [],
   "source": [
    "create_bar_plot(cc_train_copy,'Has an email')"
   ]
  },
  {
   "cell_type": "code",
   "execution_count": null,
   "id": "c2798a6e",
   "metadata": {
    "colab": {
     "base_uri": "https://localhost:8080/"
    },
    "id": "c2798a6e",
    "outputId": "4e3928db-5b7e-444f-cf3e-79957a88c0df"
   },
   "outputs": [],
   "source": [
    "create_pie_plot(cc_train_copy,'Has an email')"
   ]
  },
  {
   "cell_type": "markdown",
   "id": "f074ec44",
   "metadata": {},
   "source": [
    "### Account age"
   ]
  },
  {
   "cell_type": "markdown",
   "id": "161ac339",
   "metadata": {},
   "source": [
    "Most accounts are 26 months old. The account age feature is not normally distributed, it is positively skewed. Another observation is that the accounts that have been flagged as high risk are on average 34 months old vs 26 months old for low risk.\n"
   ]
  },
  {
   "cell_type": "code",
   "execution_count": null,
   "id": "6a9bef04",
   "metadata": {},
   "outputs": [],
   "source": [
    "gen_info_feat(cc_train_copy,'Account age')"
   ]
  },
  {
   "cell_type": "code",
   "execution_count": null,
   "id": "9507c33d",
   "metadata": {},
   "outputs": [],
   "source": [
    "create_box_plot(cc_train_copy,'Account age')"
   ]
  },
  {
   "cell_type": "code",
   "execution_count": null,
   "id": "a3f30df9",
   "metadata": {},
   "outputs": [],
   "source": [
    "create_hist_plot(cc_train_copy,'Account age', the_bins=30)"
   ]
  },
  {
   "cell_type": "markdown",
   "id": "531f4fc4",
   "metadata": {},
   "source": [
    "* bivariate analysis with target variable"
   ]
  },
  {
   "cell_type": "code",
   "execution_count": null,
   "id": "9659a68a",
   "metadata": {},
   "outputs": [],
   "source": [
    "low_high_risk_box_plot(cc_train_copy,'Account age')"
   ]
  },
  {
   "cell_type": "markdown",
   "id": "e61a35e7",
   "metadata": {},
   "source": [
    "### Is high risk (target variable)"
   ]
  },
  {
   "cell_type": "markdown",
   "id": "a6f4b28d",
   "metadata": {},
   "source": [
    "A vast majority of applicants are low risk applicants. We have an imbalance data that needs to be balanced before training on a model.\n",
    "\n",
    "Note: Here 0 is no and 1 is yes\n"
   ]
  },
  {
   "cell_type": "code",
   "execution_count": null,
   "id": "dade9e72",
   "metadata": {},
   "outputs": [],
   "source": [
    "gen_info_feat(cc_train_copy,'Is high risk')"
   ]
  },
  {
   "cell_type": "code",
   "execution_count": null,
   "id": "1791863c",
   "metadata": {},
   "outputs": [],
   "source": [
    "create_bar_plot(cc_train_copy,'Is high risk')"
   ]
  },
  {
   "cell_type": "code",
   "execution_count": null,
   "id": "03b556f1",
   "metadata": {},
   "outputs": [],
   "source": [
    "create_pie_plot(cc_train_copy,'Is high risk')"
   ]
  },
  {
   "cell_type": "markdown",
   "id": "b03bc549",
   "metadata": {},
   "source": [
    "### Bivariate analysis"
   ]
  },
  {
   "cell_type": "markdown",
   "id": "f2fd66bf",
   "metadata": {},
   "source": [
    "Now that we have finished our univariate analysis, we will look into the bivariate analysis. First let's do a bivariate analysis for numerical features using scatter plots."
   ]
  },
  {
   "cell_type": "markdown",
   "id": "f9d11417",
   "metadata": {},
   "source": [
    "Looking at the pairplot (scatter plots of all the numerical features), we can see a positive linear correlation between the family member and the children count. This makes sense, the more the children someone have, the larger the family member count. This is a multicollinearity problem (two features are highly correlated). We will need to drop one of them.\n",
    "\n",
    "Another interesting trend is the Employment length and age. This also makes sense, the longer the employee has been working, the older they are."
   ]
  },
  {
   "cell_type": "code",
   "execution_count": null,
   "id": "d3f4a0bd",
   "metadata": {},
   "outputs": [],
   "source": [
    "sns.pairplot(cc_train_copy[cc_train_copy['Employment length'] < 0].drop(['ID','Has a mobile phone', 'Has a work phone', 'Has a phone', 'Has an email','Is high risk'],axis=1),corner=True)\n",
    "plt.show()"
   ]
  },
  {
   "cell_type": "markdown",
   "id": "91f4d2fb",
   "metadata": {},
   "source": [
    "Now let's look at interesting scatter plots, we will start with Family member count vs children count. Of course, the more children a person has, the larger the family count."
   ]
  },
  {
   "cell_type": "code",
   "execution_count": null,
   "id": "e7fa9b15",
   "metadata": {},
   "outputs": [],
   "source": [
    "sns.regplot(x='Children count',y='Family member count',data=cc_train_copy,line_kws={'color': 'red'})\n",
    "plt.show()"
   ]
  },
  {
   "cell_type": "markdown",
   "id": "853ea803",
   "metadata": {},
   "source": [
    "When comparing account age and applicant age, we can see that most applicants are between 20 and 45 years old and have an account that is less than 25 months old. This information is deduced from the fact that we have darker blue hexagon (which means that we have a high density area) between 20 and 25 on the Y axis and between 5 and 25 on the X axis.\n"
   ]
  },
  {
   "cell_type": "code",
   "execution_count": null,
   "id": "15661d00",
   "metadata": {},
   "outputs": [],
   "source": [
    "y_age = np.abs(cc_train_copy['Age'])/365.25\n",
    "sns.jointplot(np.abs(cc_train_copy['Account age']),y_age, kind=\"hex\", height=12)\n",
    "plt.yticks(np.arange(20, y_age.max(), 5))\n",
    "plt.xticks(np.arange(0, 65, 5))\n",
    "plt.ylabel('Age')\n",
    "plt.show()"
   ]
  },
  {
   "cell_type": "markdown",
   "id": "1f7f4db3",
   "metadata": {},
   "source": [
    "Now comparing the employment length and age, the scatterplot shows that the age of the applicants is correlated with the length of the employment. The reason why it is shaped like a reversed triangle, it is because the age of the applicants increase with the length of the employment. You can't have an employment length that is superior than the age.\n"
   ]
  },
  {
   "cell_type": "code",
   "execution_count": null,
   "id": "6deb1fbf",
   "metadata": {},
   "outputs": [],
   "source": [
    "x_employ_length = np.abs(cc_train_copy[cc_train_copy['Employment length'] < 0]['Employment length'])/365.25\n",
    "fig, ax = plt.subplots(figsize=(12,8))\n",
    "sns.scatterplot(x_employ_length,y_age,alpha=.05)\n",
    "# change the frequency of the x-axis and y-axis labels\n",
    "plt.xticks(np.arange(0, x_employ_length.max(), 2.5))\n",
    "plt.yticks(np.arange(20, y_age.max(), 5))\n",
    "plt.show()"
   ]
  },
  {
   "cell_type": "markdown",
   "id": "ed7717c8",
   "metadata": {},
   "source": [
    "### Heatmap"
   ]
  },
  {
   "cell_type": "markdown",
   "id": "1dc63991",
   "metadata": {},
   "source": [
    "Time to do a correlation between all the numerical features using a heatmap. There is no feature that is correlated with the target feature (Is high risk). We see that family member count is highly correlated with children count as previously discussed (The more the children a person has, the larger the family count). Age has some positive correlation with the family member count and children count. The older a person is , the most likely he/she will have a larger family.\n",
    "\n",
    "Another positive correlation is having a phone and having a work phone. The final positive correlation is between the age and work phone. The younger someone is the less likely he/she will have a work phone. We also have a negative correlation between the employment length and the age as previously discussed.\n"
   ]
  },
  {
   "cell_type": "code",
   "execution_count": null,
   "id": "476473e6",
   "metadata": {},
   "outputs": [],
   "source": [
    "# change the datatype of target feature to int\n",
    "is_high_risk_int = cc_train_copy['Is high risk'].astype('int32')"
   ]
  },
  {
   "cell_type": "code",
   "execution_count": null,
   "id": "7957a8ff",
   "metadata": {},
   "outputs": [],
   "source": [
    "# correlation analysis with heatmap, after dropping the has a mobile phone with the target feature as int\n",
    "cc_train_copy_corr_no_mobile = pd.concat([cc_train_copy.drop(['Has a mobile phone','Is high risk'], axis=1),is_high_risk_int],axis=1).corr()\n",
    "# Get the lower triangle of the correlation matrix\n",
    "# Generate a mask for the upper triangle\n",
    "mask = np.zeros_like(cc_train_copy_corr_no_mobile, dtype='bool')\n",
    "mask[np.triu_indices_from(mask)] = True\n",
    "# Set up the matplotlib figure\n",
    "fig, ax = plt.subplots(figsize=(18,10))\n",
    "# seaborn heatmap\n",
    "sns.heatmap(cc_train_copy_corr_no_mobile, annot=True, cmap='flare',mask=mask, linewidths=.5)\n",
    "# plot the heatmap\n",
    "plt.show()"
   ]
  },
  {
   "cell_type": "markdown",
   "id": "a1247d63",
   "metadata": {},
   "source": [
    "### ANOVA"
   ]
  },
  {
   "cell_type": "markdown",
   "id": "9c930a65",
   "metadata": {},
   "source": [
    "Now, let's do an ANOVA analysis between age and other categorical categories. Female applicants are older than their male counterpart. Those who don't own a car tend to be older and those who own a property tend to be older than those who don't. Of course, the pensioners are older that those who are working (We also see that some have pensioned at a young age, those are outliers).\n",
    "\n",
    "It is also interesting to see that those who hold an academic degree are younger in general than the other groups. The widows tend to be much older. We also see widows outliers in their 30's as well. With no surprise, those who live with parent tend to be younger. We also see some outlier as well here. Lastly, who work as cleaning staff tend to be older while those who work in IT tend to be younger.\n"
   ]
  },
  {
   "cell_type": "code",
   "execution_count": null,
   "id": "23dff1ed",
   "metadata": {},
   "outputs": [],
   "source": [
    "fig, axes = plt.subplots(4,2,figsize=(15,20),dpi=180)\n",
    "fig.tight_layout(pad=5.0)\n",
    "cat_features = ['Gender', 'Has a car', 'Has a property', 'Employment status', 'Education level', 'Marital status', 'Dwelling', 'Job title']\n",
    "for cat_ft_count, ax in enumerate(axes):\n",
    "    for row_count in range(4):\n",
    "        for feat_count in range(2):\n",
    "            sns.boxplot(ax=axes[row_count,feat_count],x=cc_train_copy[cat_features[cat_ft_count]],y=np.abs(cc_train_copy['Age'])/365.25)\n",
    "            axes[row_count,feat_count].set_title(cat_features[cat_ft_count] + \" vs age\")\n",
    "            plt.sca(axes[row_count,feat_count])\n",
    "            plt.xticks(rotation=45,ha='right')\n",
    "            plt.ylabel('Age')\n",
    "            cat_ft_count += 1\n",
    "    break"
   ]
  },
  {
   "cell_type": "markdown",
   "id": "7a0cf847",
   "metadata": {},
   "source": [
    "Now let's turn our attention to employment length versus categorical features. State employed and medical staff applicant tend to have been employed longer than the rest.\n"
   ]
  },
  {
   "cell_type": "code",
   "execution_count": null,
   "id": "c99426f7",
   "metadata": {},
   "outputs": [],
   "source": [
    "fig, axes = plt.subplots(4,2,figsize=(15,20),dpi=180)\n",
    "fig.tight_layout(pad=5.0)\n",
    "\n",
    "for cat_ft_count, ax in enumerate(axes):\n",
    "    for row_count in range(4):\n",
    "        for feat_count in range(2):\n",
    "            sns.boxplot(ax=axes[row_count,feat_count],x=cc_train_copy[cat_features[cat_ft_count]],y=np.abs(cc_train_copy[cc_train_copy['Employment length'] < 0]['Employment length'])/365.25)\n",
    "            axes[row_count,feat_count].set_title(cat_features[cat_ft_count] + \" vs employment length\")\n",
    "            plt.sca(axes[row_count,feat_count])\n",
    "            plt.ylabel('Employment length')\n",
    "            plt.xticks(rotation=45,ha='right')\n",
    "            cat_ft_count += 1\n",
    "    break"
   ]
  },
  {
   "cell_type": "markdown",
   "id": "0a70de5d",
   "metadata": {},
   "source": [
    "### Applicant general profile"
   ]
  },
  {
   "cell_type": "markdown",
   "id": "a0186619",
   "metadata": {},
   "source": [
    "After analyzing each feature, we can create a profile of the average credit card applicant. Here is the profile:"
   ]
  },
  {
   "cell_type": "markdown",
   "id": "fdf8d334",
   "metadata": {},
   "source": [
    "- ***Typical profile of an applicant is: a Female in her early 40’s, married with a partner and no child. She has been employed for 5 years with a salary of 157500. She has completed her secondary education. She does not own a car but owns a property (a house/ apartment). Her account is 26 months old.***\n",
    "- ***Age and income do not have any effects on the target variable***\n",
    "- ***Those who are flagged as bad client, tend to have a shorter employment length and older accounts. They also constitute less than 2% of total applicants.***\n",
    "- ***Most applicants are 20 to 45 years old and have an account that is 25 months old or less.***"
   ]
  },
  {
   "cell_type": "markdown",
   "id": "0d6a8a68",
   "metadata": {},
   "source": [
    "### 3. Prepare the data"
   ]
  },
  {
   "cell_type": "markdown",
   "id": "f5c0a1d3",
   "metadata": {},
   "source": [
    "Using the analysis for EDA, here is a list of all the transformations that need to be done on each feature:\n",
    "\n",
    "ID:\n",
    "* Drop the feature\n",
    "\n",
    "Gender:\n",
    "* One hot encoding\n",
    "\n",
    "Age:\n",
    "* Min-max scaling\n",
    "* Fix skewness\n",
    "* Abs value and div 365.25\n",
    "\n",
    "Marital status:\n",
    "* One hot encoding\n",
    "\n",
    "Family member count\n",
    "* Fix outliers\n",
    "\n",
    "Children count\n",
    "* Fix outliers\n",
    "* Drop feature\n",
    "\n",
    "Dwelling type\n",
    "* One hot encoding\n",
    "\n",
    "Income\n",
    "* Remove outliers\n",
    "* Fix skewness\n",
    "* Min-max scaling\n",
    "\n",
    "Job title\n",
    "* One hot encoding\n",
    "* Impute missing values\n",
    "\n",
    "Employment status:\n",
    "* One hot encoding\n",
    "\n",
    "Education level:\n",
    "* Ordinal encoding\n",
    "\n",
    "Employment length:\n",
    "* Remove outliers\n",
    "* Min-max scaling\n",
    "* Abs value and div 365.25\n",
    "* change days of employments of retirees to 0\n",
    "\n",
    "Has a car:\n",
    "* Change it numerical\n",
    "* One-hot encoding\n",
    "\n",
    "Has a property:\n",
    "* Change it numerical\n",
    "* One-hot encoding\n",
    "\n",
    "Has a mobile phone:\n",
    "* Drop feature\n",
    "\n",
    "Has a work phone:\n",
    "* One-hot encoding\n",
    "\n",
    "Has a phone:\n",
    "* One-hot encoding\n",
    "\n",
    "Has an email:\n",
    "* One-hot encoding\n",
    "\n",
    "Account age:\n",
    "* Drop feature\n",
    "\n",
    "Is high risk(Target):\n",
    "* Change the data type to numerical\n",
    "* balance the data with SMOTE"
   ]
  },
  {
   "cell_type": "markdown",
   "id": "1820631d",
   "metadata": {
    "id": "1820631d"
   },
   "source": [
    "### Data Cleaning"
   ]
  },
  {
   "cell_type": "markdown",
   "id": "fa853213",
   "metadata": {
    "id": "fa853213"
   },
   "source": [
    "Here we are creating a class that will be used to handle outliers. This class will remove outliers that are more than 3 inter-quantile range (IQR) away from the mean. This class will be the first class in the scikit-learn ```Pipeline```."
   ]
  },
  {
   "cell_type": "code",
   "execution_count": null,
   "id": "0e2d1e14",
   "metadata": {
    "id": "0e2d1e14"
   },
   "outputs": [],
   "source": [
    "class OutlierRemover(BaseEstimator, TransformerMixin):\n",
    "    def __init__(self,feat_with_outliers = ['Family member count','Income', 'Employment length']):\n",
    "        self.feat_with_outliers = feat_with_outliers\n",
    "    def fit(self,df):\n",
    "        return self\n",
    "    def transform(self,df):\n",
    "        if (set(self.feat_with_outliers).issubset(df.columns)):\n",
    "            # 25% quantile\n",
    "            Q1 = df[self.feat_with_outliers].quantile(.25)\n",
    "            # 75% quantile\n",
    "            Q3 = df[self.feat_with_outliers].quantile(.75)\n",
    "            IQR = Q3 - Q1\n",
    "            # keep the data within 3 IQR\n",
    "            df = df[~((df[self.feat_with_outliers] < (Q1 - 3 * IQR)) |(df[self.feat_with_outliers] > (Q3 + 3 * IQR))).any(axis=1)]\n",
    "            return df\n",
    "        else:\n",
    "            print(\"One or more features are not in the dataframe\")\n",
    "            return df"
   ]
  },
  {
   "cell_type": "markdown",
   "id": "c23637fe",
   "metadata": {},
   "source": [
    "### Feature selection"
   ]
  },
  {
   "cell_type": "markdown",
   "id": "c87653fe",
   "metadata": {},
   "source": [
    "Next if feature selection, here we are going to drop the features that we judge not to be useful in our prediction. Note this is not a feature selection based on the model coefficients or feauture importance, it is based on basic logic."
   ]
  },
  {
   "cell_type": "markdown",
   "id": "d8de1f44",
   "metadata": {},
   "source": [
    "The list of features that will be dropped are ID, has a mobile phone, children count, job title, account age."
   ]
  },
  {
   "cell_type": "markdown",
   "id": "f443bd13",
   "metadata": {},
   "source": [
    "Now the next question is why are we dropping these features?\n",
    "\n",
    "- ID: ID is not useful for prediction, it helped us when we were merging the two datasets but after that, there is no need to keep it.\n",
    "- Has a mobile phone: Since everyone has a mobile phone, this feature does not inform us about anything.\n",
    "- Children count: is highly correlated with Family member count, and to avoid multicollinearity, we drop it.\n",
    "- Job title: Has some missing values and the count of each category is not very different to justify the use of mode. So we drop it.\n",
    "- Account age: Because account was used to create the target, reusing will make our model to overfit. Plus, this information is unknown while applying for a credit card.\n"
   ]
  },
  {
   "cell_type": "code",
   "execution_count": null,
   "id": "41a44c31",
   "metadata": {},
   "outputs": [],
   "source": [
    "class DropFeatures(BaseEstimator,TransformerMixin):\n",
    "    def __init__(self,feature_to_drop = ['ID','Has a mobile phone','Children count','Job title','Account age']):\n",
    "        self.feature_to_drop = feature_to_drop\n",
    "    def fit(self,df):\n",
    "        return self\n",
    "    def transform(self,df):\n",
    "        if (set(self.feature_to_drop).issubset(df.columns)):\n",
    "            df.drop(self.feature_to_drop,axis=1,inplace=True)\n",
    "            return df\n",
    "        else:\n",
    "            print(\"One or more features are not in the dataframe\")\n",
    "            return df"
   ]
  },
  {
   "cell_type": "markdown",
   "id": "d622dec1",
   "metadata": {},
   "source": [
    "### Feature engineering"
   ]
  },
  {
   "cell_type": "markdown",
   "id": "11fc0164",
   "metadata": {},
   "source": [
    "This class will convert the days to absolute value because we can't have negative days of employments."
   ]
  },
  {
   "cell_type": "code",
   "execution_count": null,
   "id": "c63649c9",
   "metadata": {},
   "outputs": [],
   "source": [
    "class TimeConversionHandler(BaseEstimator, TransformerMixin):\n",
    "    def __init__(self, feat_with_days = ['Employment length', 'Age']):\n",
    "        self.feat_with_days = feat_with_days\n",
    "    def fit(self, X, y=None):\n",
    "        return self\n",
    "    def transform(self, X, y=None):\n",
    "        if (set(self.feat_with_days).issubset(X.columns)):\n",
    "            # convert days to absolute value\n",
    "            X[['Employment length','Age']] = np.abs(X[['Employment length','Age']])\n",
    "            return X\n",
    "        else:\n",
    "            print(\"One or more features are not in the dataframe\")\n",
    "            return X"
   ]
  },
  {
   "cell_type": "markdown",
   "id": "7769f779",
   "metadata": {},
   "source": [
    "This other class will convert the employment length of retirees (set to 365243) to 0 so that it is not considered as an outlier."
   ]
  },
  {
   "cell_type": "code",
   "execution_count": null,
   "id": "9bebf34c",
   "metadata": {},
   "outputs": [],
   "source": [
    "class RetireeHandler(BaseEstimator, TransformerMixin):\n",
    "    def __init__(self):\n",
    "        pass\n",
    "    def fit(self, df):\n",
    "        return self\n",
    "    def transform(self, df):\n",
    "        if 'Employment length' in df.columns:\n",
    "            # select rows with employment length is 365243 which corresponds to retirees\n",
    "            df_ret_idx = df['Employment length'][df['Employment length'] == 365243].index\n",
    "            # change 365243 to 0\n",
    "            df.loc[df_ret_idx,'Employment length'] = 0\n",
    "            return df\n",
    "        else:\n",
    "            print(\"Employment length is not in the dataframe\")\n",
    "            return df"
   ]
  },
  {
   "cell_type": "markdown",
   "id": "81fca0ac",
   "metadata": {},
   "source": [
    "This class will reduce the skewness of income and age using the cubic root transformation. Skewed features tend not to affect the performance of our predictive model. "
   ]
  },
  {
   "cell_type": "code",
   "execution_count": null,
   "id": "45c7de64",
   "metadata": {},
   "outputs": [],
   "source": [
    "class SkewnessHandler(BaseEstimator, TransformerMixin):\n",
    "    def __init__(self,feat_with_skewness=['Income','Age']):\n",
    "        self.feat_with_skewness = feat_with_skewness\n",
    "    def fit(self,df):\n",
    "        return self\n",
    "    def transform(self,df):\n",
    "        if (set(self.feat_with_skewness).issubset(df.columns)):\n",
    "            # Handle skewness with cubic root transformation\n",
    "            df[self.feat_with_skewness] = np.cbrt(df[self.feat_with_skewness])\n",
    "            return df\n",
    "        else:\n",
    "            print(\"One or more features are not in the dataframe\")\n",
    "            return df"
   ]
  },
  {
   "cell_type": "markdown",
   "id": "9a3287ed",
   "metadata": {},
   "source": [
    "This class with change 1 to the character \"Y\" and 0 to \"N\" which will be easier when we are doing a one-hot encoding."
   ]
  },
  {
   "cell_type": "code",
   "execution_count": null,
   "id": "8cb016a0",
   "metadata": {},
   "outputs": [],
   "source": [
    "class BinningNumToYN(BaseEstimator, TransformerMixin):\n",
    "    def __init__(self,feat_with_num_enc=['Has a work phone','Has a phone','Has an email']):\n",
    "        self.feat_with_num_enc = feat_with_num_enc\n",
    "    def fit(self,df):\n",
    "        return self\n",
    "    def transform(self,df):\n",
    "        if (set(self.feat_with_num_enc).issubset(df.columns)):\n",
    "            # Change 0 to N and 1 to Y for all the features in feat_with_num_enc\n",
    "            for ft in self.feat_with_num_enc:\n",
    "                df[ft] = df[ft].map({1:'Y',0:'N'})\n",
    "            return df\n",
    "        else:\n",
    "            print(\"One or more features are not in the dataframe\")\n",
    "            return df"
   ]
  },
  {
   "cell_type": "markdown",
   "id": "727d64b6",
   "metadata": {},
   "source": [
    "This class will do a one hot encoding on the categorical features, the difference is that this class will also keep the features names as well. The reason why we want to keep the features names instead of an array is because these features name will be used into coming up with the feature importance."
   ]
  },
  {
   "cell_type": "code",
   "execution_count": null,
   "id": "9dffc224",
   "metadata": {},
   "outputs": [],
   "source": [
    "class OneHotWithFeatNames(BaseEstimator,TransformerMixin):\n",
    "    def __init__(self,one_hot_enc_ft = ['Gender', 'Marital status', 'Dwelling', 'Employment status', 'Has a car', 'Has a property', 'Has a work phone', 'Has a phone', 'Has an email']):\n",
    "        self.one_hot_enc_ft = one_hot_enc_ft\n",
    "    def fit(self,df):\n",
    "        return self\n",
    "    def transform(self,df):\n",
    "        if (set(self.one_hot_enc_ft).issubset(df.columns)):\n",
    "            # function to one hot encode the features in one_hot_enc_ft\n",
    "            def one_hot_enc(df,one_hot_enc_ft):\n",
    "                one_hot_enc = OneHotEncoder()\n",
    "                one_hot_enc.fit(df[one_hot_enc_ft])\n",
    "                # get the result of the one hot encoding columns names\n",
    "                feat_names_one_hot_enc = one_hot_enc.get_feature_names_out(one_hot_enc_ft)\n",
    "                # change the array of the one hot encoding to a dataframe with the column names\n",
    "                df = pd.DataFrame(one_hot_enc.transform(df[self.one_hot_enc_ft]).toarray(),columns=feat_names_one_hot_enc,index=df.index)\n",
    "                return df\n",
    "            # function to concatenat the one hot encoded features with the rest of features that were not encoded\n",
    "            def concat_with_rest(df,one_hot_enc_df,one_hot_enc_ft):\n",
    "                # get the rest of the features\n",
    "                rest_of_features = [ft for ft in df.columns if ft not in one_hot_enc_ft]\n",
    "                # concatenate the rest of the features with the one hot encoded features\n",
    "                df_concat = pd.concat([one_hot_enc_df, df[rest_of_features]],axis=1)\n",
    "                return df_concat\n",
    "            # one hot encoded dataframe\n",
    "            one_hot_enc_df = one_hot_enc(df,self.one_hot_enc_ft)\n",
    "            # returns the concatenated dataframe\n",
    "            full_df_one_hot_enc = concat_with_rest(df,one_hot_enc_df,self.one_hot_enc_ft)\n",
    "            return full_df_one_hot_enc\n",
    "        else:\n",
    "            print(\"One or more features are not in the dataframe\")\n",
    "            return df"
   ]
  },
  {
   "cell_type": "markdown",
   "id": "fda034a4",
   "metadata": {},
   "source": [
    "This class will convert the education level to an ordinal encoding. Here we are using ordinal encoding instead of one hot encoding because we know that the education level are ranked (University is higher than primary school)."
   ]
  },
  {
   "cell_type": "code",
   "execution_count": null,
   "id": "022933f1",
   "metadata": {},
   "outputs": [],
   "source": [
    "class OrdinalFeatNames(BaseEstimator,TransformerMixin):\n",
    "    def __init__(self,ordinal_enc_ft = ['Education level']):\n",
    "        self.ordinal_enc_ft = ordinal_enc_ft\n",
    "    def fit(self,df):\n",
    "        return self\n",
    "    def transform(self,df):\n",
    "        if 'Education level' in df.columns:\n",
    "            ordinal_enc = OrdinalEncoder()\n",
    "            df[self.ordinal_enc_ft] = ordinal_enc.fit_transform(df[self.ordinal_enc_ft])\n",
    "            return df\n",
    "        else:\n",
    "            print(\"Education level is not in the dataframe\")\n",
    "            return df"
   ]
  },
  {
   "cell_type": "markdown",
   "id": "78609df2",
   "metadata": {},
   "source": [
    "This class will scale the feature using min-max scaling while keeping the feature names as well."
   ]
  },
  {
   "cell_type": "code",
   "execution_count": null,
   "id": "f789e921",
   "metadata": {},
   "outputs": [],
   "source": [
    "class MinMaxWithFeatNames(BaseEstimator,TransformerMixin):\n",
    "    def __init__(self,min_max_scaler_ft = ['Age', 'Income', 'Employment length']):\n",
    "        self.min_max_scaler_ft = min_max_scaler_ft\n",
    "    def fit(self,df):\n",
    "        return self\n",
    "    def transform(self,df):\n",
    "        if (set(self.min_max_scaler_ft).issubset(df.columns)):\n",
    "            min_max_enc = MinMaxScaler()\n",
    "            df[self.min_max_scaler_ft] = min_max_enc.fit_transform(df[self.min_max_scaler_ft])\n",
    "            return df\n",
    "        else:\n",
    "            print(\"One or more features are not in the dataframe\")\n",
    "            return df"
   ]
  },
  {
   "cell_type": "markdown",
   "id": "eaf159ac",
   "metadata": {},
   "source": [
    "This class will change the data type of the target variable to numerical."
   ]
  },
  {
   "cell_type": "code",
   "execution_count": null,
   "id": "176d085c",
   "metadata": {},
   "outputs": [],
   "source": [
    "class ChangeToNumTarget(BaseEstimator,TransformerMixin):\n",
    "    def __init__(self):\n",
    "        pass\n",
    "    def fit(self,df):\n",
    "        return self\n",
    "    def transform(self,df):\n",
    "        if 'Is high risk' in df.columns:\n",
    "            df['Is high risk'] = pd.to_numeric(df['Is high risk'])\n",
    "            return df\n",
    "        else:\n",
    "            print(\"Is high risk is not in the dataframe\")\n",
    "            return df"
   ]
  },
  {
   "cell_type": "markdown",
   "id": "f410b685",
   "metadata": {},
   "source": [
    "This class will oversample the target variable using SMOTE because the minority class (Is high risk = 1) is very rare in the data as we have seen it while doing EDA of the target variable (It only accounts for about 1.71% of the total data)."
   ]
  },
  {
   "cell_type": "code",
   "execution_count": null,
   "id": "73016dc8",
   "metadata": {},
   "outputs": [],
   "source": [
    "class Oversample(BaseEstimator,TransformerMixin):\n",
    "    def __init__(self):\n",
    "        pass\n",
    "    def fit(self,df):\n",
    "        return self\n",
    "    def transform(self,df):\n",
    "        if 'Is high risk' in df.columns:\n",
    "            # smote function to oversample the minority class to fix the imbalance data\n",
    "            oversample = SMOTE(sampling_strategy='minority')\n",
    "            X_bal, y_bal = oversample.fit_resample(df.loc[:, df.columns != 'Is high risk'],df['Is high risk'])\n",
    "            df_bal = pd.concat([pd.DataFrame(X_bal),pd.DataFrame(y_bal)],axis=1)\n",
    "            return df_bal\n",
    "        else:\n",
    "            print(\"Is high risk is not in the dataframe\")\n",
    "            return df"
   ]
  },
  {
   "cell_type": "markdown",
   "id": "8da7ac3e",
   "metadata": {},
   "source": [
    "### Data Preprocessing"
   ]
  },
  {
   "cell_type": "markdown",
   "id": "c1d8b409",
   "metadata": {},
   "source": [
    "Now we are ready to create the data preprocessing pipeline using the built sklearn function ```Pipeline```. What this function does is to call each class in the pipeline sequentially starting from the outlier remover to oversample class. The dataset will be transform sequentially from one class to the next one. The pipeline will be stored in a variable called pipeline and will call ```fit_transform``` on that variable, pass in our dataframe we want to transform and return the result."
   ]
  },
  {
   "cell_type": "code",
   "execution_count": null,
   "id": "0d1b98d1",
   "metadata": {},
   "outputs": [],
   "source": [
    "def full_pipeline(df):\n",
    "    # Create the pipeline that will call all the class from OutlierRemoval to OversampleSMOTE in one go\n",
    "    pipeline = Pipeline([\n",
    "        ('outlier_remover', OutlierRemover()),\n",
    "        ('feature_dropper', DropFeatures()),\n",
    "        ('time_conversion_handler', TimeConversionHandler()),\n",
    "        ('retiree_handler', RetireeHandler()),\n",
    "        ('skewness_handler', SkewnessHandler()),\n",
    "        ('binning_num_to_yn', BinningNumToYN()),\n",
    "        ('one_hot_with_feat_names', OneHotWithFeatNames()),\n",
    "        ('ordinal_feat_names', OrdinalFeatNames()),\n",
    "        ('min_max_with_feat_names', MinMaxWithFeatNames()),\n",
    "        ('change_to_num_target', ChangeToNumTarget()),\n",
    "        ('oversample', Oversample())\n",
    "    ])\n",
    "    df_pipe_prep = pipeline.fit_transform(df)\n",
    "    return df_pipe_prep"
   ]
  },
  {
   "cell_type": "markdown",
   "id": "83e4ef73",
   "metadata": {},
   "source": [
    "Now we pass in the train dataset"
   ]
  },
  {
   "cell_type": "code",
   "execution_count": null,
   "id": "cf2442b9",
   "metadata": {},
   "outputs": [],
   "source": [
    "pd.options.mode.chained_assignment = None  # Hide the copy warning\n",
    "cc_train_prep = full_pipeline(cc_train_copy)"
   ]
  },
  {
   "cell_type": "markdown",
   "id": "49f38c49",
   "metadata": {},
   "source": [
    "We check how many rows and columns we have after the transformation."
   ]
  },
  {
   "cell_type": "code",
   "execution_count": null,
   "id": "dea56e92",
   "metadata": {},
   "outputs": [],
   "source": [
    "cc_train_prep.shape"
   ]
  },
  {
   "cell_type": "markdown",
   "id": "fc09b567",
   "metadata": {},
   "source": [
    "Have a quick look at the first few rows of the transformed dataframe. We can see that the column's names have been kept."
   ]
  },
  {
   "cell_type": "code",
   "execution_count": null,
   "id": "56648d2b",
   "metadata": {},
   "outputs": [],
   "source": [
    "pd.set_option('display.max_columns', None)\n",
    "cc_train_prep.head()"
   ]
  },
  {
   "cell_type": "markdown",
   "id": "3e1d7cf3",
   "metadata": {},
   "source": [
    "Now, we extract the target variable ```Is high risk``` from the dataframe and create a new dataframe composed of independent features with a series of the target variable."
   ]
  },
  {
   "cell_type": "code",
   "execution_count": null,
   "id": "e6f112a0",
   "metadata": {},
   "outputs": [],
   "source": [
    "# split the train data into X and y (target)\n",
    "X_cc_train_prep, y_cc_train_prep = cc_train_prep.loc[:, cc_train_prep.columns != 'Is high risk'], cc_train_prep['Is high risk'].astype('int64')"
   ]
  },
  {
   "cell_type": "markdown",
   "id": "c6276506",
   "metadata": {},
   "source": [
    "### Short-list promising models"
   ]
  },
  {
   "cell_type": "markdown",
   "id": "36b42f27",
   "metadata": {},
   "source": [
    "Alright! the moment you have been waiting for has finally arrived, time to train our models. We first create a dictionary of models and their corresponding names. This dictionary will be used to loop through all the models and train them without having to write them over and over again."
   ]
  },
  {
   "cell_type": "code",
   "execution_count": null,
   "id": "8e12c02b",
   "metadata": {},
   "outputs": [],
   "source": [
    "classifiers = {\n",
    "    'sgd':SGDClassifier(random_state=42,loss='perceptron'),\n",
    "    'logistic_regression':LogisticRegression(random_state=42,max_iter=1000),\n",
    "    'support_vector_machine':SVC(random_state=42,probability=True),\n",
    "    'decision_tree':DecisionTreeClassifier(random_state=42),\n",
    "    'random_forest':RandomForestClassifier(random_state=42),\n",
    "    'gaussian_naive_bayes':GaussianNB(),\n",
    "    'k_nearest_neighbors':KNeighborsClassifier(),\n",
    "    'gradient_boosting':GradientBoostingClassifier(random_state=42),\n",
    "    'linear_discriminant_analysis':LinearDiscriminantAnalysis(),\n",
    "    'bagging':BaggingClassifier(random_state=42),\n",
    "    'neural_network':MLPClassifier(random_state=42,max_iter=1000),\n",
    "    'adaboost':AdaBoostClassifier(random_state=42),\n",
    "    'extra_trees':ExtraTreesClassifier(random_state=42),\n",
    "    }"
   ]
  },
  {
   "cell_type": "markdown",
   "id": "36006c8e",
   "metadata": {},
   "source": [
    "Now we will write some of the functions that will be used into training our model. The first function is a function to plot the feature importance of the model. The feature importance is a set of features that do contribute more(or less) than other features to the model prediction"
   ]
  },
  {
   "cell_type": "code",
   "execution_count": null,
   "id": "ec4fb58a",
   "metadata": {},
   "outputs": [],
   "source": [
    "# Function to get the feature importance of the classifier, and plot it\n",
    "def feat_importance_plot(model_trn, model_name):\n",
    "    if model_name not in ['sgd','support_vector_machine','gaussian_naive_bayes','k_nearest_neighbors','bagging','neural_network']:\n",
    "        # change xtick font size\n",
    "        plt.rcParams['xtick.labelsize'] = 12\n",
    "        plt.rcParams['ytick.labelsize'] = 12\n",
    "        # top 10 most predictive features\n",
    "        top_10_feat = FeatureImportances(model_trn, relative=False, topn=10)\n",
    "        # top 10 least predictive features\n",
    "        bottom_10_feat = FeatureImportances(model_trn, relative=False, topn=-10)\n",
    "        #change the figure size\n",
    "        plt.figure(figsize=(10, 4))\n",
    "        #change x label font size\n",
    "        plt.xlabel('xlabel', fontsize=14)\n",
    "        # Fit to get the feature importances\n",
    "        top_10_feat.fit(X_cc_train_prep, y_cc_train_prep)\n",
    "        # show the plot\n",
    "        top_10_feat.show()\n",
    "        print('\\n')\n",
    "        plt.figure(figsize=(10, 4))\n",
    "        plt.xlabel('xlabel', fontsize=14)\n",
    "        # Fit to get the feature importances\n",
    "        bottom_10_feat.fit(X_cc_train_prep, y_cc_train_prep)\n",
    "        # show the plot\n",
    "        bottom_10_feat.show()\n",
    "        print('\\n')\n",
    "    else:\n",
    "        print('No feature importance for {0}'.format(model_name))\n",
    "        print('\\n')"
   ]
  },
  {
   "cell_type": "markdown",
   "id": "6203a5b1",
   "metadata": {},
   "source": [
    "This function on the other hand, is used to get the y prediction of the model using cross validation prediction with k fold equal to 10."
   ]
  },
  {
   "cell_type": "code",
   "execution_count": null,
   "id": "3f0acaba",
   "metadata": {},
   "outputs": [],
   "source": [
    "# Function to get the y prediction\n",
    "def y_prediction_func(model_trn,model_name,final_model=False):\n",
    "    if final_model == False:\n",
    "        # check if y_train_copy_pred exists, if not create it\n",
    "        y_cc_train_pred_path = Path('saved_models/{0}/y_train_copy_pred_{0}.sav'.format(model_name))\n",
    "        try:\n",
    "            y_cc_train_pred_path.resolve(strict=True)\n",
    "        except FileNotFoundError:\n",
    "            #cross validation prediction with kfold = 10\n",
    "            y_cc_train_pred = cross_val_predict(model_trn,X_cc_train_prep,y_cc_train_prep,cv=10,n_jobs=-1)\n",
    "            #save the predictions\n",
    "            joblib.dump(y_cc_train_pred,y_cc_train_pred_path)\n",
    "            return y_cc_train_pred\n",
    "        else:\n",
    "            # if it exist load the predictions\n",
    "            y_cc_train_pred = joblib.load(y_cc_train_pred_path)\n",
    "            return y_cc_train_pred\n",
    "    else:\n",
    "        # check if y_train_copy_pred exists, if not create it\n",
    "        y_cc_train_pred_path_final = Path('saved_models_final/{0}/y_train_copy_pred_{0}_final.sav'.format(model_name))\n",
    "        try:\n",
    "            y_cc_train_pred_path_final.resolve(strict=True)\n",
    "        except FileNotFoundError:\n",
    "            #cross validation prediction with kfold = 10\n",
    "            y_cc_train_pred_final = cross_val_predict(model_trn,X_cc_train_prep,y_cc_train_prep,cv=10,n_jobs=-1)\n",
    "            #save the predictions\n",
    "            joblib.dump(y_cc_train_pred_final,y_cc_train_pred_path_final)\n",
    "            return y_cc_train_pred_final\n",
    "        else:\n",
    "            # if it exist load the predictions\n",
    "            y_cc_train_pred_final = joblib.load(y_cc_train_pred_path_final)\n",
    "            return y_cc_train_pred_final"
   ]
  },
  {
   "cell_type": "markdown",
   "id": "1fec953f",
   "metadata": {},
   "source": [
    "This function will plot the confusion matrix for each of the algorithms."
   ]
  },
  {
   "cell_type": "code",
   "execution_count": null,
   "id": "6a445fd3",
   "metadata": {},
   "outputs": [],
   "source": [
    "# Function to plot the confusion matrix\n",
    "def confusion_matrix_func(model_trn,model_name,final_model=False):\n",
    "    if final_model == False:\n",
    "        fig, ax = plt.subplots(figsize=(8,8))\n",
    "        #plot confusion matrix\n",
    "        conf_matrix = ConfusionMatrixDisplay.from_predictions(y_cc_train_prep,y_prediction_func(model_trn,model_name),ax=ax, cmap='Blues',values_format='d')\n",
    "        # remove the grid\n",
    "        plt.grid(visible=None)\n",
    "        # increase the font size of the x and y labels\n",
    "        plt.xlabel('Predicted label', fontsize=14)\n",
    "        plt.ylabel('True label', fontsize=14)\n",
    "        #give a title to the plot using the model name\n",
    "        plt.title('Confusion Matrix', fontsize=14)\n",
    "        #show the plot\n",
    "        plt.show()\n",
    "        print('\\n')\n",
    "    else:\n",
    "        fig, ax = plt.subplots(figsize=(8,8))\n",
    "        #plot confusion matrix\n",
    "        conf_matrix_final = ConfusionMatrixDisplay.from_predictions(y_cc_train_prep,y_prediction_func(model_trn,model_name,final_model=True),ax=ax, cmap='Blues',values_format='d')\n",
    "        # remove the grid\n",
    "        plt.grid(visible=None)\n",
    "        # increase the font size of the x and y labels\n",
    "        plt.xlabel('Predicted label', fontsize=14)\n",
    "        plt.ylabel('True label', fontsize=14)\n",
    "        #give a title to the plot using the model name\n",
    "        plt.title('Confusion Matrix', fontsize=14)\n",
    "        #show the plot\n",
    "        plt.show()\n",
    "        print('\\n')"
   ]
  },
  {
   "cell_type": "markdown",
   "id": "839c6b6d",
   "metadata": {},
   "source": [
    "The next function will plot the ROC curve of each model."
   ]
  },
  {
   "cell_type": "code",
   "execution_count": null,
   "id": "fb519db0",
   "metadata": {},
   "outputs": [],
   "source": [
    "# Function to plot the roc curve\n",
    "def roc_curve_func(model_trn,model_name,final_model=False):\n",
    "    if final_model == False:\n",
    "        # check if y probabilities file exists, if not create it\n",
    "        y_proba_path = Path('saved_models/{0}/y_cc_train_proba_{0}.sav'.format(model_name))\n",
    "        try:\n",
    "            y_proba_path.resolve(strict=True)\n",
    "        except FileNotFoundError:\n",
    "            y_cc_train_proba = model_trn.predict_proba(X_cc_train_prep)\n",
    "            joblib.dump(y_cc_train_proba,y_proba_path)\n",
    "        else:\n",
    "            # if path exist load the y probabilities file\n",
    "            y_cc_train_proba = joblib.load(y_proba_path)\n",
    "        skplt.metrics.plot_roc(y_cc_train_prep, y_cc_train_proba, title = 'ROC curve for {0}'.format(model_name), cmap='cool',figsize=(8,6), text_fontsize='large')\n",
    "        #remove the grid\n",
    "        plt.grid(visible=None)\n",
    "        plt.show()\n",
    "        print('\\n')\n",
    "    else:\n",
    "        # check if y probabilities file exists, if not create it\n",
    "        y_proba_path_final = Path('saved_models_final/{0}/y_cc_train_proba_{0}_final.sav'.format(model_name))\n",
    "        try:\n",
    "            y_proba_path_final.resolve(strict=True)\n",
    "        except FileNotFoundError:\n",
    "            y_cc_train_proba_final = model_trn.predict_proba(X_cc_train_prep)\n",
    "            joblib.dump(y_cc_train_proba_final,y_proba_path_final)\n",
    "        else:\n",
    "            # if path exist load the y probabilities file\n",
    "            y_cc_train_proba_final = joblib.load(y_proba_path_final)\n",
    "        skplt.metrics.plot_roc(y_cc_train_prep, y_cc_train_proba_final, title = 'ROC curve for {0}'.format(model_name), cmap='cool',figsize=(8,6), text_fontsize='large')\n",
    "        #remove the grid\n",
    "        plt.grid(visible=None)\n",
    "        plt.show()\n",
    "        print('\\n')"
   ]
  },
  {
   "cell_type": "markdown",
   "id": "46d7630f",
   "metadata": {},
   "source": [
    "This other function will print the classification report. A classification report is a table that describes the performance of a classification model and has information like precision, recall, f1-score, support, accuracy."
   ]
  },
  {
   "cell_type": "code",
   "execution_count": null,
   "id": "cae72da7",
   "metadata": {},
   "outputs": [],
   "source": [
    "# Function to display the classification report\n",
    "def score_func(model_trn, model_name, final_model=False):\n",
    "    if final_model == False:\n",
    "        class_report = classification_report(y_cc_train_prep,y_prediction_func(model_trn,model_name))\n",
    "        print(class_report)\n",
    "    else:\n",
    "        class_report_final = classification_report(y_cc_train_prep,y_prediction_func(model_trn,model_name,final_model=True))\n",
    "        print(class_report_final)"
   ]
  },
  {
   "cell_type": "markdown",
   "id": "ada445aa",
   "metadata": {},
   "source": [
    "This function will train the model and save it in the ```saved_models``` and ```saved_models_final``` folder\n"
   ]
  },
  {
   "cell_type": "code",
   "execution_count": null,
   "id": "b3c824df",
   "metadata": {},
   "outputs": [],
   "source": [
    "# Function to train the model\n",
    "def train_model(model,model_name,final_model=False):\n",
    "    # if we are not training the final model\n",
    "    if final_model == False:\n",
    "        # check if the model file exist and if not create, train and save it\n",
    "        model_file_path = Path('saved_models/{0}/{0}_model.sav'.format(model_name))\n",
    "        try:\n",
    "            model_file_path.resolve(strict=True)\n",
    "        except FileNotFoundError:\n",
    "            if model_name == 'sgd':\n",
    "                # for sgd, loss = 'hinge' does not have a predict_proba method. Therefore, we use a calibrated model\n",
    "                calibrated_model = CalibratedClassifierCV(model, cv=10, method='sigmoid')\n",
    "                model_trn = calibrated_model.fit(X_cc_train_prep,y_cc_train_prep)\n",
    "            else:\n",
    "                model_trn = model.fit(X_cc_train_prep,y_cc_train_prep)\n",
    "            joblib.dump(model_trn,model_file_path)\n",
    "            # plot the most and least predictive features\n",
    "            return model_trn\n",
    "        else:\n",
    "            # if path exist load the model\n",
    "            model_trn = joblib.load(model_file_path)\n",
    "            # plot the most and least predictive features\n",
    "            return model_trn\n",
    "    else:\n",
    "        # check if the final model file exist and if not create, train and save it\n",
    "        final_model_file_path = Path('saved_models_final/{0}/{0}_model.sav'.format(model_name))\n",
    "        try:\n",
    "            final_model_file_path.resolve(strict=True)\n",
    "        except FileNotFoundError:\n",
    "            model_trn = model.fit(X_cc_train_prep,y_cc_train_prep)\n",
    "            joblib.dump(model_trn,final_model_file_path)\n",
    "            # plot the most and least predictive features\n",
    "            return model_trn\n",
    "        else:\n",
    "            # if path exist load the model\n",
    "            model_trn = joblib.load(final_model_file_path)\n",
    "            # plot the most and least predictive features\n",
    "            return model_trn"
   ]
  },
  {
   "cell_type": "markdown",
   "id": "a5c23a9c",
   "metadata": {},
   "source": [
    "Now we will look at the ```folder_check_model``` which will check if ```saved_models``` folder exists, if not it will create it."
   ]
  },
  {
   "cell_type": "code",
   "execution_count": null,
   "id": "1d268b37",
   "metadata": {},
   "outputs": [],
   "source": [
    "def folder_check_model():\n",
    "    # check if the folder for saving the model exists, if not create it\n",
    "    if not os.path.exists('saved_models/{}'.format(model_name)):\n",
    "        os.makedirs('saved_models/{}'.format(model_name))"
   ]
  },
  {
   "cell_type": "markdown",
   "id": "dc176068",
   "metadata": {},
   "source": [
    "Lastly, we create a for loop function that will loop through the dictionary of models and call all the functions above."
   ]
  },
  {
   "cell_type": "code",
   "execution_count": null,
   "id": "564fa546",
   "metadata": {},
   "outputs": [],
   "source": [
    "# loop over all the models\n",
    "for model_name,model in classifiers.items():\n",
    "    # title formatting\n",
    "    print('\\n')\n",
    "    print('\\n')\n",
    "    print('  {}  '.center(50,'-').format(model_name))\n",
    "    print('\\n')\n",
    "    # check if the folder for saving the model exists, if not create it\n",
    "    folder_check_model()\n",
    "    # train the model\n",
    "    model_trn = train_model(model,model_name)\n",
    "    # print the scores from the classification report\n",
    "    score_func(model_trn, model_name)\n",
    "    # plot the ROC curve\n",
    "    roc_curve_func(model_trn,model_name)\n",
    "    # plot the confusion matrix\n",
    "    confusion_matrix_func(model_trn,model_name)\n",
    "    # plot feature importance\n",
    "    feat_importance_plot(model_trn, model_name)\n",
    "    warnings.filterwarnings(\"ignore\")\n"
   ]
  },
  {
   "cell_type": "markdown",
   "id": "931fd0a5",
   "metadata": {},
   "source": [
    "### What metrics to use for this problem?"
   ]
  },
  {
   "cell_type": "markdown",
   "id": "c7fe8aad",
   "metadata": {},
   "source": [
    "Since the objective of this problem is to minimize the risk of credit default for the financial institution, the metrics to use depends on the current economical situation:\n",
    "\n",
    "- During the time of a bull market (when the economy is expending), people feel wealthy and usually are employed. Money is usually cheap and the risk of default is low. The financial institution is able to handle the risk of default therefore is not very strict on giving out credit. The financial institution can handle a number of bad clients as long as the vast majority of applicants are good clients (aka those who payback their credit).In this case, having a good recall (sensitivity) is ideal.\n",
    "- During a bear market (when the economy is contracting), people loose their jobs and their money through the stock market. Many people struggle to meet their financial obligations. The financial institution therefore tend to be more conservative on giving out credit or loans. The financial institution can't afford to give out credit to clients who won't be able to pay back their credit. The financial institution would rather have a smaller number of good clients even if it means that some good clients where denied credit, and ideally not have any bad client. In this case, having a good precision (specificity) is desirable.\n",
    "\n",
    "Note: There is always a trade-off between precision and recall. Choosing the right metrics depends on the problem you are solving.\n",
    "\n",
    "Conclusion: In our case, since we are in the longest bull market (not including the March 2020 flash crash), we will use recall as our metric."
   ]
  },
  {
   "cell_type": "markdown",
   "id": "119177e6",
   "metadata": {},
   "source": [
    "### Top model"
   ]
  },
  {
   "cell_type": "markdown",
   "id": "435211f8",
   "metadata": {},
   "source": [
    "Using the ROC curve and recall, we can that conclude that the best model is:\n",
    "- Gradient boosting classifier"
   ]
  },
  {
   "cell_type": "markdown",
   "id": "9b9e95c6",
   "metadata": {},
   "source": [
    "Now the question that might be asked is how did we choose gradient boosting as the best model?"
   ]
  },
  {
   "cell_type": "markdown",
   "id": "2ede6dd7",
   "metadata": {},
   "source": [
    "Let's look at the picture below"
   ]
  },
  {
   "cell_type": "markdown",
   "id": "30614cb0",
   "metadata": {},
   "source": [
    "![heatmap](../assets/post_cont_image/roc_curve.svg)"
   ]
  },
  {
   "cell_type": "markdown",
   "id": "2fcdf3de",
   "metadata": {},
   "source": [
    "Source: [Wikipedia](https://en.wikipedia.org/wiki/Receiver_operating_characteristic#/media/File:Roc_curve.svg)"
   ]
  },
  {
   "cell_type": "markdown",
   "id": "fe82a1d0",
   "metadata": {},
   "source": [
    "With this ROC curve, we can compare the perfomance of different classifiers. The closer the curve is to the top left corner without actually reaching the far end of the corner, the better the model\n",
    "\n",
    "- Any classifier's ROC below the dashed red line is performing worst than random chance. Random chance is 50% chance of being correct for a binary classifier.\n",
    "- Any classifier with the ROC curve blended with the dashed red line is no better than tossing a fair coin.\n",
    "- The orange curve is slightly better than dashed red line but that would not be considered a good classifier.\n",
    "- The green curve is much better than the orange one but could be better.\n",
    "- Now the blue curve is the best classifier, this curve gets closer to the top left without actually touching the top left corner.\n",
    "- Lastly the \"perfect\" curve that actually touches the top left corner is not a good classifier. You might asked why, well it is because a classifier with this curve is overfitting meaning that it has learn so well on the training data but can't generalize well on the test data."
   ]
  },
  {
   "cell_type": "markdown",
   "id": "3f684957",
   "metadata": {},
   "source": [
    "So what to do when a classifier is overfitting? Well these are the options to deal with this issue:\n",
    "- Use a simplified model by selecting fewer parameters or constraining the model (also called regularization).\n",
    "- Gather more training data.\n",
    "- Discard outliers and fix missing data."
   ]
  },
  {
   "cell_type": "markdown",
   "id": "d8b3d9df",
   "metadata": {},
   "source": [
    "### Test the final model on the test set"
   ]
  },
  {
   "cell_type": "markdown",
   "id": "a18824b6",
   "metadata": {},
   "source": [
    "Now that we have our model trained, we can use it to predict the classes on the test set."
   ]
  },
  {
   "cell_type": "code",
   "execution_count": null,
   "id": "748a82d1",
   "metadata": {},
   "outputs": [],
   "source": [
    "cc_test_copy.head(5)"
   ]
  },
  {
   "cell_type": "markdown",
   "id": "55b177b8",
   "metadata": {},
   "source": [
    "We pass to the scikit-learn pipeline, the test set as we did for the training set to obtain a preprocessed dataset ready for our model."
   ]
  },
  {
   "cell_type": "code",
   "execution_count": null,
   "metadata": {},
   "outputs": [],
   "source": [
    "cc_test_prep = full_pipeline(cc_test_copy)"
   ]
  },
  {
   "cell_type": "markdown",
   "id": "8f02ff6d",
   "metadata": {},
   "source": [
    "We extract the independent variables/features and the target variable and store them into variables ```X_cc_test_prep``` and ```y_cc_test_prep``` respectively."
   ]
  },
  {
   "cell_type": "code",
   "execution_count": null,
   "id": "e48c822c",
   "metadata": {},
   "outputs": [],
   "source": [
    "# split the train data into X and y (target)\n",
    "X_cc_test_prep, y_cc_test_prep = cc_test_prep.loc[:, cc_test_prep.columns != 'Is high risk'], cc_test_prep['Is high risk'].astype('int64')"
   ]
  },
  {
   "cell_type": "markdown",
   "id": "c6137bf3",
   "metadata": {},
   "source": [
    "Next, we train the model"
   ]
  },
  {
   "cell_type": "code",
   "execution_count": null,
   "id": "cc12596c",
   "metadata": {},
   "outputs": [],
   "source": [
    "# train the model\n",
    "model_trn = train_model(classifiers['gradient_boosting'],'gradient_boosting')"
   ]
  },
  {
   "cell_type": "markdown",
   "id": "269e59bb",
   "metadata": {},
   "source": [
    "Then make prediction on the independent variables, we store the prediction in ```final_prediction``` variable."
   ]
  },
  {
   "cell_type": "code",
   "execution_count": null,
   "id": "6b99728d",
   "metadata": {},
   "outputs": [],
   "source": [
    "final_predictions = model_trn.predict(X_cc_test_prep)"
   ]
  },
  {
   "cell_type": "markdown",
   "id": "a8950029",
   "metadata": {},
   "source": [
    "Now we use the ```shape``` method to get the number of rows we have to see if they correspond to the number of rows in the test dataset."
   ]
  },
  {
   "cell_type": "code",
   "execution_count": null,
   "id": "c8c18be1",
   "metadata": {},
   "outputs": [],
   "source": [
    "final_predictions.shape"
   ]
  },
  {
   "cell_type": "markdown",
   "id": "f1d08342",
   "metadata": {},
   "source": [
    "We use the ```sum``` function to compare the prediction that were correct and those that were not. We store the count of the correct predictions in ```n_correct```"
   ]
  },
  {
   "cell_type": "code",
   "execution_count": null,
   "id": "eb525cf6",
   "metadata": {},
   "outputs": [],
   "source": [
    "n_correct = sum(final_predictions == y_cc_test_prep)"
   ]
  },
  {
   "cell_type": "markdown",
   "id": "97a1c895",
   "metadata": {},
   "source": [
    "We divide the number of correct predictions by the total number of predictions to get the accuracy. We acheive a 85% accuracy on the testing set which is very good!"
   ]
  },
  {
   "cell_type": "code",
   "execution_count": null,
   "id": "f608a294",
   "metadata": {},
   "outputs": [],
   "source": [
    "print(n_correct/len(final_predictions))"
   ]
  },
  {
   "cell_type": "markdown",
   "id": "b37ed0f1",
   "metadata": {},
   "source": [
    "### Deploying the model on AWS S3 bucket"
   ]
  },
  {
   "cell_type": "markdown",
   "id": "ce3b31db",
   "metadata": {},
   "source": [
    "Now we will deploy the saved trained model to AWS S3, but what is AWS S3 bucket you may ask?"
   ]
  },
  {
   "cell_type": "markdown",
   "id": "7191d122",
   "metadata": {},
   "source": [
    "AWS S3(which stands for Simple Storage Service) is a cloud storage service that provides access to the storage of data in the cloud. the object stored can be accessed through secret access keys. In our case, we will access the predictions from our model using the secret access key."
   ]
  },
  {
   "cell_type": "markdown",
   "id": "a3aab246",
   "metadata": {},
   "source": [
    "Now, let's store the model on AWS S3. You will need first to create an AWS account."
   ]
  }
 ],
 "metadata": {
  "colab": {
   "collapsed_sections": [
    "ef617426",
    "71feece0",
    "eb6ac952",
    "82b8daa8",
    "43cf4692",
    "e4ef4b64",
    "383a486c",
    "d24b8b90",
    "22b2affe",
    "c9786e58",
    "dae7bc71",
    "62891180",
    "b4837d9f",
    "032271c2",
    "ac1b59bf",
    "750c1952",
    "5d71d8db",
    "bb1b82aa",
    "92fa8814",
    "637435e4",
    "a117639a",
    "4a84ab5f",
    "c96fdc01",
    "dd46cce2",
    "d9f9562a",
    "a53e3e40",
    "b2f11d79",
    "adc52e6f",
    "542165dc",
    "1820631d",
    "fa853213",
    "4802cb32",
    "1bdc73b4",
    "59d18a0f",
    "719010d1",
    "9bfabb3c",
    "f8688612",
    "a341a4d9",
    "bf224df0",
    "e3ef0138",
    "d1bf7741",
    "bb580e40",
    "392a66c6",
    "f3dd9af0",
    "0d3e8cac",
    "f8f3ae43",
    "7e9e0265",
    "bf36a844",
    "e1323b10",
    "e8cdac8a",
    "266e10fe",
    "4cf706ff",
    "66c5e7b5",
    "6a42126b",
    "c6dd1f85",
    "c1a9d426",
    "08c9a89b"
   ],
   "name": "Credit card approval prediction.ipynb",
   "provenance": []
  },
  "interpreter": {
   "hash": "0b79941bf6abfa97c11cce899e2bfe6606585cc2329e00a10bb8e91ee8e76a75"
  },
  "kernelspec": {
   "display_name": "Python 3.10.2",
   "language": "python",
   "name": "python3"
  },
  "language_info": {
   "codemirror_mode": {
    "name": "ipython",
    "version": 3
   },
   "file_extension": ".py",
   "mimetype": "text/x-python",
   "name": "python",
   "nbconvert_exporter": "python",
   "pygments_lexer": "ipython3",
   "version": "3.10.2"
  }
 },
 "nbformat": 4,
 "nbformat_minor": 5
}
